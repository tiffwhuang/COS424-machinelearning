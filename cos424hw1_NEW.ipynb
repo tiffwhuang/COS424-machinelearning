{
  "nbformat": 4,
  "nbformat_minor": 0,
  "metadata": {
    "colab": {
      "name": "cos424hw1_NEW.ipynb",
      "provenance": [],
      "collapsed_sections": []
    },
    "kernelspec": {
      "display_name": "Python 3",
      "language": "python",
      "name": "python3"
    },
    "language_info": {
      "codemirror_mode": {
        "name": "ipython",
        "version": 3
      },
      "file_extension": ".py",
      "mimetype": "text/x-python",
      "name": "python",
      "nbconvert_exporter": "python",
      "pygments_lexer": "ipython3",
      "version": "3.8.3"
    }
  },
  "cells": [
    {
      "cell_type": "markdown",
      "metadata": {
        "id": "Y6GoBeftonJa"
      },
      "source": [
        "# Import Necessary Packages"
      ]
    },
    {
      "cell_type": "code",
      "metadata": {
        "id": "r3j4MVuu_kr8"
      },
      "source": [
        "from google.colab import drive\n",
        "drive.mount('/content/drive')"
      ],
      "execution_count": null,
      "outputs": []
    },
    {
      "cell_type": "code",
      "metadata": {
        "id": "dKW_ND7xwJqi",
        "colab": {
          "base_uri": "https://localhost:8080/"
        },
        "outputId": "8fdbc0fe-7e1d-4173-d49a-12f2be7d9c95"
      },
      "source": [
        "!pip install emoji # https://pypi.org/project/emoji/\n",
        "!pip install zeugma  # https://zeugma.readthedocs.io/\n",
        "!pip install regex # https://docs.python.org/3/library/re.html\n",
        "!pip install nltk  # https://www.nltk.org/\n",
        "!pip install matplotlib.pyplot # https://matplotlib.org/stable/api/_as_gen/matplotlib.pyplot.html\n",
        "!pip intall keras  # https://keras.io/\n",
        "!pip install sklearn # https://scikit-learn.org/\n",
        "\n",
        "import pandas as pd\n",
        "import numpy as np\n",
        "import regex as re\n",
        "import string\n",
        "import keras\n",
        "import nltk\n",
        "import emoji\n",
        "import gc\n",
        "import matplotlib.pyplot as plt\n",
        "import numpy as np\n",
        "\n",
        "from google.colab import files\n",
        "from nltk.corpus import stopwords\n",
        "from nltk.corpus import wordnet\n",
        "from nltk.tokenize import word_tokenize\n",
        "from nltk.stem import WordNetLemmatizer\n",
        "\n",
        "from sklearn.neighbors import KNeighborsClassifier\n",
        "from sklearn.datasets import load_iris\n",
        "from sklearn.linear_model import LogisticRegression\n",
        "from sklearn.feature_extraction.text import CountVectorizer\n",
        "from sklearn.feature_extraction.text import TfidfVectorizer\n",
        "from sklearn.metrics import f1_score\n",
        "from sklearn.naive_bayes import BernoulliNB,  MultinomialNB\n",
        "from sklearn import svm, datasets\n",
        "from sklearn.model_selection import GridSearchCV, train_test_split\n",
        "from sklearn import metrics\n",
        "from sklearn.metrics import roc_curve, roc_auc_score\n",
        "from sklearn.neighbors import KNeighborsClassifier\n",
        "from sklearn.model_selection  import cross_val_score\n",
        "from sklearn.utils import compute_class_weight\n",
        "from sklearn.ensemble import RandomForestClassifier\n",
        "\n",
        "\n",
        "from keras.callbacks import ModelCheckpoint, ReduceLROnPlateau\n",
        "from keras.models import Model\n",
        "from keras.layers import Dense, Embedding, Bidirectional, GlobalAveragePooling1D, GlobalMaxPooling1D, concatenate, Input, Dropout, GRU\n",
        "from keras.optimizers import Adam\n",
        "from keras.preprocessing.text import Tokenizer\n",
        "from keras.preprocessing.sequence import pad_sequences\n",
        "from keras.layers import LSTM\n",
        "from keras import backend as K\n",
        "\n",
        "nltk.download('stopwords')\n",
        "nltk.download('punkt')\n",
        "nltk.download('wordnet')\n",
        "nltk.download('averaged_perceptron_tagger')\n",
        "\n",
        "stop_words = set(stopwords.words('english')) - {'all'}"
      ],
      "execution_count": null,
      "outputs": [
        {
          "output_type": "stream",
          "text": [
            "Collecting emoji\n",
            "  Using cached https://files.pythonhosted.org/packages/24/fa/b3368f41b95a286f8d300e323449ab4e86b85334c2e0b477e94422b8ed0f/emoji-1.2.0-py3-none-any.whl\n",
            "Installing collected packages: emoji\n",
            "Successfully installed emoji-1.2.0\n",
            "Requirement already satisfied: zeugma in /usr/local/lib/python3.7/dist-packages (0.48)\n",
            "Requirement already satisfied: tensorflow>=1.5.0 in /usr/local/lib/python3.7/dist-packages (from zeugma) (2.4.1)\n",
            "Requirement already satisfied: gensim>=3.5.0 in /usr/local/lib/python3.7/dist-packages (from zeugma) (3.6.0)\n",
            "Requirement already satisfied: numpy>=1.13.3 in /usr/local/lib/python3.7/dist-packages (from zeugma) (1.19.5)\n",
            "Requirement already satisfied: pandas>=0.20.3 in /usr/local/lib/python3.7/dist-packages (from zeugma) (1.1.5)\n",
            "Requirement already satisfied: Cython>=0.27.3 in /usr/local/lib/python3.7/dist-packages (from zeugma) (0.29.21)\n",
            "Requirement already satisfied: keras>=2.1.3 in /usr/local/lib/python3.7/dist-packages (from zeugma) (2.4.3)\n",
            "Requirement already satisfied: scikit-learn>=0.19.1 in /usr/local/lib/python3.7/dist-packages (from zeugma) (0.22.2.post1)\n",
            "Requirement already satisfied: typing-extensions~=3.7.4 in /usr/local/lib/python3.7/dist-packages (from tensorflow>=1.5.0->zeugma) (3.7.4.3)\n",
            "Requirement already satisfied: flatbuffers~=1.12.0 in /usr/local/lib/python3.7/dist-packages (from tensorflow>=1.5.0->zeugma) (1.12)\n",
            "Requirement already satisfied: absl-py~=0.10 in /usr/local/lib/python3.7/dist-packages (from tensorflow>=1.5.0->zeugma) (0.10.0)\n",
            "Requirement already satisfied: protobuf>=3.9.2 in /usr/local/lib/python3.7/dist-packages (from tensorflow>=1.5.0->zeugma) (3.12.4)\n",
            "Requirement already satisfied: grpcio~=1.32.0 in /usr/local/lib/python3.7/dist-packages (from tensorflow>=1.5.0->zeugma) (1.32.0)\n",
            "Requirement already satisfied: astunparse~=1.6.3 in /usr/local/lib/python3.7/dist-packages (from tensorflow>=1.5.0->zeugma) (1.6.3)\n",
            "Requirement already satisfied: keras-preprocessing~=1.1.2 in /usr/local/lib/python3.7/dist-packages (from tensorflow>=1.5.0->zeugma) (1.1.2)\n",
            "Requirement already satisfied: opt-einsum~=3.3.0 in /usr/local/lib/python3.7/dist-packages (from tensorflow>=1.5.0->zeugma) (3.3.0)\n",
            "Requirement already satisfied: six~=1.15.0 in /usr/local/lib/python3.7/dist-packages (from tensorflow>=1.5.0->zeugma) (1.15.0)\n",
            "Requirement already satisfied: gast==0.3.3 in /usr/local/lib/python3.7/dist-packages (from tensorflow>=1.5.0->zeugma) (0.3.3)\n",
            "Requirement already satisfied: h5py~=2.10.0 in /usr/local/lib/python3.7/dist-packages (from tensorflow>=1.5.0->zeugma) (2.10.0)\n",
            "Requirement already satisfied: google-pasta~=0.2 in /usr/local/lib/python3.7/dist-packages (from tensorflow>=1.5.0->zeugma) (0.2.0)\n",
            "Requirement already satisfied: wheel~=0.35 in /usr/local/lib/python3.7/dist-packages (from tensorflow>=1.5.0->zeugma) (0.36.2)\n",
            "Requirement already satisfied: termcolor~=1.1.0 in /usr/local/lib/python3.7/dist-packages (from tensorflow>=1.5.0->zeugma) (1.1.0)\n",
            "Requirement already satisfied: tensorflow-estimator<2.5.0,>=2.4.0 in /usr/local/lib/python3.7/dist-packages (from tensorflow>=1.5.0->zeugma) (2.4.0)\n",
            "Requirement already satisfied: tensorboard~=2.4 in /usr/local/lib/python3.7/dist-packages (from tensorflow>=1.5.0->zeugma) (2.4.1)\n",
            "Requirement already satisfied: wrapt~=1.12.1 in /usr/local/lib/python3.7/dist-packages (from tensorflow>=1.5.0->zeugma) (1.12.1)\n",
            "Requirement already satisfied: smart-open>=1.2.1 in /usr/local/lib/python3.7/dist-packages (from gensim>=3.5.0->zeugma) (4.2.0)\n",
            "Requirement already satisfied: scipy>=0.18.1 in /usr/local/lib/python3.7/dist-packages (from gensim>=3.5.0->zeugma) (1.4.1)\n",
            "Requirement already satisfied: python-dateutil>=2.7.3 in /usr/local/lib/python3.7/dist-packages (from pandas>=0.20.3->zeugma) (2.8.1)\n",
            "Requirement already satisfied: pytz>=2017.2 in /usr/local/lib/python3.7/dist-packages (from pandas>=0.20.3->zeugma) (2018.9)\n",
            "Requirement already satisfied: pyyaml in /usr/local/lib/python3.7/dist-packages (from keras>=2.1.3->zeugma) (3.13)\n",
            "Requirement already satisfied: joblib>=0.11 in /usr/local/lib/python3.7/dist-packages (from scikit-learn>=0.19.1->zeugma) (1.0.1)\n",
            "Requirement already satisfied: setuptools in /usr/local/lib/python3.7/dist-packages (from protobuf>=3.9.2->tensorflow>=1.5.0->zeugma) (53.0.0)\n",
            "Requirement already satisfied: requests<3,>=2.21.0 in /usr/local/lib/python3.7/dist-packages (from tensorboard~=2.4->tensorflow>=1.5.0->zeugma) (2.23.0)\n",
            "Requirement already satisfied: tensorboard-plugin-wit>=1.6.0 in /usr/local/lib/python3.7/dist-packages (from tensorboard~=2.4->tensorflow>=1.5.0->zeugma) (1.8.0)\n",
            "Requirement already satisfied: google-auth<2,>=1.6.3 in /usr/local/lib/python3.7/dist-packages (from tensorboard~=2.4->tensorflow>=1.5.0->zeugma) (1.27.0)\n",
            "Requirement already satisfied: google-auth-oauthlib<0.5,>=0.4.1 in /usr/local/lib/python3.7/dist-packages (from tensorboard~=2.4->tensorflow>=1.5.0->zeugma) (0.4.2)\n",
            "Requirement already satisfied: werkzeug>=0.11.15 in /usr/local/lib/python3.7/dist-packages (from tensorboard~=2.4->tensorflow>=1.5.0->zeugma) (1.0.1)\n",
            "Requirement already satisfied: markdown>=2.6.8 in /usr/local/lib/python3.7/dist-packages (from tensorboard~=2.4->tensorflow>=1.5.0->zeugma) (3.3.3)\n",
            "Requirement already satisfied: chardet<4,>=3.0.2 in /usr/local/lib/python3.7/dist-packages (from requests<3,>=2.21.0->tensorboard~=2.4->tensorflow>=1.5.0->zeugma) (3.0.4)\n",
            "Requirement already satisfied: idna<3,>=2.5 in /usr/local/lib/python3.7/dist-packages (from requests<3,>=2.21.0->tensorboard~=2.4->tensorflow>=1.5.0->zeugma) (2.10)\n",
            "Requirement already satisfied: urllib3!=1.25.0,!=1.25.1,<1.26,>=1.21.1 in /usr/local/lib/python3.7/dist-packages (from requests<3,>=2.21.0->tensorboard~=2.4->tensorflow>=1.5.0->zeugma) (1.24.3)\n",
            "Requirement already satisfied: certifi>=2017.4.17 in /usr/local/lib/python3.7/dist-packages (from requests<3,>=2.21.0->tensorboard~=2.4->tensorflow>=1.5.0->zeugma) (2020.12.5)\n",
            "Requirement already satisfied: rsa<5,>=3.1.4; python_version >= \"3.6\" in /usr/local/lib/python3.7/dist-packages (from google-auth<2,>=1.6.3->tensorboard~=2.4->tensorflow>=1.5.0->zeugma) (4.7.1)\n",
            "Requirement already satisfied: pyasn1-modules>=0.2.1 in /usr/local/lib/python3.7/dist-packages (from google-auth<2,>=1.6.3->tensorboard~=2.4->tensorflow>=1.5.0->zeugma) (0.2.8)\n",
            "Requirement already satisfied: cachetools<5.0,>=2.0.0 in /usr/local/lib/python3.7/dist-packages (from google-auth<2,>=1.6.3->tensorboard~=2.4->tensorflow>=1.5.0->zeugma) (4.2.1)\n",
            "Requirement already satisfied: requests-oauthlib>=0.7.0 in /usr/local/lib/python3.7/dist-packages (from google-auth-oauthlib<0.5,>=0.4.1->tensorboard~=2.4->tensorflow>=1.5.0->zeugma) (1.3.0)\n",
            "Requirement already satisfied: importlib-metadata; python_version < \"3.8\" in /usr/local/lib/python3.7/dist-packages (from markdown>=2.6.8->tensorboard~=2.4->tensorflow>=1.5.0->zeugma) (3.4.0)\n",
            "Requirement already satisfied: pyasn1>=0.1.3 in /usr/local/lib/python3.7/dist-packages (from rsa<5,>=3.1.4; python_version >= \"3.6\"->google-auth<2,>=1.6.3->tensorboard~=2.4->tensorflow>=1.5.0->zeugma) (0.4.8)\n",
            "Requirement already satisfied: oauthlib>=3.0.0 in /usr/local/lib/python3.7/dist-packages (from requests-oauthlib>=0.7.0->google-auth-oauthlib<0.5,>=0.4.1->tensorboard~=2.4->tensorflow>=1.5.0->zeugma) (3.1.0)\n",
            "Requirement already satisfied: zipp>=0.5 in /usr/local/lib/python3.7/dist-packages (from importlib-metadata; python_version < \"3.8\"->markdown>=2.6.8->tensorboard~=2.4->tensorflow>=1.5.0->zeugma) (3.4.0)\n",
            "Requirement already satisfied: regex in /usr/local/lib/python3.7/dist-packages (2019.12.20)\n",
            "Requirement already satisfied: nltk in /usr/local/lib/python3.7/dist-packages (3.2.5)\n",
            "Requirement already satisfied: six in /usr/local/lib/python3.7/dist-packages (from nltk) (1.15.0)\n",
            "\u001b[31mERROR: Could not find a version that satisfies the requirement matplotlib.pyplot (from versions: none)\u001b[0m\n",
            "\u001b[31mERROR: No matching distribution found for matplotlib.pyplot\u001b[0m\n",
            "ERROR: unknown command \"intall\" - maybe you meant \"install\"\n",
            "Requirement already satisfied: sklearn in /usr/local/lib/python3.7/dist-packages (0.0)\n",
            "Requirement already satisfied: scikit-learn in /usr/local/lib/python3.7/dist-packages (from sklearn) (0.22.2.post1)\n",
            "Requirement already satisfied: joblib>=0.11 in /usr/local/lib/python3.7/dist-packages (from scikit-learn->sklearn) (1.0.1)\n",
            "Requirement already satisfied: numpy>=1.11.0 in /usr/local/lib/python3.7/dist-packages (from scikit-learn->sklearn) (1.19.5)\n",
            "Requirement already satisfied: scipy>=0.17.0 in /usr/local/lib/python3.7/dist-packages (from scikit-learn->sklearn) (1.4.1)\n",
            "[nltk_data] Downloading package stopwords to /root/nltk_data...\n",
            "[nltk_data]   Unzipping corpora/stopwords.zip.\n",
            "[nltk_data] Downloading package punkt to /root/nltk_data...\n",
            "[nltk_data]   Unzipping tokenizers/punkt.zip.\n",
            "[nltk_data] Downloading package wordnet to /root/nltk_data...\n",
            "[nltk_data]   Unzipping corpora/wordnet.zip.\n",
            "[nltk_data] Downloading package averaged_perceptron_tagger to\n",
            "[nltk_data]     /root/nltk_data...\n",
            "[nltk_data]   Unzipping taggers/averaged_perceptron_tagger.zip.\n"
          ],
          "name": "stdout"
        }
      ]
    },
    {
      "cell_type": "markdown",
      "metadata": {
        "id": "JJJEYdJpDSg9"
      },
      "source": [
        "# Preprocessing"
      ]
    },
    {
      "cell_type": "code",
      "metadata": {
        "id": "cunU8zjb5CTB"
      },
      "source": [
        "# Gets the part of speech tag of word for lemmatization\n",
        "# This function is based on code from:\n",
        "#   https://www.machinelearningplus.com/nlp/lemmatization-examples-python/\n",
        "def get_wordnet_pos(word):\n",
        "    tag = nltk.pos_tag([word])[0][1][0].upper()\n",
        "    tag_dict = {\"J\": wordnet.ADJ,\n",
        "                \"N\": wordnet.NOUN,\n",
        "                \"V\": wordnet.VERB,\n",
        "                \"R\": wordnet.ADV}\n",
        "    return tag_dict.get(tag, wordnet.NOUN)\n",
        "\n",
        "# Preprocesses the tweets text\n",
        "# This function is based on code from:\n",
        "#   https://www.pluralsight.com/guides/building-a-twitter-sentiment-analysis-in-python\n",
        "\n",
        "# Preprocessing takes in a tweet and a boolean determining if the preprocessing\n",
        "# is for the GloVe embeddings or for other classifiers\n",
        "# default value is: False\n",
        "\n",
        "def preprocess_text(tweet, glove):\n",
        "    # Changes emojis to words\n",
        "    tweet = emoji.demojize(tweet,  delimiters=(' ', ' '))\n",
        "    # Removes 'RT' from tweet\n",
        "    tweet = re.sub(r'RT[\\s]+', '', tweet)\n",
        "    # Removes capitalization\n",
        "    tweet = tweet.lower()\n",
        "    # Removes single characters\n",
        "    if glove: tweet = re.sub(r'\\s+[a-zA-Z]\\s+', ' ', tweet)\n",
        "    # Removes all hashtags\n",
        "    if glove: tweet = re.sub(r'#[a-zA-Z0-9]+\\s+', ' ', tweet)\n",
        "    # Removes all special characters\n",
        "    if glove: tweet = re.sub(r'\\W', ' ', tweet)\n",
        "    #Removes Punctuation\n",
        "    tweet = re.sub(r'\\p{P}+', '', tweet)\n",
        "    #Removes multiple spaces with single space\n",
        "    if glove: tweet = re.sub(r'\\s+', ' ', tweet, flags=re.MULTILINE)\n",
        "    #Remove \"blacklivesmatter\"\n",
        "    if glove: tweet = re.sub(r'blacklivesmatter', '', tweet)\n",
        "    # Removes all special characters\n",
        "    if glove: tweet = re.sub(r'\\W', ' ', tweet)\n",
        "    #Removes Punctuation\n",
        "    tweet = re.sub(r'\\p{P}+', '', tweet)\n",
        "    #Removes multiple spaces with single space\n",
        "    if glove: tweet = re.sub(r'\\s+', ' ', tweet, flags=re.MULTILINE)\n",
        "    # Removes stopwords\n",
        "    tokens = [w for w in word_tokenize(tweet) if not w in stop_words]\n",
        "    # Perfoms lemmatization on tokens\n",
        "    lemmatizer = WordNetLemmatizer()\n",
        "    lemma_words = [lemmatizer.lemmatize(w, get_wordnet_pos(w)) for w in tokens]\n",
        "    return \" \".join(lemma_words)\n",
        "\n",
        "# Preprocesses the text of the Tweets in the df and returns the df\n",
        "# By default, this removes the Tweets with the \"neither\" label\n",
        "def preprocess_df(df, glove, remove_neither=True):\n",
        "  idx = \"text\"\n",
        "  length = len(df[idx])\n",
        "  for ii in range(length):\n",
        "    tweet = str(df[idx][ii])\n",
        "    df.loc[ii, idx] = preprocess_text(tweet, glove)\n",
        "  if (remove_neither):\n",
        "    return df[df['BLM'] != \"neither\"]\n",
        "  else:\n",
        "    return df"
      ],
      "execution_count": null,
      "outputs": []
    },
    {
      "cell_type": "code",
      "metadata": {
        "id": "Ow-WoTXPkSts",
        "scrolled": false
      },
      "source": [
        "\n",
        "# Retrieves and preprocesses the training dataset\n",
        "\n",
        "# path = files.upload() # if using Google Colab directly\n",
        "path = r\"/content/drive/Shareddrives/COS424/combined_train.csv\" # Path to Train_dataset.csv\n",
        "train_df = pd.read_csv(path)\n",
        "train_df.fillna(\"\", inplace=True) # fills any NaN values with empty strings\n",
        "glove_boolean = False; # optimize preprocessing for GloVe (default: false)\n",
        "train_df = preprocess_df(train_df, glove_boolean)"
      ],
      "execution_count": null,
      "outputs": []
    },
    {
      "cell_type": "code",
      "metadata": {
        "id": "noEV2VuUgzmj"
      },
      "source": [
        "\n",
        "# Uses a TfidfVectorizer to construct bag-of-words matrix\n",
        "# vectorizer = TfidfVectorizer(ngram_range=(1, 2), min_df=2, binary=True, stop_words=None) # default max_features (i.e. none) & 1 to 3-gram_rang\n",
        "default = True # set to False for SVC-optimized vectorizer\n",
        "\n",
        "if default: vectorizer = TfidfVectorizer() # for Naive Bayes\n",
        "else: vectorizer = TfidfVectorizer(ngram_range=(1,2), max_features=12000) # for SVC\n",
        "\n",
        "# train_vocab is an 2d array of the vocab from the training dataset \n",
        "train_vocab = vectorizer.fit_transform(train_df['text'])\n",
        "# train_hash = vectorizer.fit_transform(train_df['hashtags'])\n",
        "\n",
        "# train_vocab_df is a dataframe where the element ij is the number of times word j occurred in Tweet i\n",
        "# train_vocab_df = pd.DataFrame(train_vocab, columns=vectorizer.get_feature_names())\n",
        "train_labels = train_df['BLM']\n",
        "\n",
        "# Retrieves and preprocesses the test dataset\n",
        "# test = files.upload()\n",
        "path = r\"/content/drive/Shareddrives/COS424/combined_test.csv\" # Path to Test_dataset.csv\n",
        "test_df = pd.read_csv(path)\n",
        "test_df.fillna(\"\", inplace=True) # fills any NaN values with empty strings\n",
        "test_df = preprocess_df(test_df, glove_boolean)\n",
        "\n",
        "# Uses the vocab from the training dataset to vectorize the test dataset\n",
        "test_vocab = vectorizer.transform(test_df['text'])\n",
        "# test_hash = vectorizer.fit_transform(test_df['hashtags'])\n",
        "\n",
        "test_labels = test_df['BLM']"
      ],
      "execution_count": null,
      "outputs": []
    },
    {
      "cell_type": "markdown",
      "metadata": {
        "id": "USs6SpclB4Su"
      },
      "source": [
        "# Recurrent Neural Network"
      ]
    },
    {
      "cell_type": "markdown",
      "metadata": {
        "id": "CJV3_GfmX2pU"
      },
      "source": [
        "Necessary Functions for GloVe Embedding"
      ]
    },
    {
      "cell_type": "code",
      "metadata": {
        "id": "WTchbEbCB4Sz"
      },
      "source": [
        "# All of the functions in this section are based on https://www.kaggle.com/theoviel/improve-your-score-with-text-preprocessing-v2"
      ],
      "execution_count": null,
      "outputs": []
    },
    {
      "cell_type": "code",
      "metadata": {
        "id": "uOWUcXLjQMRS"
      },
      "source": [
        "# Loadand split vector embedding by index\n",
        "def load_embed(file):\n",
        "    embeddings_index = dict(get_coefs(*o.split(\" \")) for o in open(file, encoding='latin'))\n",
        "    return embeddings_index"
      ],
      "execution_count": null,
      "outputs": []
    },
    {
      "cell_type": "code",
      "metadata": {
        "id": "BnCtN3a7RI-T"
      },
      "source": [
        "# build vocabulary using embeddings\n",
        "def build_vocab(texts):\n",
        "  vocab = {}\n",
        "  for tweet in texts:\n",
        "    sentences = tweet.split()\n",
        "    for word in sentences:\n",
        "      ## for word in texts:\n",
        "      ## for word in tweet:\n",
        "            try:\n",
        "                vocab[word] += 1\n",
        "            except KeyError:\n",
        "                vocab[word] = 1\n",
        "\n",
        "  return vocab"
      ],
      "execution_count": null,
      "outputs": []
    },
    {
      "cell_type": "code",
      "metadata": {
        "id": "puZQFe21B4Sz"
      },
      "source": [
        " # get coefficients \n",
        "  def get_coefs(word,*arr): \n",
        "        return word, np.asarray(arr, dtype='float32')"
      ],
      "execution_count": null,
      "outputs": []
    },
    {
      "cell_type": "code",
      "metadata": {
        "id": "qdwV-Eu2RIlI"
      },
      "source": [
        "# evaluate vector model by assessing vocab and text coverage on training set\n",
        "def check_coverage(vocab, embeddings_index):\n",
        "    import operator \n",
        "    known_words = {}\n",
        "    unknown_words = {}\n",
        "    nb_known_words = 0\n",
        "    nb_unknown_words = 0\n",
        "    for word in vocab.keys():\n",
        "        try:\n",
        "            known_words[word] = embeddings_index[word]\n",
        "            nb_known_words += vocab[word]\n",
        "        except:\n",
        "            unknown_words[word] = vocab[word]\n",
        "            nb_unknown_words += vocab[word]\n",
        "            pass\n",
        "\n",
        "    print('Found embeddings for {:.3%} of vocab'.format(len(known_words) / len(vocab)))\n",
        "    print('Found embeddings for  {:.3%} of all text'.format(nb_known_words / (nb_known_words + nb_unknown_words)))\n",
        "    unknown_words = sorted(unknown_words.items(), key=operator.itemgetter(1))[::-1]\n",
        "\n",
        "    return unknown_words"
      ],
      "execution_count": null,
      "outputs": []
    },
    {
      "cell_type": "code",
      "metadata": {
        "colab": {
          "base_uri": "https://localhost:8080/"
        },
        "id": "ZI2DrGhJRIWc",
        "outputId": "0b3a427b-4138-4538-a9ec-a8ed6244ae1b"
      },
      "source": [
        "vocab = build_vocab(train_df['text'])\n",
        "print(vocab)      # full vocabulary in training set"
      ],
      "execution_count": null,
      "outputs": [
        {
          "output_type": "stream",
          "text": [
            "{'great': 56, 'oped': 1, 'amp': 460, 'well': 132, 'worth': 18, 'read': 49, 'god': 40, 'bless': 12, 'thin': 1, 'blue': 24, 'line': 21, 'redcircle': 1, 'whitecircle': 1, 'bluecircle': 1, 'backtheblue': 10, 'bluelivesmatter': 142, 'maga': 7, 'thank': 62, 'all': 979, 'police': 482, 'first': 44, 'responder': 3, 'foldedhands': 9, 'truly': 16, 'take': 183, 'servant': 1, 'h': 4, 'mlk': 34, 'would': 118, 'sad': 44, 'learn': 31, 'u': 372, 'dont': 389, 'support': 158, 'human': 52, 'right': 200, 'life': 1044, 'unborn': 5, 'black': 1111, 'girls+boys': 1, 'matter': 904, 'matterjohnlewis': 1, 'obama': 64, 'friend': 44, 'harvey': 2, 'weinstein': 1, 'urge': 6, 'clinton': 20, 'campaign': 33, 'silence': 36, 'sander': 50, 'blacklivesmatter': 5971, 'message': 30, 'buildthewall': 2, 'want': 139, 'look': 93, 'filthy': 2, 'cleaning': 3, 'ccot': 6, 'tcot': 54, 'veteran': 6, '2a': 2, 'nra': 6, 'freedom': 30, 'never': 71, 'voluntarily': 3, 'give': 71, 'oppressor': 4, 'must': 88, 'demand': 53, 'oppress': 8, 'raisedfistmediumdarkskintone': 20, 'blm': 54, 'ina': 1, 'know': 186, 'useful': 2, 'privilege': 28, 'power': 52, 'nodapl': 1, 'able': 8, 'heard': 27, 'witho': 1, 'real': 69, 'photo': 25, 'day': 110, 'redheart': 15, 'grinningfacewithbigeyes': 2, 'womensmarch': 1, 'womensmarchla': 1, 'losangeles': 6, 'equality': 23, 'blacklove': 3, 'essencemagazine': 2, '19': 7, 'month': 32, 'old': 40, '300': 1, 'word': 48, 'count': 10, '50': 5, 'teach': 26, 'child': 45, 'becomes': 3, 'thing': 88, 'white': 472, 'people': 544, 'show': 126, 'harder': 4, 'authority': 5, 'discredit': 8, 'trumpists': 1, 'secret': 5, 'service': 12, 'agent': 5, 'fire': 39, 'antitrump': 1, 'post': 58, 'cop': 304, 'kill': 289, 'kid': 62, 'hold': 33, 'toy': 4, 'gun': 74, 'smallbluediamond': 4, 'always': 56, 'blueheart': 9, 'community': 63, 'appreciate': 13, 'effort': 4, 'clear': 16, 'alllivesmatter': 611, 'wasnt': 17, 'movement': 240, 'dismissive': 2, 'response': 46, 'anyone': 36, 'actually': 27, 'experienced': 1, 'inequalit': 1, 'youre': 75, 'mad': 20, 'trump': 28, 'holocaust': 4, 'statement': 26, 'didnt': 57, 'mention': 16, 'jew': 7, 'others': 33, 'suffer': 8, 'hurt': 23, 'anybody': 5, 'lately': 7, 'here': 31, 'liberal': 26, 'new': 117, 'fave': 2, 'promote': 11, 'chicago': 55, 'kidnapping': 3, 'attack': 53, 'apparently': 10, 'b': 47, 'martinlutherking': 3, 'dream': 14, 'plot': 4, 'supremacy': 28, 'ihaveadream': 5, 'blackhistory': 7, 'ed': 3, 'buck': 3, 'drug': 8, 'gay': 16, 'men': 73, 'use': 87, 'sexual': 3, 'pleasure': 3, 'second': 17, 'boy': 33, 'found': 13, 'hi': 3, 'major': 10, 'donor': 1, 'weigh': 2, 'funding': 8, '2nd': 8, 'annual': 3, 'love': 107, 'block': 29, 'party': 24, 'oct': 4, '22': 6, 'oak': 3, 'park': 16, 'remember': 39, 'adrieneludd': 1, 'celebrate': 14, 'htt': 8, 'family': 72, 'member': 26, 'whiteprivilege': 17, 'hardconversations': 1, 'son': 23, 'like': 251, 'bill': 32, 'mediablackout': 1, 'clintonkid': 1, 'canttrustclinton': 1, '61': 1, 'increase': 3, 'officer': 98, '2016': 19, 'war': 38, 'begin': 19, 'end': 81, 'ht': 10, 'try': 75, 'convince': 3, 'live': 73, 'side': 24, 'town': 15, 'guess': 23, 'im': 198, 'gon': 27, 'na': 46, 'keep': 82, 'quiet': 10, 'one': 209, 'hate': 91, 'call': 111, 'racist': 180, 'geez': 2, 'free': 49, 'pork': 1, 'chop': 1, 'misread': 1, 'sign': 49, 'stop': 209, 'answer': 43, 'jr': 11, 'inspire': 13, 'nyc': 70, 'network': 4, 'us': 7, 'previously': 1, 'jail': 28, 'mission': 9, 'silencekills': 1, 'sick': 25, 'university': 12, 'say': 461, 'whitelivesmatter': 27, 'speech': 21, 'encourage': 5, 'americafirst': 1, 'trump2020': 1, 'raiseact': 1, 'enddaca': 1, 'agree': 32, 'protester': 114, 'stag': 4, 'diein': 15, 'death': 94, 'keith': 1, 'lamont': 2, 'scott': 10, 'allow': 20, 'stand': 105, 'shot': 110, 'dead': 31, 'reason': 35, 'morintoon': 1, 'gop': 20, 'charlotte': 1, 'tul': 1, 'back': 78, 'ill': 28, 'also': 44, 'exercise': 3, 'amendment': 6, 'coward': 6, 'see': 178, 'sticker': 2, 'car': 19, 'ram': 5, 'vehicle': 3, 'much': 70, 'law': 57, 'enforcement': 22, 'sent': 7, 'damn': 34, 'takeaknee': 2, 'nfl': 15, 'player': 13, 'continue': 40, 'defiance': 1, 'supremacist': 14, 'donald': 7, 'attn': 3, 'fbi': 16, 'come': 111, 'talk': 110, 'politely': 1, 'tell': 76, 'youll': 10, 'speak': 59, 'lawyer': 9, 'cant': 117, 'stress': 2, 'eno': 1, 'trumppence16': 1, 'brexit': 1, 'leaveeu': 1, 'closeourborders': 1, 'bluehand': 1, 'congratulation': 3, 'deserve': 17, 'honor': 27, 'rip': 54, 'baby': 22, 'girl': 25, 'think': 122, 'sentence': 8, 'oxygenthief': 1, 'warn': 4, 'story': 50, 'faint': 2, 'heart': 34, '1': 51, 'india': 3, 'america': 140, 'everyone': 65, 'stare': 2, 'stick': 4, 'takeakneenfl': 1, 'respectful': 3, 'protest': 298, 'could': 45, 'make': 183, 'infuriates': 1, 'work': 97, 'aaron': 3, 'peirano': 1, 'garrison': 1, 'question': 69, 'justice': 190, 'color': 65, 'era': 5, 'screen': 4, 'acclaim': 1, 'enough': 46, 'brother': 35, 'sister': 20, 'respect': 48, 'foldedhandslightskintone': 1, 'rednationrising': 5, 'chartincreasing': 1, 'unitedstates': 5, 'presidentelect': 1, '==gt': 1, 'please': 99, 'pray': 33, 'safety': 7, 'thanksgiving': 4, 'president': 34, 'address': 28, 'animalistic': 1, 'violent': 17, 'behavior': 7, 'national': 22, 'anthem': 4, 'played': 9, 'backthepolice': 1, 'wait': 40, 'dude': 11, 'riot': 31, 'echo': 3, 'pleaseeeee': 1, 'uh': 2, 'voice': 39, 'castro': 3, 'harbor': 1, 'copkillers': 1, 'via': 259, 'county': 10, 'recruit': 1, 'bush': 13, 'he': 31, 'go': 236, 'find': 27, 'start': 93, 'run': 33, 'world': 87, 'consequence': 7, 'political': 25, 'ideological': 1, 'drive': 8, 'execution': 7, 'class': 14, 'poor': 14, 'mess': 6, 'nationalist': 2, 'narrative': 18, 'let': 133, 'play': 17, 'mean': 66, 'culture': 12, 'way': 84, '4givhim': 1, 'rtamppurchase': 1, 'govblack': 1, 'russelllee': 1, 'sayhername': 49, 'middlefinger': 2, 'forgot': 7, 'simpson': 1, 'peoplesmonday': 3, 'street': 59, 'edsonthevenin': 1, 'nypd': 62, 'follow': 41, 'closely': 1, 'disgust': 17, 'blackdisabledlivesmatter': 1, 'michael': 34, 'brown': 58, '2014': 20, 'year': 96, '126': 1, 'name': 34, 'drainthem': 1, 'knee': 2, 'facewithtearsofjoy': 28, 'empty': 1, 'seat': 4, 'outnumber': 1, 'actual': 5, 'spectator': 1, '=': 25, 'backhandindexpointingright': 3, 'fan': 7, 'left': 20, 'boycottnfl': 2, 'hm': 2, 'share': 37, 'bring': 36, 'awareness': 12, 'incident': 7, 'stopabusingblackkids': 1, 'heartbreaking': 6, 'female': 6, '25': 5, 'thanks': 34, 'away': 48, 'video': 73, 'inexplicable': 1, 'infuriate': 2, 'tragic': 10, 'exclamationquestionmark': 5, 'stay': 31, 'silent': 27, 'tbh': 3, 'hairspraylive': 1, 'kindly': 2, 'delete': 5, 'least': 18, '64000': 2, 'woman': 112, 'miss': 46, 'since': 35, 'findourgirls': 2, 'protectourwomen': 2, 'nothing': 49, 'youve': 14, 'ashamed': 3, 'interest': 12, 'good': 83, 'fam': 4, 'blacklives': 7, 'welcome': 7, 'latino': 9, 'asylumislegalimmigration': 1, 'kick': 11, 'trumpsareadisasterforamerica': 1, 'wwp': 1, 'contingent': 3, 'march': 128, 'hkonj': 2, 'today': 153, 'nc': 11, 'alongside': 2, 'topple': 1, 'racism': 153, 'job': 41, 'smashwhitesu': 1, 'news': 73, 'frustrates': 1, 'many': 78, 'level': 6, 'nojusticenopeace': 27, 'billionaire': 3, 'george': 17, 'soro': 1, 'fund': 27, 'blk': 19, 'ppl': 91, 'divide': 14, 'conquer': 5, 'strategy': 5, 'dear': 17, 'resistor': 1, 'watch': 84, 'get': 353, 'administration': 1, 'past': 16, 'time': 173, 'e': 6, 'reprehensible': 1, 'metro': 3, 'rider': 2, 'school': 38, 'student': 64, 'teacher': 7, 'situation': 14, 'unfold': 1, 'south': 22, 'florida': 6, 'schoolshooting': 1, 'parkland': 2, 'speaks': 19, 'meeting': 19, 'tonight': 51, 'justice4mariowoods': 2, 'completely': 13, 'ignore': 20, 'struggle': 20, 'poc': 21, 'stupid': 28, 'man': 148, 'lawsuit': 5, 'trayvonmartin': 11, 'february': 3, 'recognize': 8, 'blackfuturesmonth': 1, 'feminist': 10, 'future': 18, 'speci': 1, 'mt': 34, 'bit': 8, 'motivation': 1, 'thursday': 6, 'thinblueline': 4, 'pjnet': 24, 'socialism': 1, 'popular': 5, 'education': 21, 'fight': 105, 'ussr': 1, 'antiracism': 3, 'hislifemattered': 1, 'blackhistorymonth': 5, 'generalize': 2, 'truth': 50, 'point': 62, 'anti': 5, 'blackness': 9, 'folk': 50, 'feel': 60, 'incessant': 1, 'reckless': 1, 'public': 28, 'activist': 99, 'file': 3, 'baltimore': 105, 'mayor': 16, 'report': 25, 'whereas': 1, 'place': 28, 'practice': 10, 'equity': 4, 'building': 7, 'understand': 63, 'active': 5, 'engagement': 4, 'create': 34, 'pathway': 1, 'amen': 7, 'do': 31, 'pg': 2, 'milln': 1, 'hear': 47, 'candidate': 34, 'vow': 4, 'civilrightsact': 1, 'happy': 25, 'birthday': 11, 'trayvon': 14, 'martin': 28, 'wont': 49, 'forget': 31, 'protrump': 1, 'super': 4, 'pac': 2, 'sheriff': 12, 'david': 5, 'clarke': 4, 'deny': 9, 'existence': 3, 'brutality': 58, 'equate': 4, 'blacklive': 1, 'ready': 19, 'part': 43, 'formation': 1, 'beyonce': 4, 'bey': 1, 'pmathis': 1, 'bosslady': 1, 'straight': 12, 'border': 2, 'security': 7, 'prev': 1, 'sandra': 24, 'bland': 20, '31': 1, 'melanin': 4, 'monday': 8, 'raisedfistmediumlightskintone': 5, 'raisedfistmediumskintone': 9, 'raisedfistdarkskintone': 8, 'rudygiuliani': 1, 'reppeterking': 1, 'walk': 32, 'walkbluelivesmatter': 1, 'intervarsitys': 1, 'advovacy': 1, 'urbana15': 5, 'sojourner': 2, 'visit': 9, 'youth': 28, 'program': 12, 'thats': 98, 'opening': 9, 'check': 28, 'update': 15, 'saveouryouth': 6, 'ff': 6, 'pep': 3, 'rt': 28, 'realtalk': 3, 'without': 31, 'hiv': 5, 'poz': 1, 'duty': 8, 'win': 18, 'assatas': 1, 'daughter': 10, 'oust': 1, 'prosecutor': 9, 'cleveland': 23, 'wed': 3, 'wheres': 10, 'brigade': 2, 'thought': 35, 'guy': 41, 'fori': 1, 'breath': 16, 'almost': 12, 'action': 52, 'half': 8, 'prolly': 1, 'even': 73, 'bust': 5, 'joint': 3, 'issue': 52, 'realize': 22, 'common': 14, 'knowledge': 6, 'song': 18, '2': 131, 'change': 108, 'sum': 5, 'everything': 16, 'memo': 5, 'thinkingface': 2, 'studiomicrophone': 1, 'difficult': 7, 'important': 43, 'lol': 25, 'grandjunction': 1, 'colorado': 5, 'mostly': 9, 'trustfund': 1, 'getajob': 1, 'willsims': 1, 'crime': 52, 'charge': 35, 'el': 7, 'sobrante': 1, 'slay': 2, 'african': 36, 'american': 87, 'theyre': 34, 'israel': 9, '7': 12, '12part': 1, 'series': 6, 'ethiopian': 6, 'refuseniks': 1, 'list': 16, 'seriously': 26, 'around': 25, 'shooter': 6, 'prison': 14, 'already': 21, 'min': 5, 'farrakhan': 13, 'nationalanthem': 1, 'ever': 43, 'rapper': 8, 'pro': 8, 'totally': 8, 'believe': 80, '100': 17, 'boycottthings': 1, 'mra': 1, 'etc': 10, 'cofounder': 10, 'recessive': 1, 'genetic': 1, 'defect': 1, 'wipe': 1, 'group': 61, 'foolishness': 2, 'nothingfunnyaboutthis': 1, 'head': 33, 'union': 19, 'sq': 4, 'timothycaughman': 1, 'teen': 22, 'writes': 4, 'college': 30, 'accepted': 3, 'terrorist': 31, 'imagine': 18, 'innocent': 26, 'opportunity': 10, 'slander': 3, 'isnt': 51, 'relevant': 7, 'cu': 1, 'carry': 11, 'torch': 3, 'protect': 34, 'civil': 38, 'lot': 29, 'tougher': 1, 'philandocast': 1, 'philandocastile': 4, 'devastate': 2, 'furious': 2, 'determine': 3, 'nojusticen': 1, 'philando': 3, 'castile': 3, 'still': 105, 'alive': 20, '𝐖𝐡𝐚𝐭': 1, '𝐚𝐛𝐨𝐮𝐭': 1, '𝐌𝐮𝐥𝐚𝐭𝐭𝐨𝐬': 1, '𝐃𝐨': 1, '𝐡𝐚𝐥𝐟𝐛𝐥𝐚𝐜𝐤': 1, '𝐥𝐢𝐯𝐞𝐬': 2, '𝐦𝐚𝐭𝐭𝐞𝐫': 2, '𝐎𝐫': 1, '𝐝𝐨': 1, '𝐨𝐧𝐥𝐲': 1, '𝐟𝐮𝐥𝐥𝐛𝐥𝐚𝐜𝐤': 1, 'ridiculous': 13, 'foldedhandsmediumlightskintone': 3, 'mikebrown': 64, 'recommit': 3, 'ensure': 3, 'transparency': 2, 'trust': 13, 'criminal': 27, 'system': 49, 'bl': 1, 'threat': 15, 'weapon': 14, 'home': 27, 'philadelphia': 7, 'tolerate': 1, 'city': 63, 'phillyischarlottesville': 1, 'blackl': 1, 'beating': 8, 'supporter': 21, 'antifascists': 1, 'wvideo': 1, 'antifa': 3, 'imwithkap': 1, 'exclusive': 8, 'identifies': 1, 'terrorism': 27, 'basically': 10, 'boycott': 14, 'spend': 4, 'dime': 4, 'team': 20, 'need': 229, 'stoptheviolence': 5, 'freespeech': 1, 'hope': 34, 'congress': 3, 'profile': 24, 'bruality': 1, 'sir': 5, 'sacrifice': 2, 'put': 47, 'danger': 7, 'every': 87, 'safeblueli': 1, 'church': 55, 'burning': 8, 'propaganda': 4, 'material': 2, 'history': 53, '53+': 1, 'ago': 23, 'justice4zityuraabraham': 1, 'assault': 13, 'thrown': 2, 'ground': 11, 'pregnant': 4, 'communi': 1, 'shock': 8, 'durbin': 1, 'confirm': 3, 'shit': 79, 'dare': 9, 'illegals': 1, 'sla': 1, 'remain': 10, 'behind': 19, 'bar': 9, 'unable': 2, 'participate': 3, 'daily': 15, 'rhythm': 1, 'bailreform': 1, 'criminaljusticereform': 2, 'undermine': 7, 'easily': 2, 'reduce': 3, 'soontobeforgotten': 1, 'hashtag': 48, 'fear': 20, 'helper': 1, 'skin': 22, '89': 1, 'pick': 13, 'baseball': 3, 'kneel': 5, 'pepper': 2, 'spray': 3, 'full': 20, 'single': 14, 'broken': 13, 'yet': 38, 'prayer': 22, 'heal': 4, 'really': 102, 'douche': 1, 'sorrowful': 1, 'systematic': 6, 'abuse': 16, 'zero': 13, 'fuck': 110, 'yall': 67, 'problem': 83, 'louder': 3, 'speakinghead': 2, 'floyd': 8, 'oncomingfistmediumskintone': 2, 'happen': 80, 'broad': 3, 'dayligh': 1, 'minneapolisprotest': 1, 'sing': 7, 'hymn': 1, 'ripgerogefloyd': 1, 'peace': 44, 'gathering': 11, 'hyde': 1, 'proceeds': 7, 'sale': 6, 'red': 7, 'wristband': 3, 'seattle': 28, 'chapter': 4, 'socialjustice': 7, 'seattlefreedomfund': 1, 'georgefloyd': 6, 'unreal': 3, 'vienna': 1, 'austria': 1, 'chant': 31, 'front': 20, 'i680': 1, 'north': 9, 'bound': 4, 'freeway': 4, 'wa': 5, 'horrify': 5, 'young': 51, 'trans': 18, 'minneapolis': 24, 'brutally': 4, 'week': 33, 'york': 28, 'demonstrate': 4, 'peacefully': 6, 'hand': 38, 'pull': 23, 'facemask': 2, 'tom': 4, 'cotton': 1, 'massive': 7, 'send': 17, 'troop': 4, 'thankfully': 2, 'bts': 4, 'donates': 1, '$': 48, 'million': 25, 'dance': 6, 'udoroosenphotography': 1, 'manifest': 2, 'manifestation': 1, 'brussels': 2, 'photographyisart': 1, 'photography': 1, 'bnw': 1, 'monochrome': 1, 'bnwphotography': 1, 'urbanphotography': 1, 'urban': 6, 'streetphotographer': 1, 'blacknwhite': 1, 'icantbreathe': 156, 'wecantbreathe': 17, 'sob': 2, 'si': 3, 'nah': 3, 'tl': 13, 'focus': 35, 'two': 32, 'murder': 130, 'barely': 4, 'medium': 68, 'coverage': 13, 'fo': 3, 'couple': 10, 'person': 54, 'stencil': 2, 'chalk': 2, 'retain': 2, 'wal': 2, 'karen': 3, 'lisa': 3, 'alexander': 5, 'ceo': 2, 'laface': 2, 'skincare': 2, 'product': 3, 'lat': 2, 'undermines': 2, 'race': 105, 'commission': 3, 'review': 6, 'corbyn': 1, 'cameron': 1, 'may': 37, 'id': 24, 'rather': 14, 'donate': 18, 'mine': 7, 'albino': 1, 'dyslexic': 1, 'midget': 1, 'afghanistan': 2, 'ardaas': 1, 'juneteenth2020': 2, 'cling': 3, 'stubbornly': 1, 'sense': 20, 'arent': 40, 'trend': 14, 'anymore': 14, 'across': 14, 'country': 55, 'havent': 15, 'disappear': 3, 'parklandstudents': 1, 'biodiversity': 1, 'pseudoscientific': 1, 'altright': 2, 'blacktwitter': 109, 'favorite': 4, 'picture': 6, 'space': 7, 'camp': 3, 'different': 18, 'vote': 28, 'governor': 4, 'ga': 4, 'ballotboxwithballot': 1, 'primary': 3, 'election': 3, '52218': 1, 'theresistance': 1, 'resistance': 12, 'impeachtrump': 1, 'notmypresident': 1, 're': 1, 'turn': 56, 'hashtags': 10, 'ignorant': 17, 'grow': 14, 'bc': 34, 'surround': 2, 'blacklivesmatters': 7, 'afraid': 12, 'ferguson': 348, 'spike': 1, 'lee': 10, 'endorses': 1, 'bernie': 68, '☆': 3, 'berniesanders': 16, 'berniesanders2016': 1, 'feelthebern': 28, 'especially': 15, 'barrack': 1, 'set': 15, 'decade': 4, 'grimacingface': 1, 'dad': 6, 'husband': 5, 'sadden': 5, 'sicken': 10, 'stepho': 2, '4371662020blacklivesmatter': 1, 'dumb': 19, 'shave': 1, 'virtual': 1, 'signal': 4, 'trademark': 9, '67126102020seatatthetable': 1, 'seatatthetable': 1, 'kudos': 4, 'step': 20, 'osca': 1, '4649692020blacklivesmatter': 1, 'raise': 14, 'bailout': 1, 'racial': 72, 'injustice': 38, 'warmth': 1, 'yxe': 1, 'blmtotentcity': 1, 'marchforourlives': 2, 'amaze': 25, 'absolutely': 15, 'tear': 19, 'gas': 7, 'hundred': 13, 'gather': 3, 'quanice': 1, 'hayes': 2, 'portland': 2, 'blac': 2, 'charlottesville': 4, 'pavilion': 1, 'downtown': 6, 'violence': 74, 'disproportionately': 1, 'impact': 6, 'proud': 28, 'caught': 10, 'sheer': 1, 'hell': 33, 'l': 3, '44956192020blacklivesmatter': 1, 'another': 72, 'blacklivesmatterâ': 1, 'mob': 10, 'english': 3, 'patriot': 3, 'london': 2, 'defend': 8, 'ww2': 2, 'monument': 3, 'bbc': 4, '6533842016blm': 1, 'money': 9, 'fake': 8, 'average': 2, '43095302020blacklivesmatter': 1, 'alton': 3, 'sterling': 3, 'bitch': 8, 'ninety': 1, 'later': 9, 'sharpton': 6, 'embrace': 10, 'notorious': 1, 'antisemite': 1, 'louis': 13, 'victim': 45, 'legislator': 2, 'wh': 1, 'fix': 11, 'hu': 1, '4': 66, 'assassination': 1, 'leo': 2, 'gunreformnow': 1, 'sacramento': 3, 'da': 11, 'announces': 3, 'stephonclark': 2, 'mother': 23, 'wv': 2, 'state': 57, 'capitol': 6, 'singlepayer': 1, 'medicareforall': 1, '1u': 2, 'nurse': 3, 'build': 6, 'kidlitwomen': 1, 'timesup': 1, 'neveragainmsd': 1, 'rest': 31, 'grateful': 6, 'fierce': 3, 'brightness': 1, 'desmond': 1, 'cole': 3, 'documentary': 3, 'spotlight': 3, 'antiblack': 5, 'canada': 4, 'chatelaine': 1, 'cbc': 2, 'stuck': 1, 'growth': 2, 'maturity': 1, 'wisdom': 4, 'pure': 2, 'ignorance': 10, 'suburban': 4, 'detroit': 12, 'bus': 3, 'phone': 7, 'ask': 56, 'direction': 2, 'homeown': 1, 'punch': 1, 'slam': 4, 'stomachbecause': 1, 'toda': 1, 'philly': 7, 'starbucks': 2, 'help': 79, 'acknowledge': 6, 'fact': 47, 'happens': 8, 'propose': 4, 'suspect': 12, 'imitation': 1, 'blexit': 1, 'blackswalkawayfromdemocrats': 1, 'walkawayfromdemocrats': 1, 'former': 8, 'warrior': 3, 'testimony': 5, 'lifelong': 1, 'democrat': 26, 'awaken': 2, 'p2': 24, 'inners': 5, 'racebaiting': 1, 'walkawayfromdemocrathate': 1, 'africanasians': 1, 'treat': 32, 'animal': 11, 'zoo': 1, 'petition': 15, 'jarawa': 1, 'safe': 24, 'wafflehouseshooting': 1, 'identify': 4, 'deebony': 1, 'grove': 1, '21': 3, 'joe': 4, 'perez': 1, '20': 7, 'akilah': 1, 'desilva': 1, '23': 3, 'taurean': 1, 'c': 4, 'sanderlin': 1, '29': 4, 'deal': 17, 'senseless': 3, 'tragedy': 8, 'nnpa': 1, 'beinformed': 1, 'blackpress': 1, 'papi': 1, 'droolingface': 1, 'sweatdroplets': 2, 'smilingfacewithhorns': 1, 'actor': 3, 'blackmen': 3, 'sexyblackmen': 1, 'actorslife': 1, 'slave': 11, 'catcher': 1, 'beat': 10, 'enslave': 4, 'begs': 2, 'mercy': 3, 'handcuff': 1, 'revpinkney': 1, 'convict': 1, 'evidence': 15, 'allwhite': 2, 'jury': 28, 'freerevpinkney': 1, 'annoy': 3, 'problematic': 2, 'meathead': 1, 'advocate': 10, 'lgbt': 8, 'eric': 27, 'garner': 27, 'comes2new': 1, '2stand': 1, 'hillary': 33, 'forblacklivesmatter': 2, 'sensehillarysoqualified': 1, 'meet': 24, 'lead': 24, 'morning': 17, 'beautiful': 26, 'wake': 22, 'korryngaines': 1, 'mystery': 1, 'lyricvideo': 1, 'barsandmelody': 1, 'house': 22, 'subcommittee': 1, 'shes': 13, 'bu': 1, '2017': 1, 'blueliv': 1, 'vibe': 2, 'professor': 3, 'doubleexclamationmark': 3, 'checkmarkbutton': 1, 'lawenforcement': 1, '2adefenders': 1, 'thankyoulawenforement': 1, 'santafehighschoolshooting': 1, 'santafehighschool': 1, 'highvoltage': 1, 'doj': 11, 'shoot': 85, 'altonsterling': 1, 'icymi': 10, 'cellphone': 1, 'marketing': 1, 'cellph': 1, 'blake': 4, 'lively': 1, 'booty': 3, 'supportpublic': 1, 'adult': 1, 'hit': 18, 'strong': 33, 'weaker': 1, 'secure': 2, 'reading': 10, 'citizen': 20, 'explain': 16, 'difference': 17, 'deadass': 1, 'everyones': 6, 'equally': 13, 'whats': 32, 'late': 18, 'glad': 13, 'antiracist': 1, 'coburg': 1, 'peter': 2, 'norman': 1, 'unity': 13, 'nonblack': 4, 'thread': 2, 'heartbroken': 1, 'outrage': 22, 'perfect': 9, 'revolution': 23, 'mr': 5, 'cooper': 1, 'weve': 3, 'three': 7, 'last': 53, 'vigilante': 4, 'ho': 2, 'wan': 19, 'stream': 3, 'cancel': 3, 'light': 14, 'deserves': 5, 'instead': 32, 'united': 21, 'appropriate': 7, 'v': 20, 'inappropriate': 4, 'kneeli': 1, 'unfollow': 6, 'associate': 2, 'someone': 61, 'ignores': 5, 'notice': 10, 'justicforgeorgefloyd': 1, 'throw': 7, 'water': 4, 'bottle': 2, 'teargas': 3, 'bunch': 4, 'moment': 26, 'email': 6, 'justiceforgeorgefloyd': 2, 'template': 1, 'quote': 13, 'pas': 15, 'dexter': 1, 'pernell': 1, 'bethea': 1, '20150408': 1, 'photographer': 1, 'image': 8, 'beneath': 1, 'loot': 16, 'commit': 18, 'holistic': 1, 'brutal': 2, 'columbus': 4, 'dsa': 1, 'unconditional': 1, 'solidarity': 54, 'cla': 1, 'acab': 4, 'anything': 32, '3secs': 1, 'powerful': 36, 'intelligent': 3, 'counterargue': 1, 'beyond': 17, 'justiceforgeorgeflyod': 2, 'retweet': 12, 'reply': 3, 'tag': 24, '6': 13, 'november': 1, 'wear': 26, 'mask': 4, 'amish': 1, 'ripgeorgefloyd': 1, 'minneapolisprotests': 1, 'allied': 1, 'ferocious': 1, 'enemy': 13, 'james': 14, 'baldwin': 6, 'ny': 16, 'fine': 8, 'riots2020': 1, 'thousand': 15, 'lie': 36, 'face': 36, 'breathe': 24, '9': 12, 'denverprotest': 1, 'night': 22, 'peaceful': 24, 'calm': 4, 'sudden': 1, 'roll': 6, 'destruction': 3, 'property': 4, 'valid': 3, 'form': 6, 'jesus': 12, 'bail': 6, 'care': 74, 'commu': 1, 'prevent': 5, 'pandemic': 1, 'covid19': 3, 'blackafnetflix': 1, 'blacktechtwitter': 1, 'ahmaud': 1, 'arbery': 1, 'pensiveface': 10, 'jogged': 1, 'area': 15, 'ok': 30, 'fails': 2, 'racially': 7, 'brutalize': 5, 'widely': 2, 'guard': 5, 'mpd': 3, 'sweep': 3, 'residential': 1, 'paint': 6, 'canister': 1, 'porch': 2, 'claimed': 2, 'videocamera': 2, 'camera': 19, '14': 9, 'brokenheart': 14, 'break': 33, 'anonymous': 10, 'describe': 4, 'resent': 2, 'cishetero': 1, 'author': 4, 'choose': 14, 'pride': 9, 'historic': 4, 'mandoes': 1, 'portion': 2, 'trollz': 1, 'include': 28, 'merch': 1, 'item': 1, 'directly': 4, 'project': 3, 'inc': 1, 'prov': 2, 'w': 65, 'local': 19, 'hero': 10, 'policelivesmatter': 21, 'signon': 1, 'defundsjpd': 1, 'letter': 18, 'spirit': 6, 'memory': 6, 'san': 6, 'jose': 2, 'fragility': 2, 'democratic': 14, 'institution': 4, 'converge': 1, 'challenge': 6, 'mural': 6, 'body': 34, 'masterpiece': 2, 'hill': 7, 'autonomous': 2, 'zone': 6, 'chaz': 2, 'riah': 1, 'milton': 1, 'domin': 1, 'design': 8, 'artist': 19, 'smilingfacewithhearts': 4, 'shift': 7, 'tire': 37, 'bla': 2, 'anytime': 3, 'soon': 6, 'robertfullers': 1, 'quietly': 3, 'suici': 1, 'rainbowflag': 1, 'ca': 19, 'dc': 29, 'insurance': 2, 'contact': 8, 'partner': 2, 'r': 40, 'derrick': 4, 'release': 25, 'hop': 9, 'radar': 1, 'blacklivesma': 1, 'funny': 16, 'libs': 3, 'timeuntil': 1, 'scene': 10, 'answe': 1, '+': 18, 'science': 3, 'uprise': 5, 'colonial': 1, 'joi': 1, 'separate': 5, 'justiceforjulius': 1, 'complete': 4, 'eletter': 1, 'pardon': 1, 'parole': 2, 'board': 4, 'less': 20, '30': 8, 'text': 1, 'julius': 1, '22999': 1, 'failure': 5, 'obey': 4, 'order': 13, 'flag': 21, 'intense': 2, 'act': 41, 'provoca': 1, 'excellent': 10, 'informative': 1, 'increaseunderstanding': 1, 'kimmie': 1, 'duncan': 1, 'hang': 9, 'tree': 6, 'investigation': 10, 'abdirahman': 1, 'salad': 1, 'sh0t': 1, 'six': 4, 'ohio': 8, '15': 13, 'tone': 5, 'resolidify': 1, 'decentralize': 1, 'per': 5, 'nati': 1, 'lesson': 8, 'silicon': 2, 'valley': 3, 'employee': 5, 'inhouse': 1, 'potus': 9, 'spoke': 5, 'concern': 8, 'philandocastiles': 1, 'reform': 13, 'pipeline+era': 1, 'unite': 11, 'ampend': 1, 'mlkjr': 1, 'thei': 1, 'surprised': 9, 'long': 41, '44': 2, 'proof': 9, 'corruption': 3, 'trumpturkey': 1, 'tweet': 62, 'startrekunitedgives': 1, 'donation': 5, 'behalf': 3, 'ple': 1, 'plt': 2, 'x': 7, 'saweetie': 1, 'collab': 2, 'collection': 1, 'foundation': 3, 'uk': 7, 'application': 2, 'withdrawn': 1, 'raisinghandsmediumdarkskintone': 6, 'duppy': 1, 'kno': 2, 'fi': 1, 'frighten': 3, 'listen': 43, 'insta': 1, 'alongampthrow': 1, 'card': 4, '33': 2, 'budget': 3, 'overnight': 2, 'restore': 4, 'museum': 7, 'cultural': 2, 'something': 51, 'happyjuneteenth': 1, 'bigoted': 4, 'organization': 9, 'protects': 3, 'elect': 5, 'official': 4, 'fair': 5, 'liveable': 1, 'wage': 5, 'affordable': 1, 'health': 15, 'quality': 1, 'terror': 11, 'asset': 1, 'humanity': 21, 'taco': 1, 'bell': 3, 'atlanta': 5, 'garrett': 1, 'rolfe': 1, 'prisoner': 2, 'awesome': 9, 'organize': 25, 'baltimoreprotests': 3, 'peacefulprotests': 1, 'bethechange': 8, 'youthlead': 1, 'georg': 1, 'choice': 6, 'cuz': 8, 'twitter': 34, 'large': 5, 'publicly': 4, 'organisation': 1, 'industry': 5, 'theatre': 1, 'workforce': 1, 'stats': 5, '201819': 1, 'ace': 2, 'diversity': 7, 'creative': 1, 'case': 33, 'pls': 17, 'rwt': 1, 'thrd': 1, 'wonder': 22, 'harlem': 5, 'charleenalyles': 1, 'shut': 47, '22nd': 1, 'press': 15, 'adolfdrumpf': 1, 'trumpsdeathclock121k': 1, 'trumpliesaskhimwhy': 1, 'gopliesaskthemwhy': 1, 'gopbetrayedamerica': 1, 'gopcomplicittraitors': 1, 'kamalaharrisforvp': 1, 'moscowmitch': 1, 'trumpisunfit': 1, 'china': 2, 'russia': 1, 'democracy': 9, 'recognition': 3, 'celebration': 1, 'slavery': 14, '155': 1, 'wish': 19, 'juneteenth': 1, 'wekeepussafe': 1, 'junete': 1, 'coonie': 1, 'jones': 2, 'swear': 4, 'thinkin': 1, 'bout': 14, 'course': 26, 'bubbawere': 1, 'duration': 1, 'raceits': 1, 'marathon': 3, 'chequeredflag': 1, 'eracism': 1, 'excuse': 12, 'mei': 1, 'ruin': 3, 'racistsrepublicans': 1, 'pity': 1, '99': 3, 'towards': 12, 'yal': 1, 'kw': 1, 'ridiculousness': 1, 'thinka': 1, 'ive': 30, 'shout': 12, 'finally': 25, 'arrest': 59, 'breonnataylor': 1, 'correlation': 1, 'woke': 3, 'bournemouth': 1, 'beach': 7, 'goer': 1, 'p': 4, 'nation': 23, 'built': 6, 'reparationsact': 1, 'source': 4, 'link': 17, 'dot': 1, 'org': 2, 'insight': 2, 'among': 4, 'leader': 40, 'burden': 3, 'ancestor': 7, 'otherwise': 4, 'yesterday': 14, 'tamirrices': 2, '15th': 1, 'select': 2, 'cry': 17, 'this¤': 1, 'blacklivesmatterdc': 1, '062817': 1, 'ray': 2, 'tense': 2, 'retry': 1, 'sam': 2, 'dubose': 3, 'spreaker': 1, 'definitely': 10, 'protestors': 34, 'target': 22, 'g': 2, 'breonna': 1, 'taylor': 3, 'soul': 10, 'huston': 1, 'texas': 17, 'simply': 8, 'passive': 3, 'aggressive': 1, 'blackheart': 1, 'cowboy': 1, 'qb': 1, 'dak': 1, 'prescott': 1, 'impressive': 2, 'stance': 3, 'regard': 12, '1m': 1, 'improve': 1, 'cowboysnation': 1, 'additionally': 1, 'consider': 5, 'cause': 33, 'platform': 8, 'small': 10, 'risk': 8, 'idea': 18, 'chris': 7, 'unlearn': 1, 'educator': 4, 'specifically': 3, 'high': 25, 'actively': 4, 'weak': 5, 'compassion': 8, 'nycprotests': 1, 'clappinghandsmediumskintone': 6, 'reposting': 1, 'birmingham': 6, 'background': 2, 'demo': 7, 'sin': 4, '|': 72, 'feature': 5, 'upon': 3, 'creativity': 1, 'activism': 11, 'write': 22, 'windshield': 1, 'proceed': 1, 'scream': 18, 'phoenixville': 3, 'yesterdayorganized': 1, 'studentsim': 1, 'little': 20, 'stoppolicebrutality': 6, 'peacefulprotest': 3, 'german': 1, 'oktoberfest': 1, 'couldnt': 13, 'itsbouttime': 1, 'unlike': 3, 'quittin': 1, 'bully': 3, 'classmate': 2, 'push': 17, 'river': 3, 'drown': 1, 'manchester': 3, 'fetishing': 1, 'cute': 2, 'gi': 1, 'sink': 2, 'rich': 5, 'wowan': 1, 'kept': 5, 'maid': 2, 'despite': 2, 'annoyed': 1, '5yo': 1, 'cr': 1, 'keller': 1, 'crowd': 21, 'blacklivesmattertx': 1, 'lisadurden': 1, 'neanderthal': 2, 'big': 32, 'brain': 4, 'chump': 1, 'music': 15, 'headphonesthen': 1, 'minute': 14, 'clappinghands': 15, 'army': 2, 'usd': 1, 'huge': 8, 'generous': 1, 'matchamillion': 1, 'split': 2, 'btsarmy': 1, '24': 5, 'hour': 21, 'falsely': 4, 'accuses': 2, 'apartheidstate': 1, 'genocide': 20, 'pale': 2, 'joy': 3, 'tall': 1, 'art': 16, 'spread': 16, 'heartsuit': 5, 'toronto': 6, 'torontoprotest': 1, 'ontario': 1, 'halifax': 1, 'novascotia': 1, 'novascotiastrong': 1, 'blacklivesmattertoronto': 1, 'ambulance': 1, 'film': 9, 'shame': 17, 'disappointedface': 3, 'riphumanity': 1, 'personbowing': 1, 'dalitlivesmatterindia': 1, 'antines': 1, 'davis': 8, 'taught': 11, 'milwaukee': 5, 'asl': 1, 'somebody': 8, 'prejudice': 7, 'aka': 4, 'england': 2, 'bristol': 3, 'statue': 4, '17th': 1, 'century': 10, 'trader': 1, 'edward': 1, 'colston': 1, 'georgian': 1, 'cast': 3, 'met': 5, 'absurdly': 1, 'voting': 2, 'machine': 3, 'within': 6, 'together': 32, 'online': 11, 'kpop': 1, 'disrespect': 6, '40': 7, 'rewatch': 1, 'kn': 1, 'emphasize': 5, 'plight': 3, 'hap': 1, 'luther': 8, 'king': 35, 'terroristmore': 1, 'harm': 12, 'theyll': 6, '82': 1, 'july': 6, '4th': 5, 'weekend': 17, 'hispanic': 5, 'die': 46, 'homicide': 5, 'freederay': 1, 'neutralface': 11, 'facewithrollingeyes': 2, 'exactly': 15, 'booker': 1, 'washington': 8, 'predict': 1, 'wakeuppuppets': 1, 'la': 23, 'prove': 14, 'wrong': 39, 'minoritieslivesmatter': 1, 'lose': 36, 'acquit': 2, 'paid': 11, 'join': 56, 'newsonenow': 6, 'discus': 13, 'controversial': 4, 'ad': 2, 'next': 31, 'wonderful': 5, 'you~': 1, 'j': 9, 'brand': 2, 'imwithher': 1, 'uslatino': 1, 'tntweeters': 2, 'nevertrump': 1, 'nasty': 2, 'preacher': 2, '5': 31, 'waller': 3, 'cell': 6, 'ericgarner': 143, '3': 31, 'hello': 2, 'friendly': 3, 'reminder': 8, 'bike': 2, 'staten': 2, 'island': 6, 'comply': 2, 'resist': 10, 'charleskinsey': 1, 'justinediamond': 1, 'sandrabland': 84, 'hyopcrite': 1, 'huh': 8, 'freddiegray': 68, 'unless': 12, 'muslim': 21, 'immigrant': 7, 'lgbtq': 9, 'low': 5, 'income': 2, 'politics': 14, 'respectability': 3, 'save': 18, 'saveo': 1, 'wouldnt': 23, 'immigration': 6, 'customer': 2, 'refuse': 18, 'tip': 3, 'responds': 8, 'harass': 3, 'mock': 5, 'grandpa': 1, 'chief': 19, 'best': 31, 'slogan': 6, 'trainee': 1, 'throat': 1, 'academy': 1, 'civilian': 5, 'bet': 11, 'ur': 15, 'wouldve': 6, 'sleepingface': 2, 'delrawnsmall': 1, 'preach': 8, 'hearing': 11, 'okay': 15, 'mommy': 1, 'broke': 3, 'invincible': 1, 'hey': 20, 'lightskin': 3, 'stopgunviolence': 1, 'add': 8, 'twibbon': 1, 'operationhunt': 1, 'empowerment': 3, 'beaboutit': 1, 'singular': 1, 'fred': 1, 'til': 5, 'bullet': 15, 'hole': 5, 'bad': 45, 'aint': 22, 'newhows': 1, 'suppose': 8, 'youhope': 1, 'americanlivesmatter': 1, 'checked': 3, 'usa': 30, 'apply': 6, 'spikelee': 1, 'timessquare': 1, 'timessquareshutdown': 1, 'strike': 5, 'serve': 20, 'isi': 15, 'chapo': 1, 'loose': 4, 'naked': 1, 'plea': 1, 'direct': 9, 'aa': 5, 'rumble': 2, 'raza': 1, 'rid': 7, 'decent': 2, 'idiot': 15, 'kneeler': 1, 'number': 4, 'rating': 1, 'nosedive': 1, 'square': 14, '4pm': 2, 'drum': 2, 'banner': 7, 'noise': 7, 'maker': 1, 'folksallies': 1, 'nationalistssupremacists': 1, 'literally': 17, '0000001': 1, 'encounter': 3, 'tiny': 3, 'pastor': 7, 'mark': 4, 'burn': 12, 'backstage': 1, 'oh': 31, 'nice': 9, 'dems': 5, 'msm': 8, 'spade': 4, 'gear': 2, 'nowhere': 3, 'charlo': 1, 'condemn': 7, 'micah': 1, 'johnson': 4, 'hat': 3, 'pe': 1, 'certain': 8, 'meh': 1, 'judge': 12, 'accuse': 8, 'pay': 27, 'honest': 11, 'who': 7, 'probably': 14, 'benefit': 7, 'condemnation': 1, 'tribute': 7, 'soar': 2, 'popularity': 2, 'trump2016': 2, '=gt': 1, 'listicle': 1, 'inclusive': 5, 'born': 9, 'rep': 7, 'tickle': 1, 'yell': 7, 'houston': 11, 'matterjk': 3, 'sound': 17, 'inspires': 1, 'sdsu': 1, 'develop': 2, 'mind': 30, 'st': 24, 'killer': 26, 'easy': 12, 'secondly': 1, 'simple': 10, 'complain': 4, 'thankacop': 1, 'taketheknee': 2, 'athlete': 8, 'discrimination': 12, 'africanamerican': 7, 'churchofchrist': 1, 'nationaloutrage': 1, 'imply': 3, 'implies': 2, 'mat': 1, 'game': 17, 'four': 4, 'cryingface': 10, 'fb': 12, 'equal': 17, 'slain': 8, 'dallas': 5, 'baton': 2, 'rouge': 1, 'brownlivesmatter': 8, 'every28hours': 5, 'bronx': 6, 'positive': 7, 'self': 9, 'confidence': 2, 'q1': 1, 'parent': 11, 'influence': 5, 'bbw13': 2, 'a10': 1, 'breastfeeding': 2, 'crucial': 3, 'mom': 11, 'period': 12, 'jumping': 1, 'cohosting': 1, 'tweetchat': 1, 'everybody': 9, 'constant': 4, 'misogynoir': 1, 'mainstream': 4, 'nmos14': 2, 'dismantle': 6, 'social': 33, 'longer': 10, 'filter': 2, 'neoliberal': 1, 'realism': 1, 'gt': 15, 'wtf': 13, 'psyche': 1, 'dontshoot': 6, 'fulfil': 1, 'purpose': 12, 'imatter': 2, 'male': 29, 'strange': 2, 'fruit': 2, 'hadnt': 2, 'serious': 5, 'minoritiesmatter': 1, 'ezellford': 9, 'johncrawford': 5, 'rideordie': 1, 'ride': 3, 'detail': 5, 'criminalizedfactchk': 1, 'therealcrime': 1, 'criminalizedlives': 1, 'systemic': 10, 'value': 22, 'wewillnotgoback': 1, 'tomorow': 1, 'custody': 12, 'handsup': 6, '12': 16, 'whiteallies': 1, 'standwithferguson': 1, 'ambassador': 1, 'sa': 2, 'spiritofemmetttill': 1, 'justice4all': 6, 'bay': 2, 'healer': 2, 'documentarians': 1, 'medic': 1, 'fm': 3, 'range': 1, 'age': 18, '10': 11, '70': 7, 'sun': 1, 'glimmer': 2, 'thru': 8, 'stormy': 1, 'sky': 3, 'goodnight': 2, 'bostoferguson': 1, 'blacklifematters': 2, 'alderman': 1, 'canfield': 1, 'apts': 1, 'loud': 10, 'natl': 2, 'advocacy': 2, 'stlouis': 1, 'revolutionary': 5, 'radicalism': 1, 'religious': 2, 'root': 8, 'oracle': 1, 'open': 25, 'poem': 4, 'reador': 1, 'whateverwhenever': 1, 'lastwords': 4, '~': 11, '10x': 3, 'unidentified': 1, 'spring': 2, 'justicefordontre': 3, 'however': 6, 'salient': 2, 'generation': 11, 'emergency': 4, 'transgender': 3, 'ourlivesmatter': 2, 'transliveatter': 1, 'fergusonfridays': 1, 'kleaver': 1, 'cruz': 2, 'reiterate': 1, 'muse': 1, 'magazine': 5, 'allblacklivesmatter': 6, 'angry': 11, 'everyday': 13, 'independent': 1, 'adjectiveblacklivesmatter': 1, 'blackfeminist': 1, 'yesallwomen': 2, 'planning': 3, 'fergusonoctober': 11, 'hash': 12, 'dialin': 1, '6055620020': 1, '926418978': 1, 'october': 2, 'organizer': 13, 'plan': 27, 'central': 5, 'everybodys': 1, 'dwdignity': 1, 'divine': 1, 'protection': 3, 'guidance': 1, 'lift': 3, 'vonderrick': 1, 'rain': 2, 'timesthe': 1, 'remind': 13, 'politician': 9, 'spiral': 1, 'handsupdontshoot': 26, 'everywhere': 13, 'whyitgottabeaboutrace': 1, 'forward': 8, 'breakingsilence': 1, 'hall': 13, 'whywecantwait': 1, 'imma': 2, 'skill': 2, 'believedat': 1, 'mart': 1, 'occupyfrontenac': 1, 'richmond': 4, 'height': 1, 'pd': 8, '3146453000': 1, 'whataboutferguson': 1, 'shawshooting': 1, 'there': 49, 'civilrights': 10, 'michaeldunn': 1, 'somejustice': 1, 'though': 16, 'creation': 2, 'screenshot': 1, 'timeline': 4, '2013': 2, 'blackwomenmatter': 12, 'naacp': 8, 'medicaid': 1, 'event': 36, 'tomorrow': 22, 'memoral': 1, 'plaza': 2, 'nashville': 4, 'votenov4': 1, 'depend': 2, 'votelasheriff': 1, 'limit': 3, 'republicops': 1, 'stopthegop': 1, 'fanghazi': 1, 'racialism': 1, 'nomorenewjimcrow': 1, 'massincarceration': 4, 'o22': 1, 'wow': 27, 'autism': 4, 'motown': 1, 'africanamericans': 8, 'autismawareness': 1, 'kzoo2ferguson': 1, 'channel': 3, 'cover': 26, 'yay': 1, 'institutional': 5, 'brotha': 3, 'demend3': 1, 'compton': 8, 'ar15s': 1, 'asshole': 6, 'getithowyoulive': 1, 'abcnbpp': 1, 'argue': 9, 'fool': 9, 'tee': 2, 'profit': 4, 'electionsmatter': 1, 'yeah': 20, 'view': 17, 'quell': 1, 'favoritism': 1, 'standard': 7, 'rise': 16, 'tryin': 3, 'aggression': 2, 'uuwithferguson': 1, 'movie': 9, 'upset': 10, 'plenty': 4, 'indicate': 1, 'suicide': 9, 'lennonlacy': 1, 'living': 17, 'example': 18, 'fearlessly': 1, 'seek': 11, 'repeat': 11, 'treadmill': 1, 'retread': 1, 'indictthecop': 1, 'grand': 29, 'mikebrownlaw': 1, 'injury': 3, 'arrestdarrenwilson': 1, 'complacent': 1, 'stl': 15, 'mayorslay': 1, 'agrees': 5, 'wmo': 1, 'gov': 4, 'nixon': 1, 'activation': 1, 'gj': 2, 'true': 35, 'disobediencenonviolent': 1, 'fergusonlaw': 1, 'darren': 7, 'wilson': 13, 'nobody': 13, 'asks': 10, 'michaelbrown': 23, 'reclamation': 1, '12yearold': 4, 'bb': 1, 'smh': 36, 'sorry': 20, 'resignation': 2, 'synonym': 1, 'oppose': 8, 'connect': 6, 'nopaidleave': 1, 'killercops': 6, 'openletter': 1, 'decision': 13, 'equality4all': 3, 'reprojustice': 3, 'facebook': 12, 'crisis': 5, 'ripmikebrown': 5, '2024': 1, 'reminds': 5, 'stephenbiko': 1, 'trial': 12, 'whiteracist': 1, 'southafrica': 3, 'prayforferguson': 2, 'wthose': 1, 'fall': 17, 'mike': 23, 'liberty': 2, 'meanwhile': 5, 'livestream': 7, 'repped': 2, 'hard': 27, 'respond': 5, 'gross': 2, 'amadou': 1, 'renisha': 1, 'oscar': 8, 'gtfoh': 2, 'deadly': 5, 'force': 30, 'fergsuon': 4, 'fegusondecision': 1, 'substantive': 2, 'misunderstand': 3, 'fergusondecision': 14, 'justiceformikebrown': 13, 'outcome': 3, 'willing': 2, 'bury': 4, 'geeligs': 1, 'horoscope': 1, 'twist': 7, 'knife': 4, 'gotten': 7, 'meddling': 1, 'tweeter': 2, 'umm': 1, 'sit': 9, 'proper': 3, 'autopsy': 5, 'witness': 6, 'belief': 9, 'juror': 2, 'doesnt': 88, 'epidemic': 8, 'lack': 8, 'rally': 59, 'calgary': 1, 'ferguson2yyc': 1, 'wearyface': 5, 'government': 11, 'unamusedface': 18, 'moore': 2, 'raleigh': 2, '6pm': 6, 'sw505': 1, 'indictment': 16, 'phillyforferguson': 1, 'noindictment': 2, 'blackfriday': 11, 'shopping': 2, 'fun': 3, 'repost': 6, 'sean': 1, 'justus': 3, 'weallwegot': 1, 'fuel': 5, 'puc': 1, 'middle': 4, 'campus': 10, 'blackoutfriday': 1, 'toolkit': 1, 'concerned': 6, 'blackboycott4blackfriday': 1, 'avoid': 6, 'cooler': 1, 'prevail': 4, 'accord': 7, 'cheer': 4, 'bombing': 8, '100000+': 1, 'iraqi': 1, 'arab': 2, 'laid': 1, 'as': 18, 'cold': 3, 'ya': 11, 'accuracy': 1, 'yes': 52, 'kind': 19, 'prolife': 4, 'reaction': 11, 'fergusonferguson': 1, 'rewrite': 1, 'mirror': 4, 'society': 21, 'juxtaposition': 1, 'crazy': 24, 'afthis': 1, 'fuckn': 1, 'anger': 9, 'natural': 3, 'alien': 3, 'furgesondecision': 1, 'fuckthepolice': 6, 'importance': 2, '820': 1, 'cjadlive': 1, 'fellow': 6, 'wwf': 1, 'farmville': 1, 'curse': 2, 'decide': 11, 'spin': 2, 'display': 2, 'leadership': 17, 'classroom': 3, 'esp': 3, 'shouldnt': 18, 'emotional': 4, 'energy': 7, 'engage': 9, 'stuff': 14, 'rutgers': 1, 'douglas': 3, 'brake': 1, 'shop': 3, 'friday': 10, 'articulate': 2, 'grief': 2, 'piss': 9, 'fighter': 4, 'mundane': 1, 'hw': 1, 'endgoal': 1, 'seem': 29, 'whiteprivilegeisreal': 1, 'racismpersistsinamerica': 1, 'contention': 1, 'sadly': 5, 'appalled': 7, 'pissedandappalled': 1, 'explanation': 6, 'expect': 14, 'tumblr': 2, 'uproar': 3, 'neutral': 2, 'chosen': 2, 'court': 11, 'disappoint': 5, 'dishearten': 2, '21st': 6, 'livesmatter': 3, 'feguson': 1, 'ferguson2to': 1, 'candlelight': 4, 'vigil': 13, 'embassy': 2, 'enrage': 2, 'department': 11, 'fault': 4, 'disturbed': 1, '1230': 1, 'walkout': 5, 'hub': 3, 'incredibly': 2, 'process': 6, 'incite': 8, 'audrelorde': 1, 'green': 8, 'fing': 2, 'martian': 1, 'earth': 4, 'ra': 2, 'ka': 1, 'breakdown': 2, 'origin': 6, 'natureofthethreat': 1, 'profoundly': 1, 'obvious': 5, 'voiceless': 2, 'notsurprised': 1, 'nojustice': 3, 'laugh': 8, 'pit': 1, 'probable': 2, 'daren': 1, 'freely': 2, 'unarmed': 37, 'causemikebrown': 1, 'verdict': 3, 'grandjury': 2, 'darrenwilson': 3, 'dcferguson': 8, 'ban': 11, 'superpower': 1, 'uva': 1, 'normanhs': 1, 'cosby': 5, 'yesalldaughters': 1, 'vick': 1, 'near': 14, 'career': 3, 'knew': 10, 'dog': 6, 'hypocricyofdemocracy': 1, 'scratch': 1, 'sickens': 2, 'complicitybell': 1, 'hook': 4, 'teachingferguson': 1, 'wrongfullylaccused': 1, 'the1ststarr': 1, 'visionary': 1, 'gift': 8, 'effective': 1, 'regram': 2, 'naushonyoga': 1, 'grandjurydecision': 1, 'information': 2, 'reach': 6, 'msuferguson14': 1, 'mcculloch': 2, 'heavy': 7, 'att': 1, 'stfu': 8, 'cooperation': 2, 'trap': 1, 'move': 32, 'lapd': 8, 'host': 5, 'iowacity': 1, 'mo': 4, 'republican': 19, 'quick': 7, 'abortion': 14, 'surely': 2, 'peopleslivesmatter': 1, 'stopseeingblackandwhite': 1, 'pretend': 4, 'exist': 15, 'album': 6, 'decisi': 1, 'hows': 3, 'trouble': 10, 'duh': 3, 'privileged': 6, 'twerp': 1, 'tcshutitdown': 2, 'rob': 6, 'store': 10, 'stole': 3, 'heavydollarsign': 1, 'economic': 12, 'moneybag': 1, 'notonedime': 3, 'sidewalk': 2, 'enjoy': 5, 'scary': 7, 'aisha': 1, 'genuine': 2, 'related': 9, '1st': 12, 'station': 12, 'jailmaking': 1, 'indictamerica': 2, 'nigerian': 4, 'brought': 12, '225': 1, 'bringbackourgirls': 1, 'impunity': 1, 'claim': 19, 'perceive': 2, 'vaguest': 1, 'doubt': 8, 'affirm': 8, 'ave': 6, 'paul': 7, 'shutitdown': 48, 'pocket': 2, 'thankyouferguson': 1, 'warm': 4, 'fergusonsolidarity': 1, 'nothingtocelebrate': 1, 'eye': 20, 'brooklyncollege': 1, 'indict': 14, 'shameonmcculloch': 1, 'dougiieovrklls': 1, 'disease': 1, 'affect': 2, 'poison': 4, 'perpetrator': 1, 'helpful': 2, 'blackoutblackfriday': 10, 'scar': 12, 'breakthesystem': 1, '1519': 1, '20x': 1, 'likely': 8, 'whiteall': 1, 'chill': 13, 'dr': 30, 'pikachu': 1, 'macysparade': 1, 'access': 5, 'yourlifematters': 1, 'blackoutcollective': 1, 'close': 8, 'arnt': 2, 'boycottblackfriday': 2, 'eh': 1, 'em': 11, 'leave': 9, 'rayrice': 2, 'goodell': 1, 'whatever': 6, 'dumbass': 3, 'pacific': 2, 'solidaritywithferguson': 1, '2pm': 2, 'office': 10, 'nantucket': 1, 'ackjustice': 1, 'shitload': 1, 'wavinghand': 3, 'byefelicia': 1, 'doublebassplaying': 1, 'camowearing': 1, 'radical': 11, 'oakland': 37, 'bart': 1, 'allblack': 1, 'blackout': 7, 'collective': 4, 'lock': 4, 'ftp': 9, 'spending': 4, 'favs': 2, 'rts': 2, 'reward': 3, 'infrastructure': 2, 'brings': 7, 'west': 13, 'storify': 1, 'reporting': 2, 'tht': 2, 'critique': 2, 'argument': 6, 'mb': 2, 'salamishah': 1, 'tillet': 1, 'queerlivesmatter': 1, 'joda': 1, 'cain': 1, 'murderer': 8, 'circumstance': 1, 'raisedfist': 25, 'tamirrice': 47, '2moro': 1, 'abc': 1, 'frankly': 2, 'suspicious': 1, 'jim': 8, 'crow': 4, 'legal': 8, 'buyblack': 2, 'omfg': 1, 'wthe': 4, 'horrible': 7, 'grandobstructionistparty': 1, 'mvmnt': 2, 'occurs': 2, 'reject': 5, 'convention': 7, 'oppressive': 3, 'condition': 1, 'norm': 2, 'tamir': 13, 'rice': 13, 'kaijeme': 1, 'powell': 2, 'blackpoetsspeakout': 2, 'twhpoetry': 1, 'thinkmoor': 2, 'device': 1, 'shameonyou': 2, 'held': 12, 'crack': 3, 'televise': 4, 'bm': 2, 'prod': 1, 'cal': 2, 'bridgeport': 1, 'marchrally': 1, '113014': 1, 'bartlockdown': 1, 'blackboysmatter': 1, 'blackmenmatter': 1, 'mysonmatters': 1, 'cc': 5, 'inceptionamerica': 1, 'wblack': 1, 'notatime2besilent': 1, 'missouri': 9, 'far': 26, 'involvement': 1, 'zemirbegic': 1, 'justiceforzemir': 1, 'handsupwalkout': 2, '42st': 1, 'fed': 9, 'hopeful': 2, 'christmas': 14, 'bro': 8, '43': 1, 'christian': 14, 'row': 4, 'drop': 18, '11': 3, 'due': 9, 'non': 8, 'endracism': 3, 'stolenlives': 1, 'uve': 1, 'aha': 1, 'hung': 4, 'bullshit': 23, 'salute': 6, 'owes': 2, 'ruinedblackhistory': 1, 'progress': 4, '440': 2, 'gregory': 2, 'uiuc': 1, 'love4ferguson': 1, 'storm': 4, '200': 2, 'florissant': 1, 'copovision': 1, 'armour': 1, 'botch': 1, 'problack': 4, 'antianyone': 1, 'except': 15, 'inflict': 2, 'stopapologizing': 1, 'sonyarenee': 1, 'shotgun': 3, 'touch': 9, 'givingtuesday': 2, 'frisk': 1, 'policy': 21, 'recent': 12, 'justin': 2, 'simien': 1, 'entitle': 1, 'woefully': 1, 'antiquate': 1, 'inadequate': 3, 'prosecution': 5, 'barkley': 1, 'wild': 4, 'confirms': 2, 'hwood': 1, 'might': 15, 'remake': 2, 'switch': 2, 'yak': 1, 'peer': 1, 'deep': 13, 'loss': 6, 'withholding': 1, 'coral': 1, 'deandrejoshua': 1, 'regular': 2, 'disability': 3, 'judicial': 2, 'flat': 1, 'retaliation': 2, 'involve': 13, 'disappointed': 7, 'dollar': 11, 'dogshavemorerightsthanus': 1, 'unionsquare': 2, 'rockefellercenter': 1, 'aim': 5, 'menblacklivesmatter': 1, 'blowuptuate': 1, 'kingdomculture': 1, 'somehow': 4, 'tho': 9, 'stupidity': 5, 'chokehold': 5, 'attempt': 11, 'revive': 1, 'justiceforericgarner': 4, 'deblasio': 3, 'grieve': 4, 'fail': 16, 'blockading': 1, 'vermont': 3, 'k': 2, 'presumption': 1, 'innocence': 2, 'table': 6, 'seesay': 1, 'thisisaboutrace': 1, 'ebola': 1, 'meant': 10, 'distract': 7, 'disregard': 4, 'anywhere': 2, 'nomore': 2, 'scum': 1, 'hereanybody': 1, 'accomplice': 1, 'emmitttill': 1, 'mandatory': 2, 'training': 10, 'mindset': 2, 'solve': 3, 'nonindictment': 1, 'highly': 3, 'daniel': 2, 'pantaleo': 1, 'wrongful': 2, 'phrase': 9, 'evident': 3, 'straighttotrial': 2, 'nograndjury': 2, 'attitude': 5, 'habit': 4, 'dubois': 2, 'throughout': 1, 'smile': 2, 'facebut': 1, 'internally': 1, 'retweeting': 3, 'rule': 6, 'blackpeopledream': 1, 'sometimes': 6, 'monstrous': 1, 'allegedly': 3, 'sell': 6, 'untaxed': 1, 'cigarette': 3, 'paralyze': 3, 'mentallymoving': 1, 'slow': 3, 'unapologetic': 4, 'mood': 1, 'rate': 17, 'restinpeaceericgarner': 1, '55': 2, '204': 1, 'harrison': 2, 'notdeadweight': 1, 'videoso': 1, 'rage': 7, 'safely': 2, 'conversation': 17, 'criminalize': 1, 'disengage': 1, 'nonchalance': 1, 'becolorblind': 1, 'sanction': 5, 'accountable': 11, 'unashamed': 1, 'staywokeadvent': 1, '5amprayer': 1, 'feed': 8, 'fill': 9, 'va': 3, 'scraptrap': 1, 'mn': 14, 'letthemplay': 1, 'utaustin': 1, 'mobile': 2, 'location': 2, 'votelocal': 1, 'connection': 2, 'demographic': 1, 'fast': 4, 'food': 5, 'blackscouldcareless': 1, '13': 8, '1973': 1, 'beside': 1, 'gso': 2, 'qpoc': 1, '999': 2, 'politicsfree': 1, 'account': 4, 'butoh': 1, 'awful': 5, 'ericgardner': 6, 'breathes': 1, 'csu': 2, 'football': 7, 'coach': 1, 'shoulder': 5, 'attorney': 5, 'general': 3, 'holder': 4, 'assume': 7, 'insufficient': 1, 'representation': 3, 'blacklivesmattersomeofusarebrave': 1, 'thisstopstoday': 8, 'portray': 1, 'hype': 2, 'ube': 1, 'btw': 5, 'wakeupnow': 1, 'rarely': 3, '28': 5, 'cometh': 1, 'shutitdownatl': 4, 'whole': 29, 'going2snap': 1, 'ragecan': 1, 'fairlyampjust': 1, 'b4': 3, 'foleysquare': 1, 'overflow': 2, 'onto': 1, 'lafayette': 1, 'load': 1, 'ericgarners': 2, 'abt': 11, 'excessive': 4, 'whip': 1, 'condolence': 5, 'beyondferguson': 1, 'responsibility': 6, 'ripericgarner': 3, 'riptamirrice': 1, 'murderbycop': 2, 'cross': 5, 'bear': 3, 'unique': 2, 'pic': 15, 'viral': 5, 'ole': 3, 'wewillbeheard': 1, 'terminal': 2, 'idontfeelsafe': 1, 'repulsive': 2, 'demonstration': 10, 'giuliani': 1, 'type': 17, 'ultimatum': 1, 'else': 24, 'vcu': 1, 'clearly': 10, 'meaning': 8, 'thoughtfully': 2, 'westandtogether': 3, 'homealonethese': 1, 'mouth': 4, 'pescis': 1, 'costume': 1, 'character': 5, 'glare': 1, 'dashboard': 1, 'flood': 1, 'sorrynotsorry': 1, 'lil': 6, 'suburb': 2, 'thisendstoday': 3, 'fd': 1, 'feeling': 4, 'avery': 2, 'willfully': 1, 'blind': 7, 'advert': 1, 'trailer': 4, '`': 7, 'intend': 1, 'pretty': 14, 'sure': 30, 'road': 4, 'endpoliceterror': 1, 'tgs': 1, 'shutitdownnyc': 3, 'amass': 1, 'foot': 5, 'bklyn': 1, 'bridge': 6, 'fyi': 6, 'atl': 3, 'dieincolumbuscircle': 1, 'rockcenterxmas': 1, 'alivewhileblack': 3, '96': 2, 'killing': 14, 'seth': 1, 'medical': 4, '124': 1, 'fri': 2, '125': 2, 'sethcalls': 1, 'dismiss': 6, 'basis': 5, 'rn': 7, 'attention': 23, 'saw': 12, 'foley': 1, 'barnard': 1, 'endpolicebrutality': 4, 'illegal': 8, 'golden': 1, 'unt': 1, 'seethe': 1, 'lividyou': 1, 'louisville': 1, 'alarm': 3, 'idc': 2, 'yellow': 5, 'purple': 3, 'whattttt': 1, 'crimingwhilewhite': 2, 'disservice': 1, 'equivocate': 1, 'favor': 7, 'sayits': 1, 'doand': 1, 'okhand': 2, 'sipa': 1, 'forgotten': 7, 'belong': 2, '~mother': 1, 'teresa': 1, 'tampa': 3, 'lykes': 1, 'gaslight': 1, 'bsu': 2, 'commute': 1, 'flushedface': 3, 'racematters': 2, 'imu': 1, 'canal': 1, 'toward': 1, 'holland': 1, 'tunnel': 1, 'lt': 4, 'prefer': 3, 'status': 1, 'quo': 1, 'providence': 2, 'outside': 19, '645': 1, 'pvd': 1, 'celebraties': 1, 'misguide': 2, 'goodintentioned': 1, 'guide': 3, 'kulchur': 1, 'discussion': 13, '1242014': 2, 'brownblackwhite': 1, 'nyers': 1, 'earlier': 8, 'newsonegt': 1, 'celebrity': 5, 'gm': 2, 'bishop': 2, 'hezekiah': 1, 'walker': 4, 'ty': 3, 'livestreamers': 3, 'nycblacklivesmatter': 1, 'ericgarnershutitdown': 1, 'backup': 1, 'i35e': 1, 'nb': 1, 'shutdown': 3, 'roosevelt': 1, 'avenue': 6, 'fightfor15': 9, 'worthy': 1, 'policebrutality': 38, 'santafe': 1, 'john': 12, 'crawford': 3, 'iii': 5, 'pound': 1, 'door': 3, 'translivesmatter': 6, 'dobetteramerica': 1, 'gofundme': 2, 'esaw': 1, 'pitt': 1, 'engulf': 1, 'maybe': 24, 'core': 5, 'traffic': 15, 'apple': 5, 'poll': 5, 'appropiate': 1, 'scholar': 2, 'tucson': 1, 'jungle': 1, '223people': 1, 'baddidnt': 1, 'perfection': 1, 'sole': 2, 'criterion': 1, 'whether': 14, 'plead': 3, '39th': 1, '10th': 1, 'dave': 1, 'chappelle': 1, 'gqs': 1, 'terribly': 1, 'familiar': 2, 'perseveringface': 1, 'tps': 1, 'personal': 4, 'recognizes': 1, 'justicewhileblack': 1, 'vigilpeace': 1, 'santa': 2, 'ana': 2, 'dec': 9, '8th': 2, 'clergycaucus': 1, 'protestsgatheringstalks': 1, '912': 1, 'blacklivesmatter|': 1, 'tool': 3, 'sadness': 2, 'rumain': 2, 'brisbons': 2, 'cnn': 17, 'pplcool': 1, 'phd': 1, 'whose': 6, 'boston': 15, 'dominate': 1, 'rting': 1, 'cali': 1, 'complicit': 1, 'belittles': 2, '50+': 1, 'designer': 2, 'miami': 5, 'artbasel': 1, 'humane': 1, 'adwondering': 1, 'marchedboycotted': 1, 'enoughisenough': 11, 'deaf': 3, 'blame': 29, 'educate': 8, 'sooo': 3, 'nbpoc': 1, 'patch': 2, 'actualblackpeoplewait': 1, 'whut': 1, 'reson': 1, 'lady': 7, 'blindfold': 1, 'shutitdownboston': 1, 'chamber': 2, 'kinda': 4, 'letsmakeadifference': 1, 'unitedwestanddevidedwefall': 1, 'till': 6, 'smash': 2, 'remotely': 1, 'wildfire': 1, 'rumainbrisbon': 1, '34yearold': 1, 'discriminate': 6, 'respondent': 1, '45': 3, 'unheard': 4, 'phoenix': 3, 'early': 6, 'nycprotest': 4, 'temple': 1, 'jewish': 4, 'michigan': 4, 'northbound': 1, 'madison': 8, 'clark': 3, 'chicagoprotest': 2, 'jumpouts': 1, 'flatter': 1, 'copy': 1, 'quit': 3, 'division': 3, 'legacy': 9, 'pienypd': 1, 'disrupt': 12, 'presence': 2, 'handgun': 1, '12yrold': 1, 'deem': 3, 'dismal': 1, 'uncorrectable': 1, 'springfield': 1, 'foolishly': 1, 'wethepeople': 1, 'gladly': 1, 'attend': 9, 'indigenous': 2, 'honolulu': 1, 'hawaii': 4, 'oahu': 1, 'al': 6, 'mobile2ferguson': 1, 'regress': 2, 'espn': 2, 'jersey': 3, 'market': 12, 'info': 10, 'harvardgt': 1, 'tuft': 1, 'harvard': 3, 'wcvb': 1, 'exclusively': 1, 'dimension': 1, 'obviously': 9, 'global': 4, 'speakout': 1, 'newappcarlimo': 1, 'newapp': 1, 'changeisneeded': 1, 'wall': 4, 'sanfrancisco': 1, 'resident': 3, 'growingraw': 1, 'youtube': 2, 'queen': 4, 'blackqueensmatter': 1, 'breathtaking': 3, 'poetry': 2, 'garfield': 1, 'muchamerican': 1, 'solider': 1, 'casualty': 1, 'iraq': 4, '3528': 1, '03': 1, 'toll': 1, 'chicagowait': 1, 'it3572': 1, '07': 1, 'alma': 1, 'mater': 1, 'ou': 1, 'hbcu': 4, 'wynn': 1, 'shutitdownhsv': 1, '848': 1, 'lake': 3, 'oakpark': 1, 'candle': 1, 'declare': 9, 'doublestandards': 1, 'yeahiwentthere': 1, 'retire': 2, 'peterking': 1, 'unsure': 2, 'allows': 2, 'gunhugging': 1, 'ammosexual': 1, 'screw': 1, 'rite': 2, 'cantbreathe': 1, 'empathy': 8, 'horror': 3, 'shade': 3, 'therefore': 3, 'differently': 4, 'mandy': 1, 'patinkin': 1, 'saul': 1, 'homeland': 3, 'carefully': 1, 'mic': 5, '12am': 1, 'liquid': 1, 'drunk': 2, 'secchampionship': 1, 'solidarityampallyship': 1, 'blackandblue': 1, 'explains': 4, 'inside': 12, 'listen2': 2, 'revatty': 2, 'goodman': 2, 'tkg': 2, 'ramp': 1, '6th': 5, 'bandaid': 1, 'gap': 2, 'wound': 2, 'command': 1, 'catch22': 1, 'musician': 3, 'upcondemn': 1, 'happenin': 1, 'dontrehamilton': 3, 'commentary': 4, 'data': 7, '==': 1, 'collect': 1, 'ream': 1, 'justiceforreefa': 1, 'bigot': 4, 'deter': 2, 'agenda': 13, 'ally': 10, 'palm': 1, 'hostage': 2, 'yemen': 2, 'tremendous': 1, 'pain': 14, 'gettin': 2, 'confront': 7, 'lawlessness': 1, 'disrespectful': 7, 'lawless': 2, 'accountability': 5, 'sport': 7, 'revjackson': 1, 'vega': 3, 'note': 5, 'pulpit': 1, 'advantage': 4, 'current': 5, 'cam': 8, 'akaigurley': 2, 'insanity': 1, 'pocs': 2, 'weird': 3, 'falsify': 2, 'superiority': 2, 'disciple': 1, 'reportedly': 3, 'mp3pc': 1, 'rock': 10, 'tshirt': 9, 'bull': 5, 'warmups': 1, 'herstory': 3, 'cocreators': 2, 'historical': 6, 'berkeley': 18, 'helicopter': 3, 'ex': 1, 'stlpd': 1, 'approve': 2, 'lexington': 1, 'kentucky': 2, 'handsupky': 1, 'berkeleyprotests': 6, '5pm': 2, 'artistgt': 1, 'linergt': 1, 'tha': 2, 'experience': 5, 'te': 2, 'liner': 1, 'palestine': 12, 'shirt': 20, 'sportscenter': 1, 'bum': 2, 'bryant': 1, 'leftarrow': 2, 'shameful': 6, 'poutingface': 5, 'worker': 8, '11am': 4, 'amplaugh': 1, 'sociopathswithbadges': 1, 'otis': 2, 'moss': 2, 'aleks': 1, 'blackouthollywood': 2, 'mynypd': 1, 'wellmeaning': 1, 'reproduce': 1, 'radio': 6, 'kevin': 2, 'obese': 1, 'hesitate': 4, 'colony': 1, '12yearsaslave': 1, 'cycle': 5, 'brutalityracism': 1, 'hollywoodblackout': 1, 'edshow': 1, 'selma': 13, 'humanlivesmatter': 4, 'whine': 1, 'phillydiein': 1, 'fergusonphl': 2, 'icantbreath': 4, 'occupymn': 1, 'opferguson': 2, 'endcorruption': 1, 'cent': 5, 'hollywood': 5, 'nationwide': 5, 'protestnyc': 1, 'alert': 5, 'announce': 3, '128': 2, 'barclays': 2, 'center': 13, '630pm': 1, 'royalshutitdown': 1, 'okrp': 1, 'fr': 3, 'hundredpoints': 14, 'clergy': 5, 'stage': 10, 'rotunda': 1, 'icantbreatheuntil': 1, 'clock': 3, 'tenthirty': 1, 'threeoclock': 1, 'fourthirty': 1, 'whitepeople': 6, 'top': 11, 'priority': 8, 'royalvisitusa': 1, 'berkeleyprotest': 2, 'blasting': 1, 'sweet': 3, 'alabama': 10, 'legitimate': 2, 'outlaw': 2, 'masksscarves': 1, 'eject': 1, 'provocateur': 1, 'iloveshimsu': 1, 'asldjhfowuefh': 1, 'congrats': 5, 'strangle': 2, 'attacker': 1, 'ugly': 6, 'americanautumn': 1, 'nopeace': 2, 'lifeatpurdue': 1, 'suggestion': 2, 'criticize': 4, 'prioritiespeople': 1, 'routine': 2, 'serenesettingsunday': 1, 'progressivehealing': 2, 'livingwage': 2, 'gtgtgt': 5, 'carver': 1, 'rarghr': 1, 'canadian': 1, 'native': 5, 'insist': 1, 'warrenthis': 1, 'eastbay': 2, 'empower': 4, 'overcome': 5, 'pastormikesaid': 1, '3040': 1, 'dupont': 1, 'circle': 2, 'richmondrysing': 1, 'mikebrowns': 2, 'precious': 1, 'torturereport': 3, 'menwomenchildren': 1, 'justicefor': 1, 'addiction': 1, 'calalumni': 1, 'testify': 1, 'fox': 19, 'newsor': 1, 'faux': 4, 'appearance': 4, 'somanyothers': 1, 'maddow': 1, 'schniederman': 1, 'collectively': 1, 'universal': 2, 'noworktuesday': 1, 'december': 6, 'thx': 7, 'backlash': 2, 'lebron': 1, 'jamesfor': 1, '2settle': 1, 'score': 4, 'enslavement': 1, 'go2': 1, 'interfaith': 1, '9th': 1, '47pm': 2, '333': 1, 'ocean': 2, 'lb': 1, 'newz': 1, 'uc': 3, 'nomopoliceterror': 1, '880': 1, 'gruber': 1, '1997': 1, 'abort': 1, 'improves': 1, 'deportation': 4, 'obamatn': 1, 'suck': 4, 'mepolitics': 1, 'copwatchs': 1, 'reportback': 1, '127': 1, 'present': 8, 'thoushaltnotstandidlyby': 1, 'brave': 4, 'outspoken': 2, 'wellesley': 2, 'sibling': 1, 'steve': 2, 'bikos': 1, 'book': 12, 'keeangayamahtta': 1, 'souvenir': 1, 'royalshutdown': 1, 'ercigarner': 1, 'wearethepeople': 1, 'dante': 1, 'parker': 3, 'donte': 1, 'jordan': 6, 'tuesday': 4, '57pm': 1, 'sc': 11, 'statehouse': 1, 'field': 8, 'train': 6, 'california': 3, 'berkleyprotest': 1, 'justicehuman': 1, 'fcaasummit': 1, 'library': 5, 'study': 6, 'svsu': 1, 'davisonhall': 1, 'mover': 1, 'themovement': 1, 'changeisgonnacome': 1, 'chr': 1, 'closing': 2, 'semester': 2, 'glory': 4, 'mourn': 5, 'fable': 1, 'faubus': 1, 'mingus': 1, 'berkely': 1, 'blackpower': 7, 'resurrection': 1, 'zombie': 2, 'fairytale': 1, 'levin': 1, 'cheap': 5, 'stunt': 3, 'turd': 1, 'swim': 1, 'pool': 5, 'main': 1, 'boo': 2, 'blackoutsilberman': 1, 'alumna': 1, 'nyudiein': 1, 'disparity': 4, 'underground': 3, 'blackoutatl': 1, 'globalshutdown': 1, 'ferguson2atlanta': 1, 'environmentalist': 2, 'climatechange': 7, 'ifihadaquarter': 1, 'mass': 14, 'voter': 5, 'registration': 1, 'buying': 1, 'investment': 1, 'chance': 14, 'wednesday': 5, '34': 1, 'meredith': 1, 'apologize': 17, 'article': 15, 'thumbsup': 9, 'hotangercoldanger': 1, 'civilrightsmovements': 1, 'ellabaker': 1, '600': 1, 'unfriend': 1, 'c4news': 1, 'intermixx': 1, 'upside': 2, 'handsupletspray': 1, 'discourse': 1, 'buliding': 1, 'durham': 3, 'transpire': 1, 'n': 27, 'minority': 10, 'coordinate': 2, 'bob': 2, 'itstopshere': 1, 'memphis': 6, 'endthehate': 1, 'dane': 1, 'sht': 1, 'bipartisanism': 1, 'un': 4, 'wrt': 1, 'sudan': 1, 'oopsforgotthatone': 1, 'mbk': 1, 'economics': 2, 'losies': 1, 'disproportionate': 2, 'tax': 6, 'med': 2, 'wblacklivesmatter': 2, 'mentality': 6, 'invade': 1, 'prez': 5, 'apologizes': 3, 'recall': 1, 'ferreira': 1, '36': 1, 'yr': 13, 'yday': 1, 'stoke': 1, 'newington': 1, 'business': 11, 'usual': 3, 'beyondpissed': 1, 'holiday': 7, 'westfield': 1, 'obamas': 7, 'rootofallevil': 1, 'squash': 1, 'told': 13, 'hq': 3, 'shutitdownla': 1, 'definition': 1, 'individual': 4, 'blackamerica': 2, 'whosnext': 1, 'incovenience': 1, 'civirights': 1, 'signedgt': 1, 'refresh': 3, 'lyric': 2, 'along': 8, 'hereblacklivesmatter': 1, 'ourpeopleneedus': 1, 'phenomenal': 1, 'bh': 3, 'berkeleyprostest': 1, 'walkoutwednesday': 1, 'photoset': 8, 'micdotcom': 3, 'sheneque': 1, 'proctor': 1, '92': 1, 'ripped': 1, 'headline': 3, 'idlenomore': 2, 'idolatry': 1, 'morehouse': 4, 'medicine': 1, 'whitecoats4blacklives': 2, 'minnesota': 4, 'usablacklivesmatter': 1, 'undercover': 1, 'demonstrator': 3, 'berkeleyprostests': 1, 'sew': 1, 'seed': 1, 'beauty': 9, 'millionsmarchnyc': 15, 'alum': 2, '10mostfascinatingpeople': 1, 'worldwide': 2, 'consciousness': 1, 'stock': 3, 'specie': 4, 'antler': 1, 'blog': 12, 'five': 9, '☛': 1, 'aghast': 1, 'lreiwalkout': 1, 'pass': 4, 'exonerate': 2, 'amount': 6, 'rte': 1, '175': 2, 'tamar': 2, 'columbia': 3, 'md': 10, 'exists': 7, 'cia': 2, 'torture': 3, 'homicidal': 1, 'statesanctioned': 1, 'essay': 3, 'interview': 7, 'vassar': 1, 'faculty': 1, 'pm': 3, 'commish': 1, 'bratton': 3, 'firebratton': 1, 'mile': 2, 'immature': 1, 'opbelgium': 1, 'defference': 1, 'funeral': 9, 'procession': 2, 'ag': 2, 'cogic': 2, 'sunday': 5, 'teamcogic': 1, 'teamag': 1, 'become': 33, 'obvi': 1, 'confuse': 5, 'thinksay': 1, 'humble': 2, 'dayevery': 1, 'creed': 1, 'onelove': 1, 'revolvinghearts': 2, '47000+': 1, 'rsvped': 1, 'download': 4, 'worldpeace': 1, 'collateraldamage': 1, 'plz': 4, 'justice4ericgarner': 1, 'advice': 4, 'fightbob': 1, 'marley': 1, 'multigenerational': 1, 'floor': 1, 'dmv': 2, 'tagg': 1, 'takeastand': 1, 'jackson': 4, 'tdcau': 1, 'healtheworld': 1, '121314': 2, 'justiceforall': 4, 'pleaseprayforamerica': 1, 'contradiction': 1, 'pie': 3, 'poster': 4, 'millionmarchnyc': 4, 'wind': 2, 'tmrrw': 1, '12thmancantbreathe': 1, 'tireless': 1, 'goodness': 1, 'window': 5, 'acluohio': 1, 'marybethtinker': 1, 'rethink': 1, 'icantbreathepowerful': 1, 'themovementwillbetelevised': 1, 'goal': 16, 'slaveryboycottvh1': 1, 'episcopal': 3, 'graduate': 3, 'insane': 3, 'marchonwashington': 1, 'follower': 6, 'killingskudos': 1, 'climate': 6, 'inequality': 9, 'uncomfortable': 9, 'nationalmarch': 1, 'mailbox': 1, 'chat': 3, 'keaton': 1, 'european': 2, 'boycottexodusmovie': 1, 'generally': 1, 'victoryhand': 5, 'wise': 4, 'repair': 1, 'survivor': 2, 'millionsmarchsf': 1, '10000': 1, 'barrier': 1, '40000': 1, 'purpleheart': 3, 'ourempowered': 1, 'bgmagic': 1, 'settle': 4, 'choked': 2, 'hogtied': 1, 'handsupnc': 1, 'bruin': 1, 'reporter': 9, 'janevoter': 1, '300+': 1, 'skybo': 1, 'morganton': 1, 'mcpherson': 1, 'rd': 1, 'copters': 1, 'millionsmarchoak': 2, 'millionsmarch': 2, 'either': 9, 'therootmow': 1, '8pet': 1, 'oaklandprotest': 3, 'manhattan': 1, 'infighting': 2, 'threaten': 8, 'foxnews': 8, 'yeahhhhhhhhh': 1, 'anyway': 5, 'yae': 1, 'awayyou': 1, 'royalty': 1, 'courthouse': 2, 'grant': 4, 'iamoscargrant': 1, 'every1': 2, 'dayofresistance': 1, 'physically': 1, 'mentally': 2, 'brooklyn': 6, 'precinct': 7, 'reconcile': 1, 'declaration': 3, 'defense': 7, 'faith': 7, 'tphonline': 1, 'symbol': 5, 'ebc': 1, 'illustrate': 1, 'dan': 1, 'botz': 1, 'everylifematters': 2, 'dark': 8, 'amber': 1, 'founder': 10, 'charles': 4, 'williams': 9, 'proclaim': 4, 'asianamerican': 1, 'granny': 2, 'ironic': 5, 'venezuela': 1, 'govt': 3, 'trillion': 3, 'sept': 1, '2015': 24, 'biz': 1, 'millionmarchsf': 1, 'realizes': 1, '54': 1, 'ggctransforms': 1, 'shadow': 1, 'seahawks': 2, 'bother': 5, 'eastern': 1, 'urgency': 2, 'bumrushed': 1, 'genesis': 1, '27': 3, 'sermonnotes': 1, 'scale': 6, 'afrofuturism': 2, 'omgyes': 1, 'basketball': 4, 'label': 7, 'busan': 1, 'korea': 1, 'bifskorea': 1, 'lewistonauburn': 1, 'bernard': 1, 'lown': 1, 'marcel': 1, 'smith': 7, 'ablacknation': 2, 'east': 3, '75th': 1, 'avis': 1, 'site': 2, 'defeat': 5, 'millionsmarchoakland': 1, 'peoplesmovement': 1, 'huddle': 1, 'billdeblasio': 1, 'protocol': 1, 'wore': 6, 'orangeburg': 1, 'bigriverchurch': 1, 'aphia': 1, 'district': 3, 'conference': 6, 'apa1906network': 1, 'pharaoh': 3, 'egyptian': 2, 'coat': 1, 'coatdemariobailey': 1, 'shutdownopd': 3, 'mansionshutdown': 1, 'queer': 11, 'broadway': 3, '7th': 3, 'watershed': 1, 'erpa': 1, 'bond': 2, 'iggy': 2, 'heartwarming': 1, 'propolice': 2, 'round': 5, 'sinister': 1, 'remark': 1, 'graduation': 2, 'brilliant': 7, 'emma': 1, 'cunningham': 1, 'overstatedtamir': 1, '12year': 1, 'wilmington': 1, 'de': 2, '530pm': 2, 'asians4blacklives': 2, 'ahead': 6, 'quarter': 1, 'defi': 1, 'forumreacts': 1, 'dctheatre': 1, 'dcarts': 1, 'dcevents': 1, 'asf': 2, 'inspiration': 3, 'heidispeaks': 1, 'timelapse': 1, 'icantb': 1, 'vexed': 1, 'lmao': 6, 'attach': 2, 'donut': 3, 'fishing': 1, 'pole': 1, 'catch': 6, 'lt3': 4, 'modelminoritymutiny': 1, 'smell': 6, '41st': 1, 'tuscaloosa': 1, '35405': 1, 'careful': 3, 'flsg': 1, 'opd': 4, 'replace': 2, 'eveybodys': 1, 'oprah': 5, 'barbara': 2, 'walter': 6, 'gorgeous': 1, 'visualization': 1, 'hiding': 2, 'badge': 5, 'zwarte': 1, 'piet': 1, 'stereotype': 2, 'zwartepiet': 1, 'posttamirericmichael': 1, 'dayofpurpose': 1, 'phaseone': 1, 'millionsmarchla': 5, 'lyrical': 1, 'broadcast': 3, 'illridewithyou': 1, 'ziptied': 1, 'lockdown': 1, 'policefunnies': 1, '30am': 1, 'lawyerdiein': 1, 'fairly': 1, 'newyork': 3, 'ucc': 3, 'racialjustice': 6, 'huffpo': 2, 'piece': 14, 'discontent': 1, 'elizabeth': 3, 'warren': 3, 'cancer': 6, 'fundraiser': 2, '2nite': 2, '630p': 1, 'reacts': 2, '8pm': 1, 'dts': 1, 'role': 9, 'doblacklivesmatter': 1, 'jumped': 3, 'colleague': 4, 'wo': 6, 'lapse': 1, 'blacktruthmatters': 1, 'jade': 2, 'factsgtcauses': 1, 'indignant': 1, 'blackarent': 1, 'righteous': 3, 'arm': 14, 'shy': 1, 'tupac': 2, 'courage': 5, 'dearsanta': 1, 'applause': 2, 'linkin': 1, '600000': 1, '13th': 3, 'defender': 2, 'presentation': 3, 'colorline': 1, 'socl3000': 1, 'earn': 4, 'footstep': 1, 'transform': 2, 'wrongly': 1, 'bassemmasri': 1, 'housing': 3, 'institutionally': 1, 'neglect': 1, '1970s': 2, 'los': 6, 'angeles': 6, 'filmmaker': 1, 'invisible': 3, 'visible': 3, 'nottinghamcantbreathe': 1, 'afternoon': 3, 'dm': 1, 'attain': 1, 'conscience': 4, 'crazier': 1, 'appear': 6, 'staywoke': 6, 'nypds': 1, 'cooption': 1, 'joke': 17, 'smurf': 1, 'notmaryama': 1, 'scotfree': 1, 'thisendsnow': 1, 'salem': 1, 'winfrey': 2, 'guest': 8, 'livefree': 1, 'ampshutting': 1, '132': 1, 'pakistan': 2, 'pakistansiege': 1, 'bundy': 1, 'ranch': 2, 'gunman': 7, 'askacop': 1, 'wecantbreath': 1, 'picked': 3, 'silly': 2, 'sharptonled': 1, 'alienates': 1, 'wiunion': 1, 'thoughtful': 2, 'demeans': 1, 'kanye': 3, 'input': 1, 'hannah': 2, 'giorgis': 1, 'flavor': 1, 'blueberry': 1, 'frost': 1, 'chanukahaction': 3, 'stinney': 1, 'execute': 6, 'conviction': 5, 'overturn': 2, 'jamesbaker': 1, 'forum': 4, 'unified': 1, 'bayarea': 2, 'morningbe': 1, 'bold': 2, 'conscious': 4, 'connects': 2, 'artsy': 1, 'avantgarde': 1, 'histrcly': 1, 'waygtlegacy': 1, 'workout': 1, 'population': 4, 'combat': 6, 'eradicate': 3, 'outline': 1, 'charade': 1, 'dangelo': 1, 'gendering': 1, 'perspective': 5, 'racegenderclass': 1, 'intersection': 6, 'freemarissa': 1, '50000': 1, 'umaara': 1, 'elliott': 1, '16': 9, 'victory': 3, 'clean': 3, 'air': 8, 'environmentaljustice': 1, 'biome': 1, 'chanukah': 1, 'blackmessiah': 1, 'sony': 1, 'outrageous': 1, 'suppress': 2, 'stood': 4, 'blackart': 4, 'memorial': 6, 'taint': 1, 'box': 2, 'tale': 3, 'solitary': 2, 'confinement': 2, 'rikers': 1, '100plus': 1, 'dtla': 1, 'bare': 1, 'ramarleygraham': 2, 'chalked': 1, '18yo': 1, 'ramarley': 1, 'poltwt': 2, 'certifiable': 1, 'whackjobs': 1, 'wave': 6, 'smfh': 2, 'trigger': 3, 'worn': 1, 'diblasio': 1, 'cue': 1, 'phil': 2, 'ochs': 1, 'moa': 9, 'saturday': 5, 'recommend': 2, 'progressive': 15, 'quaker': 2, 'sight': 6, 'debate': 36, 'auspol': 2, 'wapol': 1, 'qldpol': 1, 'nswpol': 1, 'springst': 1, 'sapol': 1, 'kalamazoo': 1, 'kalamazooarea': 1, 'reflect': 4, 'success': 4, 'gain': 4, 'steal': 6, 'session': 4, 'colorblind': 1, 'fashion': 1, 'rebuild': 5, 'upcoming': 2, 'dispersal': 1, 'mall': 14, 'marcher': 1, 'tgdn': 2, 'apropos': 3, 'valuable': 1, 'childrens': 3, 'nod': 2, 'agreement': 2, 'welfare': 2, 'arguably': 1, 'diverse': 1, 'leonard': 1, 'peltier': 1, 'australia': 3, 'rot': 2, 'ishmael': 1, 'brinsley': 1, 'ftprotesters': 1, '1047fm': 1, 'blackxmas': 3, 'style': 3, 'sort': 6, 'anxiety': 1, 'shitty': 1, 'nypdlivesmatter': 11, 'holditdown': 1, 'avenge': 1, 'michealbrown': 1, 'tmmrw': 1, 'abandon': 2, 'jessicachambers': 1, 'courtland': 1, 'm': 5, 'justiceforjessica': 1, 'allnothing': 1, 'fighttake': 1, 'wgood': 1, 'suppolooks': 1, 'turnupforjustice': 1, 'justice4dontre': 2, 'greek': 1, 'greekletter': 1, 'turnout': 1, 'ferguson2cle': 1, 'civic': 3, 'participation': 2, 'passion': 3, 'commerce': 1, 'blamethevictim': 1, 'benefitofdoubtgoestodeadone': 1, 'hv': 2, 'murderednor': 1, 'chokedshot': 1, 'harriet': 1, 'tubman': 1, 'empowerourown': 1, 'art2light': 2, 'gf': 1, 'convert': 3, 'heartbreak': 1, 'correctness': 2, 'devolve': 2, 'madness': 2, '700': 1, 'ferguson2nc': 1, 'insinuates': 1, 'buti': 1, 'policeman': 2, 'assassinate': 1, 'extremist': 4, 'sigh': 3, 'adjective': 1, 'selfish': 3, 'etcall': 1, 'sleepyface': 6, 'model': 4, 'express': 6, 'psycho': 2, 'shoulda': 1, 'gunmanjust': 1, 'bleed': 2, 'worthless': 3, 'waste': 6, 'golf': 2, 'receive': 4, 'po': 5, 'pattern': 3, 'hatred': 9, 'turnyourback': 1, 'govern': 1, 'ismayyilbrinsley': 1, 'outlet': 1, 'omit': 1, 'nypdshooting': 1, 'wgirlfriend': 1, '2hear': 1, 'hostile': 3, 'inflammatory': 1, 'rhetoric': 8, '2stop': 1, 'menpt2': 1, 'mutually': 3, 'opportunistic': 1, 'cynical': 3, 'blackseveryone': 1, 'assertion': 1, 'disingenuous': 2, 'skippy': 1, 'serf': 2, 'clinic': 3, 'revenge': 3, 'solution': 6, 'ariyana': 1, 'condemns': 3, 'vision': 3, 'copslivesmatter': 8, 'ultimate': 2, 'shoutout': 2, 'snowmanwithoutsnow': 1, 'icant': 1, 'kudostolush': 1, 'rudy': 2, 'antipolice': 6, 'ha': 1, 'racismisreal': 1, 'racist+': 1, 'swarmdc': 1, 'own': 3, 'fieldcourt': 1, 'nelly': 1, 'defends': 6, 'crash': 2, 'ball': 4, 'compliance': 1, 'ignoranceisbliss': 1, 'legit': 3, 'merica': 4, 'justiceforbrandontatebrown': 1, 'stake': 2, 'lord': 4, 'braver': 1, 'false': 6, 'bravado': 1, 'violate': 1, 'suspend': 1, 'tea': 3, 'partiers': 1, 'strip': 2, 'brandontatebrown': 4, 'anticop': 5, 'kamala': 1, 'harris': 1, 'safeguard': 1, 'prosecute': 1, 'sfgate': 1, 'concept': 3, 'denver': 4, 'transformation': 2, 'denverforferguson': 1, 'monopoly': 3, 'bias': 8, 'nrafail': 1, 'various': 2, 'thro': 1, 'weep': 1, 'solidarity4life': 1, 'nbc': 1, 'comcast': 2, 'walsharpton': 1, 'sud': 1, 'sponsrs': 1, 'bloomington': 3, 'atty': 2, 'financial': 2, 'restitution': 3, 'greatness': 3, 'oppression': 7, 'rallyunite': 1, 'menorah': 1, 'highlight': 5, 'unhealthy': 1, 'result': 10, 'reconciliation': 2, 'strives': 1, 'pronypd': 1, 'intent': 1, 'prime': 3, 'performance': 7, 'twice': 2, 'prop': 3, 'aid': 5, 'micheal': 1, 'akai': 1, 'gurley': 1, 'ezell': 1, 'ford': 2, 'materialize': 1, 'cbs': 3, 'ripeyou': 1, 'fall~cheguevara': 1, 'knowledgeofself': 1, 'africanhistory': 1, 'alienate': 1, 'represent': 9, 'palestinian': 4, 'who2trust': 1, 'hypocrisy': 11, 'politically': 6, 'inform': 1, 'footage': 7, 'ear': 3, 'cowardice': 2, 'antoniomartin': 15, 'discover': 4, 'jealousy': 1, 'theymad': 1, '5th': 4, 'shutdown5thave': 2, 'cantandwont': 1, 'intill': 1, 'afford': 1, 'downcastfacewithsweat': 1, 'nolongershockedorhorrifiedbypolicebrutality': 1, 'flip': 2, 'flop': 1, 'borage': 1, 'hateful': 3, 'witch': 3, 'heartless': 1, 'alfred': 1, 'throwdown': 1, 'define': 4, 'lewis': 4, 'poteet': 1, 'dictionary': 2, 'slang': 1, '2000': 7, 'canilive': 1, 'spreadtheword': 2, '2014in5words': 1, '18': 3, 'thismuststop': 1, 'blackman': 1, 'blackteens': 1, 'leohero': 1, 'bluehonor': 1, 'stopthehate': 1, 'alot': 5, 'stopkillingus': 8, 'randomly': 1, 'classy': 1, 'tablet': 1, 'journalist': 8, 'cinema': 1, 'prism': 1, 'mary': 2, 'nothingnew': 1, 'werent': 7, 'chargemetoo': 2, '21x': 1, 'research': 7, 'equivocation': 1, 'antonio': 2, 'happening': 1, 'thelastball': 1, 'credential': 1, 'prioritize': 3, 'exploit': 4, 'brotherblacklivesmatter': 1, 'sf': 4, 'queersforblacklivesmatter': 1, 'version': 4, 'ought': 2, 'comfortable': 3, 'payer': 2, 'loyal': 1, 'analyze': 2, 'totality': 1, 'reality': 17, 'chronicle': 1, 'thou': 3, 'shalt': 1, 'eat': 6, 'sustain': 5, 'unitedforjustice': 1, 'staygolden': 1, 'projectile': 1, 'vomit': 1, 'promise': 2, 'antioniomartin': 1, 'topic': 7, 'disturb': 1, 'mf': 1, 'policethe': 1, 'whiteshame': 1, 'intersectionality': 2, 'distance': 2, 'grown': 2, 'intelligence': 2, 'afroamerican': 1, 'ida': 1, 'wellsblacklivesmatter': 1, 'wood': 2, 'xmas': 3, 'lax': 1, 'wknd': 1, 'wur': 1, 'greatampimportant': 1, 'donny': 1, 'hathaway': 1, 'someday': 1, 'whitehistory': 1, 'offduty': 1, 'coin': 5, 'snuffed': 1, 'nojuice': 1, 'runforjustice': 1, 'blackgirlsrun': 1, 'blackmenrunnyc': 1, '18th': 1, 'stlunited': 1, 'broadly': 1, 'conclusion': 1, 'ghost': 1, 'mississippi': 3, 'howwhy': 1, 'tsa': 1, 'allowcondone': 1, 'hazard': 1, 'nonsense': 5, 'airport': 2, 'total': 3, 'vp': 2, 'relievedface': 1, 'muticulutralnyc': 1, 'unprofessional': 1, 'blacllivesmatter': 1, 'surprising': 3, 'ta': 10, 'raisinghands': 17, 'ayatollah': 2, 'ali': 4, 'khamenei': 1, 'blast': 6, 'clutch': 3, 'purse': 1, 'elevator': 1, 'record': 9, 'resonate': 1, 'colombia': 1, 'estimate': 1, '13000': 1, 'sham': 4, 'structural': 3, 'grows': 5, 'happypurging': 1, 'newyear': 1, 'savage': 3, 'final': 3, 'stretch': 2, 'steamer': 1, 'lincoln': 1, 'navigator': 1, 'viewer': 1, 'h55': 1, '280': 1, 'protestla': 1, 'tyga': 2, 'standup': 1, 'restaurant': 11, 'newfound': 1, 'chipotle': 2, 'troll': 16, 'approves': 2, 'blaze': 1, 'bye': 6, 'trollsdiminishesusall': 1, 'driver': 4, 'plow': 1, 'bizpac': 1, 'evolve': 2, 'notagain': 1, 'iran': 7, 'supreme': 4, 'trash': 9, 'breitbart': 3, 'assumes': 2, 'enforce': 2, 'eve': 3, '9pm': 1, 'yesallwhitepeople': 1, 'notallwhitepeople': 1, 'krystal': 1, 'muhammad': 1, 'chairwoman': 1, 'nbpp': 1, 'jordanbaker': 1, 'mcc': 1, 'federal': 10, 'van': 2, 'buren': 1, 'rahmrepnow': 2, 'takeblackchi': 1, 'tuesdaytendertweets': 1, 'lipstick': 1, 'razorblade': 1, '2206': 1, 'superior': 1, '44113': 1, 'soldier': 5, 'return': 6, 'booing': 3, 'felt': 3, 'dept': 5, 'frustrate': 3, 'atrocity': 2, 'forgiveness': 2, 'diplomacy': 1, 'lool': 1, 'anyways': 2, 'highway': 5, '110': 1, 'justiceforezellford': 1, 'policemurder': 1, 'msg': 3, 'nye2015': 1, 'millionmanmarch': 8, 'untold': 1, 'dctv': 1, '1231': 2, '2p': 1, 'click': 3, 'enrichment': 1, 'squander': 1, 'copwatch': 2, 'concert': 1, 'nhk': 1, 'yokohama': 1, 'stadium': 2, 'flash': 3, 'begets': 1, 'planet': 4, 'nonviolent': 3, 'abject': 1, '13+': 1, 'nye2015protest': 3, 'brutalitymurder': 1, 'drone': 3, 'impt': 1, 'ritual': 1, 'reallivetransadult': 1, 'truthdig': 2, 'fergusonmissouri': 1, 'fox5newsdc': 1, 'wtop': 1, 'jeopardy': 1, 'truthout': 1, 'deannaalexander': 1, 'unifythemessage': 1, 'blackfamilychallenge': 1, 'leelahalcorn': 1, 'noh8': 1, '8': 5, 'watcher': 1, 'plymouth': 1, 'guilty': 2, 'hijack': 4, 'nye': 1, 'ampput': 1, 'fist': 1, 'livestreaming': 1, 'newyear2015': 1, 'arrestdarenwilson': 1, 'slap': 4, '14540': 1, 'motion': 1, 'commitment': 1, '8am': 1, 'cohost': 2, 'examination': 2, 'killin': 8, 'ella': 3, 'baker': 2, 'aiyanajones': 3, 'bobmcculloch': 3, 'kajiemepowell': 1, 'erupt': 2, 'besttweetoftheday': 1, 'endwhitesilence': 2, 'resolve': 2, 'everywhereblacklivesmatter': 1, 'depress': 2, 'irish': 4, 'surname': 1, 'pop': 7, 'rant': 5, 'mauritania': 1, 'marginalise': 2, 'linguistically': 1, 'socially': 3, 'humanrightsday': 1, 'racistmauritania': 1, 'protestestors': 1, 'selma50': 5, 'occupywallstreetpics': 1, 'wonderfully': 1, 'timely': 3, '213': 1, 'incarceration': 4, 'contradict': 1, 'thatll': 1, 'military': 4, 'price': 3, 'toe': 1, 'tv': 7, 'pittsburgh': 5, 'blasio': 1, 'liu': 1, 'spoiledbrats': 1, 'disbar': 2, 'shed': 5, 'infertility': 1, 'option': 1, 'pursue': 1, 'birth': 6, 'hypocrite': 7, 'msnbc': 5, 'picnot': 1, 'stopthebs': 1, 'none': 11, 'optimistic': 1, 'relation': 5, 'fury': 2, 'blowing': 2, 'escort': 2, 'derange': 3, 'thisisthemovement': 2, 'jan': 4, 'logic': 4, 'tribunal': 1, '1620': 1, 'truthyreparation': 1, 'resonates': 1, 'teacherlibrarians': 1, 'resource': 1, 'ttpt': 1, '72015': 1, 'interested': 6, 'apart': 4, 'icanbreathe': 1, 'gag': 1, 'irony': 3, 'caller': 1, 'suggest': 5, 'depressed': 2, 'uparrow': 1, 'hahahahahahaahhhh': 1, 'silliness': 1, 'executioner': 1, 'forgotand': 1, 'witness40': 1, 'audio': 4, 'sturk': 1, 'feat': 1, 'kg': 1, 'selmamovie': 5, 'grandkids': 1, 'itthey': 2, 'muat': 1, 'futurealllivesmatter': 1, 'w14': 1, 'bacalls': 1, '70000': 1, 'penalty': 3, 'coworker': 1, 'password': 1, 'distress': 2, 'discomfort': 2, 'fallon': 1, 'andre': 1, '3000': 1, 'skirmish': 1, 'betrayed': 2, 'potential': 3, 'reinforce': 2, 'communitiestalk': 1, 'sincerely': 1, 'undo': 2, '100yr': 1, 'vet': 2, 'medal': 1, 'ceremony': 1, 'crashed': 1, '17': 3, 'movementremains': 1, 'necessary': 8, 'season': 4, 'mistake': 8, 'deer': 1, 'realshit': 1, 'approval': 2, 'naacpbombing': 6, '2day': 3, 'ampno': 1, 'chart': 1, 'jesuischarlie': 4, 'erasure': 1, 'empirefox': 3, 'reconsider': 2, 'abuser': 1, 'domesticviolencekills': 1, '1963': 2, 'senegal': 2, 'africa': 10, 'motherland': 1, 'fuckwhatyouheard': 1, 'operatiovote2016': 1, 'admire': 1, 'determination': 1, 'panther': 4, 'bagel': 1, 'bys': 1, 'blackbrunchnyc': 3, 'ouryjalloh': 1, 'dessau': 1, 'aprox': 1, '400': 3, 'partcipate': 1, 'nohate': 1, 'lylesstation': 1, 'radiation': 1, 'experiment': 3, 'consistent': 1, 'bookofnegroes': 2, 'ondemand': 1, 'episode': 11, 'lethal': 1, 'pt1': 1, 'track': 8, 'montana': 2, 'mtpol': 1, 'uniteblue': 21, 'mtleg': 1, 'blackbrunch': 2, 'doula': 1, 'evangelical': 1, 'pursuit': 1, '24687': 1, 'signature': 2, '25000': 1, 'dynamite': 1, 'cartoon': 2, 'terrorismathome': 1, 'curriculum': 2, 'homeschool': 1, 'miracle': 1, 'significance': 2, 'context': 4, 'ijumaa': 1, 'pronounce': 1, 'eejoomah': 1, 'infallible': 2, 'realtime': 1, 'corporation': 2, 'tangle': 1, 'bank': 3, 'innovation': 1, 'paris': 7, 'boko': 3, 'haram': 2, 'nigeria': 8, 'charliehebdo': 1, 'bokoharam': 3, 'cpchq': 1, 'heinous': 3, 'yea': 5, 'cdnpoli': 2, 'alllivesmatters': 1, 'brownboybad': 1, 'web': 2, 'language': 6, 'fully': 5, 'solidaritrees': 2, 'tf': 5, 'dedham': 1, 'yearofresistance': 1, 'cut': 10, 'crust': 1, '11915': 1, 'policingcorruption': 1, 'spy': 10, 'pl': 2, 'ongoing': 2, 'gg': 1, 'balance': 1, 'harmony': 1, 'motivates': 1, 'snapchat': 2, 'goldenglobes': 1, 'ethnicity': 2, 'unconstitutional': 1, 'unlawful': 3, 'morally': 1, 'repugnant': 1, 'affiliate': 2, 'thrill': 1, 'installation': 1, 'mend': 1, 'fence': 2, 'mistreatment': 1, 'offensive': 6, 'sistad': 1, 'deebarnes': 1, 'bodyandsoul': 1, 'pumpitup': 1, 'dash': 4, 'exposure': 1, 'islamic': 3, 'jimmy': 1, 'carter': 2, 'absolute': 4, 'jusuischarlie': 1, 'jusuisafrican': 1, 'understood': 3, 'massacre': 5, 'wellblacklivesmatter': 1, 'amadoudiallo': 2, 'seanbell': 1, 'kendrecmcdade': 1, 'foreign': 2, 'blacktransrevolution': 1, 'twocc': 1, 'smilingfacewithsmilingeyes': 4, 'dignity': 3, 'legend': 5, 'perform': 2, 'dianne': 1, 'ridley': 1, 'robert': 2, 'wednesdaywisdom': 1, 'nigerianlivesmatter': 1, 'matt': 2, 'committee': 2, 'unamerican': 1, 'thisiscle': 1, 'organizecle': 1, 'feminism': 7, 'lgbtqrights': 1, 'moisturise': 1, 'irritated': 1, 'wash': 4, 'facesavoringfood': 1, 'alldiseasessuck': 1, 'scandalous': 1, 'inaction': 1, 'largescale': 1, 'publicembarrassment': 1, 'mtvhiphop': 1, 'shuts': 3, 'mlkstrike': 2, 'nyc4mlk': 2, 'reclaimmlk': 19, 'harams': 1, 'deadliest': 2, '2014s': 2, 'academic': 2, 'linguist': 1, 'labyrinth': 1, 'exclusion': 2, '93+': 1, 'neverforget': 1, 'satellite': 1, 'devastation': 1, 'baga': 1, 'murran': 1, 'endanger': 6, 'choke': 3, 'occupy': 7, 'hose': 2, 'blackpowermatters': 1, 'blackyakub': 1, 'frm': 2, 'producer': 1, 'hiphop': 9, 'bead': 1, 'carrboro': 1, '27510': 1, 'commuterslivesmatter': 1, 'excite': 6, 'feb': 3, 'poet': 2, 'unforgettable': 1, 'tracy': 1, 'rector': 1, 'noms': 1, 'selma2seattle': 1, 'marchon': 2, 'blacklivesmattersea': 2, 'kerry': 1, 'heatxplosion': 1, 'buy': 9, 'ecohome': 1, 'itblacklivesmatter': 1, 'bartfriday': 1, 'belle': 1, 'isle': 1, 'buttercomfort': 1, 'practicethey': 1, 'greatestcountry': 1, 'sat': 3, '117': 1, 'ftlauderdale': 2, 'fl': 7, 'blvd': 2, '1pm': 1, 'lazy': 1, 'ebt': 2, 'moot': 1, 'untruthful': 1, 'allraces': 1, 'grave': 2, 'rendition': 1, 'iconic': 1, 'ohfreedom': 1, 'gent': 1, 'nerdland': 9, 'thankyou': 2, 'seizure': 1, 'rossa': 1, 'suspectwhere': 1, 'finish': 2, 'grandmother': 1, 'austin': 8, 'millionsmarchtx': 1, 'rebuttal': 2, 'criticism': 4, 'barricade': 1, 'assemble': 1, 'reclaimmlkoak': 1, 'usemeinstead': 1, 'meal': 1, 'internalize': 2, 'dominance': 1, 'callin': 2, 'nazareth': 1, 'cafe': 6, 'tx': 8, '77081': 1, 'preaches': 2, 'mlkday': 4, 'badlands': 1, 'toadhall': 1, 'threw': 2, 'shutdowncastro': 3, 'freethinker': 2, 'soros': 5, 'spent': 4, '33m': 1, 'oceanexpecting': 1, 'manta': 1, 'aqua': 1, 'lad': 1, '130pm': 1, 'independence': 1, 'francisco': 2, 'mattermlkday': 1, 'dream4justice': 1, 'reclaimmlkmn': 1, 'marcusgolden': 1, 'sarah': 1, 'oneal': 1, 'recites': 1, 'spoken': 2, 'pt2': 1, 'stroller': 1, 'blacklivesmpls': 1, 'pave': 1, 'makenzie': 1, 'trayvons': 2, 'tonightshe': 1, 'panel': 5, 'nw': 1, 'christians4blackliberation': 1, 'wakeupthemayor': 1, 'surprise': 5, 'mjs': 1, '4tha': 1, 'causewwmjdblacklivesmatter': 1, 'forwardtogether': 1, 'njc': 1, 'womensrights': 2, 'opposite': 3, 'accidental': 2, 'selfie': 1, 'dedicate': 2, 'wiser': 1, 'anemic': 1, 'inca': 1, 'dancer': 1, 'hr': 3, 'marcusgoldenmatters': 1, 'tress': 1, 'salon': 3, '27616': 1, 'short': 5, 'marked': 2, 'selmaisnowwv': 1, 'latinolivesmatter': 5, 'asianlivesmatter': 1, 'everydayismlkday': 1, 'ding': 1, 'retail': 3, 'pencil': 1, 'sotu': 8, 'pbo': 1, 'theblazesotu': 1, 'eugenics': 1, 'sobu': 3, 'dip': 2, 'consumer': 2, 'sotu5words': 1, 'sotu2015': 2, 'selfless': 1, 'star': 5, '20+': 1, 'govcuomo': 1, 'nyopportunity': 1, 'sots2015': 1, 'mlkday2015': 1, 'blow': 2, 'nj': 1, 'restock': 1, 'size': 1, 'shinow': 1, 'bio': 9, 'resolution': 4, 'ariana': 1, 'gharib': 1, 'amnesty': 2, 'dhs': 3, 'damage': 4, 'amanda': 1, 'azealia': 1, 'yoruba': 1, 'tradition': 3, 'kat': 1, 'brook': 1, 'blackfriday14': 4, 'sorryits': 1, 'ransom': 1, '70k': 1, 'fee': 2, 'palante': 2, 'siempre': 1, 'thnk': 1, 'ncludes': 1, 'chkd': 1, 'movmnt': 3, 'hlps': 1, 'evry1': 1, 'butaas': 1, 'western': 3, 'wearenotequal': 1, 'matterno': 3, 'misunderstands': 1, 'weight': 1, 'joyful': 2, 'oasshole': 1, 'netanyahu': 1, 'hadenoughalready': 1, 'oregon': 7, 'burris': 1, 'constitutional': 1, 'oakmtg': 2, 'kendrick': 3, 'lowndes': 1, 'unequivocally': 2, 'announcement': 1, 'praise': 4, 'congregant': 1, 'scotus': 2, 'uus': 1, 'umoja': 1, 'uhuru': 1, 'poignant': 1, 'patricia': 1, 'jason': 1, 'yo': 12, 'prince': 10, 'tiore': 1, 'sexton': 1, 'norfolk': 1, 'elder': 2, 'grade': 1, 'bra': 1, 'nite': 2, 'crown': 5, 'tour': 2, 'latenightthoughts': 1, 'superintendent': 1, 'storyfreak': 1, 'freak': 5, 'freddys': 1, 'deaddid': 1, 'superbowl': 1, 'blackdollarsmatter': 5, 'ben': 7, 'parliament': 1, 'smashthestate': 1, 'thinker': 2, 'gjlove': 1, 'bullying': 3, 'shake': 1, 'blizzard': 1, 'quench': 1, 'prophetic': 2, 'patrisse': 3, 'cullors': 3, '77': 1, '26th': 1, 'excludes': 1, 'taste': 1, 'submit': 2, 'freedomofspeech': 1, 'vid': 5, '88': 2, 'casteism': 1, 'fought': 4, 'jerry': 1, 'everylivemattets': 1, 'noble': 1, 'mehserle': 1, 'dropthecharges': 1, 'carenotkill': 1, 'stephon': 1, 'app': 8, 'android': 1, 'doughty': 1, 'debaleena': 1, 'dasgupta': 1, 'deborah': 1, 'lesley': 1, 'thomas': 3, 'curtin': 1, 'blacklivesmatteruwmke': 1, 'manysome': 1, 'successful': 1, 'pr': 3, 'postracialamerica': 1, 'unicorn': 1, 'compare': 4, 'antiterror': 1, 'unit': 4, 'disband': 2, 'steadfast': 1, 'loveampispect': 1, '12yesterday': 1, 'garage': 1, 'flashlight': 1, 'nose': 1, 'luv': 2, 'atlconference': 1, '78': 1, 'floodthesreets': 1, 'whokilledbrandontatebrown': 1, 'commissioner': 2, 'invokes': 1, 'justify': 8, 'antiterrorism': 1, 'resilience': 2, 'actonclimate': 1, 'rhyme': 1, 'republic': 2, 'ticket': 3, 'dsreview': 1, 'thenextbigshowcase': 1, 'panorama': 1, '91402': 1, 'lando': 1, 'calrissian': 1, 'fly': 2, 'millennium': 1, 'falcon': 1, 'sabacc': 1, 'han': 1, 'solo': 1, 'busy': 2, 'centre': 2, 'club': 1, 'cane': 1, 'promotin': 1, 'cornel': 4, 'percent': 1, 'poverty': 4, 'spiritual': 2, 'malnutrition': 1, 'moral': 4, 'constipation': 1, 'draw': 4, 'snowball': 2, 'copcrimewave': 1, 'politeonsociety': 1, 'blogsohard': 1, 'filmselfpreservation': 1, 'indie': 2, 'receiver': 1, 'superbowlxlix': 1, 'gunpoint': 1, 'havinga': 1, 'measles': 1, 'outbreak': 1, 'widespread': 2, 'diversionary': 1, 'technique': 1, 'sumayyah': 1, 'amazon': 1, 'childauthor': 1, 'debutbook': 1, 'perpetuation': 2, 'umd': 1, 'succeed': 1, 'marcus': 3, 'garvey': 2, 'bwsphx': 1, 'moorishlivesmatter': 1, 'mustread': 1, 'bridgeton': 1, 'sue': 7, 'allege': 5, 'broward': 1, 'fortlauderdale': 1, 'dartmouth': 4, 'offer': 10, 'startup': 2, 'dubai': 1, 'gcc': 1, 'racismwhite': 2, 'neverforgotten': 1, 'realm': 1, 'systemically': 1, 'disenfranchise': 1, 'blackfuturemonth': 2, 'hypergrace': 1, 'holy': 5, 'revival': 3, 'bornagain': 2, 'provide': 2, 'nonpoc': 2, 'chain': 5, 'cc15': 1, 'dalton15': 1, 'oscarssowhite': 1, 'je': 1, 'suis': 1, 'charlie': 1, 'button': 2, 'carpet': 1, 'cdcwhistleblower': 3, 'healthlawyer': 1, 'mmr': 1, 'vaccine': 2, 'shedsdangerous': 1, 'immunocompromisedpatient': 1, 'disneyland': 1, 'hivaids': 1, 'blackjesus': 1, 'mourns': 1, 'ledariuswilliams': 1, 'isaacholmes': 1, 'pharrell': 5, 'beyoncé': 2, 'grammys': 7, 'rapus': 1, 'xxlmag': 1, 'forever': 3, 'boldly': 1, 'subtle': 3, 'gesture': 1, 'co': 4, 'kdot': 1, 'flame': 1, 'drake': 3, 'stans': 1, 'grammy2015': 1, 'amid': 3, 'stillness': 1, 'grammmys': 1, 'tellitlikeitis': 1, 'grammysnotimmune': 1, 'dissapointing': 1, 'itsonus': 2, 'psa': 1, 'grammy\\u200cs': 1, 'johnlegend': 2, 'whentheglorycomes': 1, 'sentiment': 3, 'booksamp': 1, 'moralmarchonmorrill': 1, 'whosediversity': 1, 'kalerupromised': 1, 'grammies': 1, 'grammy': 1, 'thegrammys': 1, 'mableton': 1, 'robbery': 3, 'cbs46': 1, 'le': 2, 'nubian': 1, 'commemorate': 1, '20th': 3, 'aniv': 1, 'bowl': 1, 'paff2015': 1, 'coffee': 6, 'blacklivesmatternot': 1, 'allen': 2, 'alone': 8, 'recover': 3, 'surgery': 1, 'carrythenames': 1, 'musicbiz': 1, 'shutdowna14': 5, 'stopmassincnet': 1, 'modernday': 1, 'debtor': 1, 'penn': 1, 'weaken': 2, 'hartford': 1, 'council': 4, 'comment': 10, 'trayvonmartinact': 1, 'ct': 2, 'cyberharassers': 1, 'beware': 1, '19year': 1, 'cyberharassment': 1, 'warrant': 2, 'muslimlivesmatter': 10, 'hypocrisyatitsfinest': 1, 'lmfao': 1, 'bryson': 2, 'trineka': 1, 'greer': 1, 'comm': 2, 'director': 3, 'aswm': 1, 'shirley': 1, 'webber': 1, 'fit': 4, 'mpc': 1, 'workshop': 5, 'explore': 2, 'antiblackness': 1, 'hashtagging': 1, 'amphis': 1, 'historian': 3, 'modern': 4, 'discuss': 12, 'misconception': 1, 'deceit': 1, 'eternally': 1, 'everyoneslifematters': 1, 'religion': 4, 'hypocracy': 1, 'itchy': 1, 'finger': 2, 'parking': 3, 'dispute': 3, 'chappelhillshooting': 1, 'regardless': 4, 'theory': 3, 'intensify': 1, 'mini': 1, 'spreadlovenothate': 1, 'religionscolorsocial': 1, 'standingscountriestime': 1, 'title': 1, 'jackierobinsonwest': 1, 'buildkidsup': 1, 'newsworthy': 1, 'presume': 2, 'blank': 2, 'patient': 1, 'ccdbg': 1, 'invest': 3, 'investinus': 1, 'rad': 3, '30th': 2, 'fever': 1, 'uwm': 1, 'showcase': 1, 'rightsbeyond2015': 1, 'stltogether': 1, '5o': 1, 'pair': 1, 'shoe': 4, 'blackloveday': 1, 'appropriately': 2, 'yds15': 1, '3times': 1, 'isolated': 1, 'hospital': 2, 'catholic': 1, 'dum': 1, 'diversas': 1, 'wen': 1, 'coopt': 1, 'blacktranslivesmatter': 6, 'vdaydinner': 1, 'islamophobia': 1, 'jesuismuslim': 1, 'inevitably': 1, 'nycall': 1, 'uu': 1, '100letterstomaketheworldbetter': 1, 'livessrllyy': 1, 'iloveobama': 1, 'anarchist': 4, 'deface': 3, 'prepare': 3, 'vandalize': 7, 'teaparty': 2, 'joshuageneration': 1, 'control': 14, 'riptrayvonmartin': 1, '53': 2, 'unhappy': 1, 'silt': 1, 'dramabased': 1, 'supportindie': 1, 'youthdevelopment': 1, 'yuvette': 1, 'justiceforyuvette': 1, 'wewantanswers': 1, 'changer': 1, 'critizing': 1, 'method': 3, 'moralmonday': 1, 'hoboken': 1, 'newjersey': 1, '1992': 1, 'brc': 1, 'fergusonspring': 3, 'justiceforkj': 1, 'smackmellon': 1, 'contrast': 1, 'civilrightsmovement': 2, 'reachwithus': 1, 'benjealous': 1, 'tsatkf': 1, 'being': 4, 'gender': 3, 'deeply': 1, 'confusion': 3, 'pretense': 1, 'girlslikeus': 1, 'latism': 1, 'atlat': 1, 'q2': 1, 'gsa': 1, 'blackfuturelegends': 1, 'gsaday4rj': 1, 'mangacartaholygrail': 1, 'fillintheblank': 1, 'worlddayofsocialjustice': 1, 'mklm4justiceandpeace': 1, 'usunitedabroad': 1, 'digitalactivism': 1, 'blmbpanel1': 1, 'rent': 2, 'heathen': 1, 'hardknockradio': 1, 'famous': 3, 'trauma': 2, 'sweetieyou': 1, 'belongyou': 1, 'grahammoore': 1, 'onefamily': 1, 'oscars2015': 2, 'bassett': 1, 'fantastically': 1, 'acceptance': 3, 'quite': 3, 'possibly': 3, 'snub': 1, 'lawmaker': 2, 'international': 4, 'restaraunt': 1, 'syracuse': 1, '13208': 1, 'blackbusiness': 47, 'sharodkindell': 1, 'defenddenver': 1, 'vein': 1, 'breakingnews': 1, 'fav': 2, 'playgroundbut': 1, 'feministoscars': 1, 'zimmerman': 4, 'rsvp': 3, 'iaw2015': 1, 'trayonmartin': 1, 'changetheworld': 1, 'aswell': 1, 'sparkle': 4, 'readtroubling': 1, 'ie': 2, 'infiltrate': 1, 'activistnyc': 1, 'incredible': 4, 'yourebeingtheracist': 1, 'unconscious': 2, 'dearwhitepeople': 1, 'msu': 1, 'keeper': 2, 'brotherlylove': 1, 'submissionsdisruptions': 1, 'com': 2, 'heat': 1, 'nat': 1, 'afam': 2, 'amphist': 1, 'racereligiongender': 1, 'mychal': 3, 'jazz': 3, 'culver': 1, '90232': 1, 'usm': 1, 'wgs': 1, 'nonprofit': 1, 'eas': 1, 'opinion': 12, 'goldie': 1, 'ptchat': 1, 'publiceducation': 1, 'archive': 2, 'pharaohalexander': 1, 'babyangel': 1, 'spadesuit': 1, 'gtgt': 22, 'inspirational': 1, 'commercial': 3, 'ltlt': 21, 'black365': 4, 'cty': 2, 'cdc': 2, 'fraud': 2, 'womyns': 1, 'artwork': 1, 'skid': 1, 'officerinvolved': 1, 'condone': 2, 'amongst': 3, 'ballot': 2, 'fergusonaction': 1, 'hisnamewasafrica': 1, 'blackhouselesslivesmatter': 1, 'turnup': 1, 'impose': 1, 'although': 3, 'majority': 4, 'derepeal': 1, 'skidrow': 1, 'alines': 1, 'cantkillafrica': 2, 'relevance': 1, 'purim': 1, 'inauthentic': 1, 'poorly': 1, 'perpetuates': 1, 'eliminates': 1, 'kellyonmymind': 2, 'giftofgodsfavor': 1, 'blacklivesmatter=blackmalelivesmatter': 1, 'marchprotestriot': 1, 'disaster': 1, 'third': 1, 'print': 2, 'lawblacklivesmatter': 1, 'finding': 1, 'fergusonreport': 3, 'remove': 6, 'prof': 4, 'pivotal': 1, 'inclusiveamerica': 1, 'blackvotesmatter': 4, 'lip': 1, 'symbolism': 1, 'riseupnow': 1, 'construct': 1, 'constructnot': 1, 'biological': 1, '✎': 1, 'bowling': 1, 'setting': 1, 'register': 4, '✆2253951792': 1, 'statebp': 1, 'bpnow': 1, 'scandal': 17, 'oreilly': 13, 'argues': 1, 'servedscandalabc': 1, 'scandalabc': 5, 'tgit': 1, 'oliviapope': 1, 'fitting': 2, 'addict': 1, 'epic': 3, 'scandalthursday': 1, 'interrupt': 12, 'storyline': 2, 'cash': 2, 'cow': 1, 'coffer': 1, 'repopoverty': 1, 'feather': 1, 'absent': 1, 'shonda': 2, 'hair': 4, 'blackoutday': 3, 'shondarhimes': 1, 'standupdontshoot': 1, 'mustwatch': 2, 'honestly': 3, 'august': 3, 'ep': 1, 'scandali': 1, 'obligation': 2, 'moa11': 2, 'wordsthank': 1, 'genius': 3, 'omg': 8, 'tamn': 1, 'tony': 5, 'robinson': 8, 'irrelevant': 2, 'icon': 2, 'diane': 1, 'nash': 1, 'shalom': 1, 'myth': 2, 'immune': 1, 'justice4tony': 3, 'tonyrobinson': 8, 'myonly': 1, 'myskin': 1, 'jordandavis': 2, 'crew': 6, 'dwell': 1, 'liberation': 6, 'caucus': 2, 'cair': 1, 'tenn': 1, 'legisl': 1, 'clarkeeeee': 1, 'clerk': 1, 'tix': 1, 'deconstruct': 1, 'reverberate': 1, 'kobach': 1, 'resign': 3, '02125': 1, 'selmont': 1, 'baptist': 1, 'movementforblacklives': 1, 'greedycity': 1, 'evenconvictedfelons': 1, 'wisconsin': 2, 'encourages': 2, 'teenager': 3, 'paradise': 1, 'confusedface': 5, 'amplify': 3, 'expand': 6, 'ouunheard': 1, 'capital': 1, 'stupidpeoplewhoattackpolice': 1, 'wakeup': 3, 'wi': 4, 'subject': 6, 'edina': 1, '530': 2, 'doughnut': 1, 'heroic': 1, 'fkn': 1, 'editor': 2, 'graham': 2, 'tougaloo': 1, 'migration': 1, 'reverend': 1, 'billy': 1, 'executive': 1, 'fergusonamerica': 2, 'anthony': 1, 'struck': 1, 'policethepolice': 1, 'individualize': 1, 'evade': 1, 'prayfortrey': 1, 'derek': 1, 'cruices': 1, 'nojusticejustus': 1, 'citizenreviewboard': 1, 'georgia': 4, 'leaf': 3, 'disbelief': 2, 'antlanta': 1, 'tonyhill': 1, 'rap': 6, 'sae': 1, 'tropical': 1, 'hut': 1, 'allentown': 1, 'pa': 3, '18109': 1, 'erin': 1, 'rockville': 1, 'hedge': 1, 'pour': 1, 'cuomoled': 1, 'bid': 1, 'charter': 1, 'fairfunding': 1, 'survive': 6, 'onlythestrongsurvive': 1, 'beamingfacewithsmilingeyes': 3, 'acceptable': 3, 'fergusonshooting': 2, 'accomplish': 3, 'destroyed': 3, 'dannas': 1, 'dof': 1, 'tough': 4, 'robbed': 1, 'matteri': 1, 'teenage': 3, 'reopenwhen': 1, 'couldve': 2, 'classism': 1, 'recruiting': 1, 'edit': 1, 'wiki': 1, 'page': 6, 'thiscouldbeusbutyouplayin': 1, 'battle': 6, 'infantry': 1, 'musuem': 1, '31903': 1, 'punishment': 3, 'task': 3, 'bitter': 2, 'scad': 1, 'savannah': 1, '31401': 1, 'miriamcarey': 1, 'drove': 4, 'checkpoint': 1, 'disabledlivesmatter': 1, 'hannity': 2, 'rofl': 1, 'nr': 1, 'wakeupamerica': 17, 'dcsolidarity': 1, 'empire': 8, 'tattoo': 1, 'extremely': 3, 'thisweek': 1, 'heroin': 1, 'user': 3, 'crimeisntjustablackproblem': 1, 'fulton': 1, 'detective': 1, 'terence': 1, '48': 2, 'amanuel': 1, 'menghesha': 1, 'spit': 3, 'journolist': 1, 'und': 1, 'mon': 1, '316': 1, '1030am': 1, 'pack': 2, 'sniper': 2, 'patheticman': 1, 'commie': 1, 'blackliesmatter': 9, 'hot': 7, 'marvin': 1, 'gayes': 1, 'inner': 3, 'sleep': 6, 'webinar': 3, 'dsoty': 1, 'westchester': 1, 'durst': 1, 'beaten': 3, 'confess': 1, 'edmn': 1, 'thepshow': 1, 'rewind': 1, 'doctor': 2, 'racetogether': 3, 'justiceformartese': 2, 'plug': 2, 'socialmedia': 3, 'empirefinale': 4, 'ltteachingtalking': 1, 'professu': 3, 'editorial': 5, 'spruill': 4, 'martesejohnson': 1, 'soundtrack': 2, 'tick': 1, 'vague': 2, 'ffs': 1, 'patti': 1, 'labelle': 1, 'empireglife': 1, 'theme': 4, 'ahhhh': 1, 'emipirefox': 1, 'search': 8, 'scammed': 1, 'sharptonfergusonhands': 1, 'judgment': 2, 'ncaatournament': 1, 'prophecy': 1, 'awake': 5, '13love': 1, 'catfished': 1, 'document': 4, 'abortionsnot': 1, '~sheriff': 1, 'ghrp': 1, 'humanrights': 6, 'respondin': 1, 'mysterious': 3, 'evokes': 2, 'painful': 2, 'imagery': 2, 'carolina': 12, 'dna': 1, 'fundamentally': 1, 'evidentiary': 1, 'rev': 7, 'pinkney': 2, 'april': 3, '830am': 1, 'freepinkney': 1, 'antiracismday': 1, 'americansnotracist': 1, 'amnestym2m': 1, 'nearly': 1, 'uncover': 1, 'cannon': 1, 'butler': 1, 'domination': 1, 'brunch': 2, 'spot': 4, 'spirituality': 2, 'insecurity': 1, 'sfpd': 2, 'strikeoutpolicebrutality': 1, 'gentrification': 1, 'mobilize': 2, 'iaarchat': 1, 'jermaine': 1, 'pleaseeee': 1, 'andregray': 1, 'pgh': 1, 'bringandrehome': 1, 'qtpoc': 1, 'manney': 1, 'permanently': 2, 'terminate': 1, 'nojusticenocompromise': 1, 'hipster': 1, 'sahara': 2, 'lounge': 2, '78721': 2, 'qampa': 5, 'alicia': 4, 'garza': 4, 'burgeon': 1, 'fuckin': 1, 'blkmarchmadness': 1, 'justice4tamir': 3, 'loehmann': 1, 'unfit': 1, 'assembly': 1, 'ugh': 4, 'attract': 2, 'variety': 2, 'ween': 1, 'otisbyrd': 1, 'copno': 1, '28names': 1, 'policeunions': 1, 'policemalfeasance': 1, 'policecorruption': 1, 'peacesymbol': 1, 'ⓥ': 1, 'mone': 1, 'slut': 1, 'factor': 2, 'poorer': 1, 'endure': 4, 'leg': 3, 'gym': 1, 'smilingfacewithsunglasses': 4, 'hubby': 1, 'peep': 2, 'freezer': 1, 'magical': 1, 'blackgirlsmatter': 3, 'elmwoodfranklinschool': 1, 'mollyclauss': 1, 'blackdoghaus': 1, 'wandrewatefs': 1, 'rehumanize': 1, 'typical': 2, 'upstairs': 2, 'pierre': 1, 'lafond': 1, 'montecito': 1, '93108': 1, 'term': 7, 'overuse': 1, 'render': 1, 'meaningless': 1, 'ericholder': 1, 'storytelling': 1, 'lovenote': 1, 'expansive': 1, 'cov4': 1, 'affair': 2, 'assistance': 2, 'jabariimaniandmary': 1, 'blackbrunchpdx': 1, 'def': 2, 'prob': 6, 'bringbackblackwallstreet': 1, 'negro': 7, 'league': 1, 'logo': 1, 'cap': 4, 'ebay': 1, 'negroleague': 1, 'springtime': 1, 'indifference': 1, 'virtue': 1, 'nonewnypd': 1, 'tin': 1, 'forgets': 1, '263': 1, '83': 1, 'days316': 1, 'marable': 1, '19502011': 1, 'blackhistoriansmatter': 1, 'protesterswin': 1, 'settlement': 1, 'hotbeverage': 1, 'simplyprofound': 1, 'robber': 1, 'abuseofauthority': 1, 'phillipwhites': 1, 'swift': 1, 'dope': 3, 'dealer': 1, 'gossiper': 1, 'leash': 1, 'marxism2015': 1, 'sosblakaustralia': 1, 'kenya': 2, 'garissa': 1, 'dozen': 4, 'takeonhate': 1, 'kenyan': 1, 'kenyaattack': 1, 'germanwings': 1, 'crash247': 1, 'weekterrorist': 1, 'onekenya': 1, 'sunshine': 1, 'whyiturnedtocrime': 1, 'getajobsparklingwiggles': 1, 'kylie': 1, 'jenner': 2, 'actionable': 1, 'relatable': 1, 'meninism': 1, 'allgirlsrock': 1, 'contemporary': 1, 'justicefortamir': 2, '159': 1, 'radio4': 1, 'regain': 1, 'proabortion': 1, 'walterscott': 41, 'firstedition': 1, 'byrd': 1, 'unbelieveable': 1, 'pause': 2, 'honeymoon': 1, 'extra': 1, 'ripwalterscott': 1, 'often': 5, 'hidden': 3, 'positionsampwe': 1, 'justiceforwalterscott': 1, 'occur': 2, 'charleston': 41, 'graphic': 6, 'decry': 1, 'reparation': 4, 'nomorenamehashtags': 1, 'ivalueblackmen': 1, 'frompolice': 1, 'shootingsamerica458': 1, 'entire': 4, 'system~': 1, 'retweeted': 5, 'statistic': 2, 'believable': 1, 'eight': 4, 'brokentaillightsmattermore': 1, 'iiigt': 2, 'northcharleston': 1, 'deathbycop': 1, 'whereishope': 1, '1936': 1, 'owe': 1, '60': 1, 'policestate': 6, 'donorschoose': 1, 'anonymity': 1, 'whiteblackalbino': 1, 'no1': 2, 'chargesrfiled': 1, 'slager': 4, 'frame': 5, 'blacklargesquare': 1, 'antiamer': 1, 'invention': 1, 'everydayman': 1, 'feidinsantana': 1, 'investigatory': 1, 'meerkat': 1, 'developer': 2, 'plant': 7, 'tamper': 1, 'clarencehabersham': 1, 'household': 3, 'asian': 7, 'knowyourrights': 2, 'handful': 2, 'trickle': 1, 'courtroom': 1, 'armband': 1, 'rekiaboyds': 2, 'structure': 1, 'nobodymattersbutblackpeople': 1, 'nonetheless': 1, 'persecute': 2, 'hallow': 1, 'msmpress': 1, 'weaponize': 1, 'slater': 1, 'arbitrary': 1, 'ericgarnerblacklivesmatter': 1, 'take444': 1, 'ifnotnowthenwhen': 1, 'path': 1, 'worry': 6, 'wil': 1, 'feidensantana': 1, 'passiton': 1, 'findingourfibers': 1, '911': 3, 'mag': 2, 'remarkable': 1, 'spark': 2, 'radioed': 1, 'taser': 2, 'audience': 4, 'maintain': 1, 'acui15': 1, 'copslie': 1, 'copaganda': 1, 'kp': 1, 'ncpd': 1, 'surpriz': 1, '╬╬╬╬╬╬': 3, 'consent': 3, 'madnes': 1, 'jk': 1, 'rowling': 1, 'stink': 1, 'heaven': 3, 'stephenlawrence': 2, 'whiteracialresponsibility': 1, 'sayin': 8, 'detract': 2, 'premier': 1, 'dialogue': 5, 'nan': 1, 'brutalitythe': 1, 'lang': 1, 'sez': 1, 'nsas15': 2, 'convo': 2, 'claimingourpower': 1, 'becuz': 2, 'mycommunity': 1, 'newthinking': 1, 'nelgbtc15': 1, 'zion': 3, 'illinois': 3, 'justushowell': 2, '1000+': 2, 'ran': 3, 'clown': 5, 'wide': 2, 'hmm': 3, 'ruthless': 1, 'ripericharris': 1, 'ericharris': 4, 'tulsa': 2, 'coincidence': 2, 'charity': 1, 'crowdfunding': 1, 'helpvotersgetthevoter': 1, 'ure': 1, 'offend': 8, 'urgently': 1, 'schizophrenia': 1, 'decides': 1, 'rlly': 1, 'irradiation': 1, 'figure': 5, 'incorporate': 1, 'memoriam': 2, 'suppomy': 1, 'vicious': 2, 'jacethegreat': 1, 'reunion': 1, 'babe': 1, 'beatingheart': 1, 'michaelslager': 2, 'dread': 1, 'unlawfully': 2, 'enuffisenuff': 1, 'supervisor': 2, 'patrol': 3, 'brelotrial': 1, 'parvati': 1, 'nycs': 1, 'learningfromhistory': 1, 'whatitslike': 1, 'everlast': 1, 'profound': 1, 'bein': 2, 'takenby': 1, 'plaque': 1, 'yearns': 1, 'soft': 2, 'blackandproudhaikuseries': 1, 'parkway': 1, 'neil': 1, 'goldman': 1, 'tulsashooting': 1, 'fk': 2, 'civiliansmatter': 1, 'brooklynbridge': 1, 'disagree': 5, 'heavenly': 1, 'natasha': 1, 'mckenna': 1, 'cuffed': 1, 'shackle': 2, 'copskillwomentoo': 1, 'boon': 1, 'allblackfridays': 1, 'goodfridays': 1, 'teamus': 1, 'mercenary': 1, 'paytoplay': 1, 'scheme': 1, 'brandon': 1, 'compromise': 1, 'royal': 2, 'cup': 7, '90804': 1, '►rage': 1, '►500': 1, 'adjust': 2, 'thaddeusmccarrol': 1, 'fascist': 3, 'villain': 1, 'reelection': 1, 'yup': 2, 'workerinstitute': 1, 'berlinrosens': 1, 'masseydaniel': 1, 'nlr': 1, 'antitrafficking': 1, 'hunger': 1, 'trilogy': 1, 'ideologically': 1, 'mediterraneanafrican': 1, 'nowblacklivesmatter': 1, 'au': 2, 'unhcr': 1, 'casual': 1, 'affleck': 1, 'hide': 3, 'slaveowner': 1, 'stopcrimesagainsthumanity': 1, 'no2xenophobia': 1, 'backsonya': 1, 'afromedialiteracy': 1, 'suvivors': 1, 'ceasefire': 1, 'elagainst': 1, 'alllivesm': 1, 'keepitpushin': 1, 'freddy': 1, 'gray': 15, 'blackcircle': 1, 'rekiaboyd': 1, 'counterterrorism': 1, 'rightsblacklivesmatter': 1, 'emz': 1, 'food4themind': 1, 'knowtheway': 1, 'dindunuffins': 1, 'protestor': 3, 'branch': 1, 'kidder': 1, 'commend': 3, 'restraint': 1, 'cognitively': 1, 'pervert': 1, 'neighbor': 5, 'dominique': 1, 'gillard': 1, 'mayham': 1, 'hln': 1, 'dixon': 1, 'blackpanthers': 4, '560': 1, '540': 1, 'streamer': 1, 'thorny': 1, 'bernsteinconf': 1, 'gene': 1, 'ryan': 2, 'fraternal': 1, 'candlelit': 1, 'sliema': 1, 'strength': 2, 'freddie': 13, 'neither': 4, 'efficient': 1, 'advance': 2, 'rj': 1, 'quoteretweet': 1, 'womenlifestyle': 1, 'sisterreach': 1, 'reproductive': 2, 'holler': 2, 'runrosarun': 1, 'imoutforpresidentstorepresentme': 1, 'rosa2016': 1, 'absolutly': 1, 'blacker': 1, 'berry': 2, 'fuckracism': 1, 'unclear': 1, 'serial': 1, 'undeniable': 1, 'ebony': 1, 'instagram': 4, 'knowthyself': 1, 'africanpride': 1, 'callous': 1, 'eu': 1, 'rescue': 1, 'mediterranean': 1, 'fortunately': 1, 'tide': 2, 'cool': 6, 'sweetie': 1, 'frequently': 1, 'panelist': 2, 'apostolic': 1, 'mighty': 1, 'foi': 1, 'backbone': 1, 'bravery': 1, 'swedishcops': 1, 'manual': 1, 'policingwhileracist': 1, 'oriolesred': 1, 'sox': 1, 'beer': 1, 'blackpeople': 1, 'bulletproofvest': 1, 'acknowledges': 2, 'gungho': 1, 'wit': 3, 'erupts': 3, 'chaos': 1, 'rage~obama': 1, 'delighted': 3, 'elitist': 1, 'clue': 2, 'kthx': 1, 'blackboy': 1, 'pressplay': 1, 'handbag': 1, 'prepenglewoods': 1, 'gatesmillennium': 1, 'scholarsthats': 1, 'modify': 1, 'clip': 1, 'dy': 4, 'chiraq': 1, 'oper': 1, 'priestkings': 1, 'blackpride': 2, 'vernacular': 1, 'socalled': 3, 'complaint': 2, 'cpd': 1, 'acrossed': 1, 'rhoareunion': 1, 'similar': 1, 'anniversary': 7, 'larebellion': 1, 'rebel': 3, 'baltimoreprotest': 2, 'manfreddiegray': 1, 'policeaccountability': 2, 'rioting': 4, 'baiting': 3, 'groundzero': 1, 'zone17': 1, 'racisttownscity': 1, 'spine': 2, 'sever': 1, 'nelsonmandela': 1, 'satisfied': 2, 'violenceisnttheanswer': 1, 'buttheywontleaveusalone': 1, 'clash': 3, 'blackasianwhitehispanic': 1, 'tactic': 9, 'never21': 1, 'yep': 3, 'cmon': 5, 'baltimoreriots': 23, 'humanrace': 2, 'pleasestop': 1, '12202000': 1, 'unemployed': 1, 'unfortunately': 3, 'nutter': 1, 'dey': 1, 'bailtimoreriots': 1, 'anarchyalluhhelpus': 1, 'washingtondc': 1, 'bmore': 4, 'therein': 1, 'problemofcs': 1, 'billofrights': 1, 'license': 3, 'terrorize': 2, 'baltimorepd': 1, 'kardashians': 1, 'becca': 1, 'miguel': 1, 'victoria': 1, 'prayforbaltimore': 1, 'openhandsdarkskintone': 1, 'oncomingfistdarkskintone': 1, 'delusional': 2, 'rebuilt': 1, 'tweethall': 1, 'boom': 2, 'nativelivesmatter': 8, 'womenslivesmatter': 3, 'lgbtlivesmatter': 3, 'equalityforall': 4, 'countryagain': 1, 'exception': 1, 'tandem': 1, 'blackisbeautiful': 4, 'manboy': 1, 'hasnt': 4, 'madangry': 1, '10pm': 1, 'rioter': 4, 'balitimore': 1, 'headdesk': 1, 'uncategorized': 3, 'fmg': 2, 'vine': 2, 'mahluchy': 1, '19yearold': 1, 'ice': 2, 'stateviolence': 1, 'wetriumpstill': 1, 'baltimoreisrising': 1, 'comprehensive': 3, '28hours': 1, 'baltimoreuprising': 28, 'stopactinglikeanimals': 1, 'stoprioting': 1, 'youredoingitwrong': 1, 'chima': 1, 'goddard': 1, '20706': 1, 'timcast': 1, 'baltimore2palestine': 1, 'justiceits': 1, 'shouldent': 1, 'bword': 1, 'nword': 2, 'priest': 1, 'levite': 1, 'leastreached': 1, 'indian': 5, 'teachthebabies': 1, 'specify': 1, 'agitator': 1, 'foldedhandsmediumdarkskintone': 7, 'nomoreasking': 1, 'byanymeansnecessary': 2, 'malcolm': 1, 'permission': 2, 'corporate': 2, 'diffuse': 1, 'violenceisneveratheanswer': 1, 'nnatethegreat': 1, 'blackinsurgents': 1, 'tpab': 1, 'noose': 2, 'josephkent': 2, 'lobby': 1, 'cbif': 1, 'kent': 1, 'adviseblacklivesmatter': 1, 'mytwitter': 1, 'hoping4peace': 1, 'valiantly': 1, 'citizenship': 1, 'thaaftepartycares': 1, 'maryland': 2, 'piccollage': 1, 'thenextchapter': 1, 'puke': 2, 'bandwagon': 2, 'lnyhbt': 1, 'nyc2baltimore': 1, 'drift': 1, 'internationaldanceday': 1, 'fuckinternationaldanceday': 1, 'curfew': 2, 'demonize': 1, 'nd': 5, 'senator': 3, 'surveillance': 5, 'balitmoreuprising': 2, 'smdh': 3, 'proven': 3, 'blitzer': 1, 'therillajnes': 1, 'allllivesmatter': 1, 'tod': 1, 'somos': 1, 'chili': 1, 'grill': 3, 'jacksonville': 1, '32223': 1, 'renew': 1, 'thepeopleunitedshallneverbedefeated': 1, 'nick': 1, 'mosby': 1, 'flint': 2, 'likeblacklivesmatter': 1, 'whitepeoplewereslaves1': 1, 'filmthepolice': 3, 'retraintheblue': 1, 'vestcamsnow': 1, 'demilitarizethepolice': 1, 'speaker': 5, 'baltimorenyc': 2, 'injured': 2, 'terrencekellum': 2, 'minnesotan': 1, '31a': 1, 'transjustice': 1, 'lgbtqequity': 1, 'lobbyday15': 1, 'melt': 2, 'pot': 2, 'integrity': 1, 'environmentalism': 1, 'elsipogog': 1, 'uspcn': 1, 'lgbtqia': 1, 'lobbyday2015': 1, 'peaceinbaltimore': 1, 'scant': 1, 'probe': 2, 'rumsfeld': 1, 'untidy': 1, 'satire': 1, 'panem': 1, 'hungergames': 1, 'vacation': 2, 'robertbates': 1, 'tword': 1, 'shutdownthetword': 1, 'test': 3, 'optout': 1, 'morethanascore': 1, 'sod': 1, '\\x96': 1, 'marilynmosby': 2, 'tcb': 1, 'plateaccountability': 1, 'standwithbaltimore': 2, 'istandwithmoa36': 1, 'admit': 6, 'tryagain': 1, 'bcpd': 1, 'justiceforfreddiegray': 4, 'intrigue': 1, 'stem': 1, 'dem': 6, 'marilyn': 1, 'mosbys': 1, 'equalrights': 3, 'folwell': 1, 'blackspring': 10, 'pedestal': 1, 'risen': 1, 'communityenough': 1, 'snp': 1, 'cleverly': 1, 'position': 2, 'achieve': 4, 'antiprofiling': 1, 'us|3pm': 1, 'broadway+cesar': 1, 'chavez|amp|5pm': 1, 'park|': 1, 'dapadaca': 1, 'not1more': 1, 'maydaysolidarity': 1, '1245': 1, 'justice4mikebrown': 1, 'continuous': 1, 'boston2baltimore': 1, 'baltimoreriotsprelude': 1, 'looter': 2, 'mourner': 1, 'liquor': 1, 'sergeant': 1, 'warns': 2, 'superiors~': 1, 'joel': 1, 'capsrangers': 1, 'socioeconomic': 1, 'ob': 3, 'ny1': 1, 'assemblyman': 1, 'brawn': 1, 'toughasnails': 1, 'missmosbyifyouplease': 1, 'institutionalracism': 2, 'tedtalk': 1, 'emotion': 2, 'augustine': 1, 'unjust': 2, 'yinzers': 1, 'conservative': 7, 'intimidate': 1, 'rainier': 1, 'roof': 4, 'normal': 2, 'visceral': 1, 'repulsion': 1, 'economy': 2, 'have': 1, 'havenots': 1, 'fundamental': 4, '135th': 1, 'stratosphere': 1, 'contribute': 4, '28th': 2, 'construction': 1, 'drag': 2, 'aclu': 2, 'mobilejusticeca': 3, 'cont': 8, '3pm': 1, 'newbedford': 1, 'unblurred': 1, 'pghpoczinedistro': 1, 'tbane55': 1, 'anthoknees': 1, 'zapiro': 1, 'demandjusticeeverywhere': 1, 'austin2baltimore': 1, 'gratitude': 1, 'schoolers': 1, 'woot': 2, '35': 3, 'headquarters': 1, 'emphasis': 1, 'boxing': 1, 'match': 1, 'enb1982': 1, 'calsunday': 1, 'jamilahking': 1, 'tel': 1, 'aviv': 1, 'nineteenth': 1, 'digital': 1, 'unarmedblackmen': 1, '910000': 1, 'treasury': 1, 'economicblueprint': 1, 'israeli': 1, 'hebrew': 1, 'racerelations': 1, 'crap': 10, '64': 2, 'usually': 2, 'northamppenn': 1, 'onebaltimore': 1, '1974': 1, 'mayweather': 1, 'greed': 1, 'posh': 1, 'spa': 1, 'reno': 3, 'nv': 3, '89502': 1, 'alveda': 1, 'niece': 2, 'rawlingsblake': 1, 'blackyouth': 1, 'kyderby': 1, 'baltimoretoindy': 1, 'patriarchy': 1, 'intersectionalfeminism': 1, 'fuckneoconservatism': 1, 'fuckthegop': 1, 'watchthecops': 1, 'cle': 1, 'cultureofhealth': 1, 'brian': 2, 'boulevard': 1, 'pathetic': 2, 'critical': 2, 'deptment': 1, 'rpt': 1, 'nut': 3, 'fantastic': 3, 'journalism': 2, 'ethiopianjews': 1, 'telaviv': 1, 'prayed': 1, 'theyve': 5, 'genuinely': 2, 'vintagethreads4': 1, 'ungrateful': 1, 'weseeyou': 1, 'unintentional': 1, 'racialprofiling': 1, 'gigrp15': 1, 'tayoakinyemi': 1, 'ethanz': 1, 'summer': 3, 'june': 3, 'ottawa': 1, 'spare': 3, 'nomowar': 11, 'albany': 2, 'dontmatter': 1, 'champion': 1, 'lane': 2, 'counter': 3, 'dent': 1, 'tased': 2, 'justiceforfloyddent': 1, 'sen': 3, 'toomey': 1, 'criminality': 1, 'prisonforprofit': 1, 'nycriseup': 1, 'realise': 2, 'coolest': 1, 'besides': 3, 'eager': 1, 'publish': 2, 'prophet': 1, 'blackculture': 2, 'beloved': 5, 'arlingtonreads2015': 1, 'refugee': 9, 'usians': 1, 'nine': 1, 'deputy': 7, 'matthew': 1, 'ajibade': 1, 'chi2baltimore': 1, 'nightnurse38': 1, 'mommas4justice': 1, 'millionmomsmarch': 2, 'jennings': 1, 'thief': 1, 'truck': 7, 'sjw': 2, 'menace': 1, 'passersby': 1, 'nowunarmed': 1, 'weekly': 1, 'hattiesburg': 1, 'tmg9464': 1, 'alysiastern': 1, 'streetthere': 1, 'reclaimmothersday': 1, 'whatsbst4s': 1, 'casesampcomplaints': 1, 'pres': 4, 'en4ce': 1, 'constitution': 8, 'sierracbabimccurdy': 1, 'gotem': 1, 'land': 5, 'a4': 1, 'liftuplearning': 1, 'farm': 1, 'wprince': 1, 'anew': 1, 'kamu': 1, 'brathwaite': 1, 'hashtaganother': 1, 'rubix': 1, 'cube': 1, 'namastaywoke': 1, 'whoa': 1, 'knowledgethoughts': 1, 'familymattersmatters': 1, 'bmoreblack': 1, 'bandana': 1, 'bang': 1, 'tfw': 1, 'traumacenternow': 2, 'dearmrpresident': 1, 'unrest': 3, 'spur': 1, 'healthdisparities': 1, 'shellybelly69': 1, 'kevinadams96': 1, 'denisemd111': 1, 'drmartyfox': 1, 'rightarrow': 4, 'countless': 2, 'natashamckenna': 2, 'specific': 2, 'baiters': 1, 'avidreader': 1, 'reader': 1, 'readersareleaders': 1, 'blacksmatter': 1, 'mvmt': 1, 'fucker': 1, 'iartg': 1, 'diesel': 1, 'barbershop': 1, '78230': 1, 'highintensity': 1, 'tranquilizer': 1, 'smart': 7, 'happier': 1, 'parable': 1, 'environment': 2, 'tonytonyrobinson': 1, 'cwb2015': 1, 'taye': 1, 'thankful': 3, 'blackyouthrising': 1, 'celebratewomen': 2, 'cite': 1, 'scathing': 2, 'hr2232': 1, 'pharma': 1, 'provokes': 2, 'breakfast': 1, 'policeofficer': 2, 'smack': 2, 'homeless': 2, 'manfort': 1, 'nike': 1, 'tpp': 2, 'accusation': 1, 'bigotry': 5, 'employ': 1, 'racecard': 1, 'racebaitors': 1, 'monroebird': 1, 'wannabe': 1, 'company': 3, 'usage': 1, 'boycottnike': 1, 'celebs': 2, 'blackbooks': 1, 'blackquestions': 2, 'zubat': 1, 'ybcartel': 1, 'speakerhighvolume': 1, 'msustandstrong': 1, 'flexedbicepsmediumdarkskintone': 1, 'buna': 1, '90019': 1, 'base': 3, 'intl': 1, 'germany0': 1, 'china12': 1, 'iceland': 1, '1100': 1, 'patterson': 1, 'boydarkskintone': 3, 'musicalnotes': 1, 'loudlycryingface': 9, 'preyed': 1, 'assvegas': 1, 'icc': 1, 'zimbabwe': 3, 'hotel': 1, 'flesh': 1, 'jay': 3, 'z': 3, 'badcops': 1, 'immediately': 5, 'mountain': 2, 'waytogo': 1, 'michiganunited': 1, 'blmdetroit': 1, 'malcolmx': 2, 'malcolm90': 1, 'seafood': 2, 'annapolis': 2, '21403': 2, 'trey': 1, 'gowdy': 1, 'nohillary2016': 1, 'screwobama': 1, 'nogunfreezones': 1, 'vonderritmyers': 2, 'soulyahs': 1, 'riseup': 1, 'blackpantherdoc': 1, 'wagner4': 1, 'sanantonio': 1, 'jisd': 1, '59th': 2, 'wallingfordgurl': 1, 'leahrboss': 1, 'paycheck': 1, 'cutthe': 1, 'sillicon': 1, 'rampant': 1, 'occupational': 1, 'segreagation': 1, 'silliconvalley': 1, 'endsegregation': 1, 'leeslimshady': 1, 'occupywallstnyc': 1, 'malcolmxday': 2, 'ashagony': 1, 'alberta': 1, 'wewontforget': 1, 'permanent': 1, 'liv': 1, 'unbelievable': 1, 'aware': 4, 'queensboro': 1, 'dopeyou': 1, 'eritrean': 1, 'chinese': 2, 'omaha': 1, 'kerrie': 1, 'orozco': 1, '7year': 1, 'felony': 1, 'supportblue': 1, 'unecessary': 1, 'southern': 3, 'olabodedemilola': 1, 'isxbellam': 1, 'imsnipper': 1, 'keemstarx': 1, 'talibkweli': 1, 'munich': 1, 'kong': 2, 'justiceforfreddie': 1, 'cepope8': 1, 'attention+': 1, '16yearold': 1, 'drill': 1, 'issuesthey': 1, 'canceltheduggars': 1, 'riptamir': 1, '2006': 1, 'infiltration': 1, 'assata': 1, 'shakur': 1, 'olympia': 1, 'backfiring': 1, '137shots': 1, 'memorialize': 1, 'traditional': 1, 'expose': 6, 'virginia': 3, 'maul': 1, 'unresistant': 1, 'stroke': 1, 'videotext': 1, '137': 1, 'buildingsgtblack': 1, 'breloverdict': 3, 'sake': 5, 'kingsley': 1, 'burell': 1, 'steel': 1, 'shenanigan': 1, 'marchagainstmonsanto': 1, 'bagging': 2, 'corner': 2, 'whiteliesmatter': 1, 'special': 4, '130p': 1, 'est': 1, '3478571436': 1, 'michaelbrelo': 1, 'stall': 1, 'flaw': 3, 'patrolman': 1, '137shot': 1, 'barrage': 1, 'award': 3, '275': 1, 'innocentperson': 1, 'lifetimesentence': 1, 'notcommit': 1, 'continued': 2, 'breakthecurfew': 1, 'beautifully': 1, 'provoke': 2, 'toonami': 1, 'killlakill': 1, 'anotherblacklivesmatter': 1, 'blackrider4life': 1, 'ctonan': 1, 'countywide': 1, 'nephiarreguin': 1, 'validate': 2, 'engineering': 1, 'mechanism': 2, 'rhetorical': 1, 'kitchen': 3, 'hyattsville': 1, '20782': 1, 'shepleycheryl': 1, 'whitegenocide': 1, 'black=race': 1, 'hispanic=ethnic': 1, 'usa=american': 1, 'prefe': 1, '63': 1, 'grad': 1, '67': 2, 'movementgive': 1, 'were~': 1, 'deliriously': 1, 'sleeve': 1, 'guallalo': 1, 'pentagonista': 1, 'memorialday': 1, 'brendonglenn': 1, 'samarrington': 1, 'coney': 1, 'schomburg': 1, 'portal': 1, 'trip': 4, 'seventh': 2, 'wife': 1, 'fived': 1, 'extort': 1, 'handout': 1, 'brazil': 4, 'haiti': 2, 'kuramo': 1, '21045': 1, 'leewaguerrilla': 1, 'mayday2015': 1, 'homesick': 1, 'minnesotadoesparadesbettertha': 1, 'request': 2, 'roaster': 2, '89501': 2, 'doctanino': 1, 'melaninnegus': 1, 'scooterrat': 1, 'dmcparson': 1, 'deray': 6, 'existsand': 1, 'lunch': 1, 'mcdonalds': 3, 'diminish': 3, 'moron': 4, 'unrepentant': 1, 'brastow': 1, 'manhandle': 2, 'swat': 2, '81yearold': 1, 'hip': 3, 'denies': 1, 'decree': 1, 'clevelanduprising': 1, 'nebraskan': 1, 'override': 1, 'pete': 1, 'rickettss': 1, 'veto': 1, 'abolish': 3, 'story5ongoing': 1, 'harmless': 1, 'languagetotally': 1, 'tunisia': 1, 'italy': 1, 'notvbut': 1, 'usps2424': 1, 'shenise34': 1, 'baltimorepolice': 1, 'asap': 4, 'trueblacknews': 1, 'kevinallen': 1, 'blackspri': 1, 'iigh': 1, 'dodge': 2, 'outhere': 1, 'slippery': 1, 'sloper': 1, 'bloggingi': 1, 'beyoncealwaysonbeat': 1, 'blacklivesmatterferguson': 1, 'lay': 3, 'purposeful': 1, '60minutes': 2, 'stopgaslighting': 1, 'realjtp': 1, 'rosavallhe': 1, 'paripassu': 1, 'lied2': 1, 'acorn': 1, 'duggan': 2, '7615': 2, 'markduggan': 2, 'timetested': 1, 'dedication': 1, 'peacebypiece': 1, 'baltimoreunited': 1, 'unleash': 1, 'mayhem': 1, 'scumbags': 1, 'mosque': 1, 'jerame': 1, 'reid': 1, 'blackexcellence': 4, 'americagttake': 1, 'diseasegtslaverygtfamine=worldwide': 1, 'movementpt': 1, 'brelo': 1, 'njnp': 1, 'opal': 1, 'tometi': 1, 'blown': 1, 'transphobic': 1, 'slur': 3, 'necessarily': 1, 'encapsulate': 1, 'surveils': 1, 'plane': 2, 'enter': 3, 'warp': 1, '1960s': 1, 'woops': 1, 'element': 1, 'usaamarahim': 1, 'tbt': 3, 'twitterverse': 1, 'physical': 3, 'mental': 4, 'matterprotesters': 1, 'molonlabe': 1, 'josé': 1, 'luis': 1, 'vilson': 1, 'bxedcon2015': 1, 'usaama': 3, 'rahim': 2, 'rambo': 1, 'flawlessforever': 1, 'computer': 2, 'norcross': 1, '30093': 1, 'freetcc9': 1, 'rahims': 1, 'unjustified': 2, 'diggin': 1, 'electeds': 1, 'peoplepower': 1, 'bungling': 1, '500m': 1, 'quake': 1, 'nbuf': 1, 'stokelycarmichael': 1, '1967': 1, 'overwhelmingly': 1, 'wewontwait': 1, 'longhotsummer': 1, 'revolt': 2, 'casebolt': 2, 'mckinney': 21, 'policeshooting': 2, 'speechless': 2, 'cruelty': 1, 'councilman': 1, 'attends': 1, 'alternet': 1, 'benaiahmatheson': 1, 'talented': 1, 'handle': 6, 'swimsuit': 1, 'blacklivesmattertoo': 2, 'accommodate': 1, 'mana': 1, 'muslims4justice': 1, 'dangerous': 4, 'intervene': 1, 'despicable': 1, '3rd': 3, 'phillipwhite': 1, 'mckinneypolice': 1, 'ogtfo': 1, 'kalief': 1, 'browder': 1, '19932015': 1, 'kaliefbrowder': 3, 'uncs': 1, 'saunders': 1, 'highkhaleesi': 1, 'blackfreedomsociety': 1, 'njcu': 1, 'tues': 1, '69': 1, 'larrylomax': 1, 'opmckinney': 1, 'corporal': 1, 'caseblots': 1, 'travesty': 1, 'contend': 1, 'everybodydo': 1, 'errr': 1, 'obfuscates': 1, 'genocidal': 1, 'prosecutes': 1, 'oy': 1, 'purchase': 1, 'ericcasebolt': 1, 'booster': 1, 'racistcop': 1, 'ass': 3, 'internet': 1, 'oxon': 1, 'justicesystem': 1, 'makeitplain': 1, 'launch': 1, 'mckinneypolicedepartment': 1, 'safewhos': 1, 'youblacklivesmatter': 1, 'thankyouforkeepingussafe': 1, 'alright': 1, 'motivate': 3, 'rightful': 1, 'aua': 1, 'segment': 3, 'fergusonselfcare': 1, 'bikiniclad': 1, 'wlong': 1, 'blond': 1, 'kaya': 1, '15222': 1, 'baltimoreofficers': 1, 'adolescence': 1, 'crowdont': 1, 'istandwithsaida': 1, 'africanamerica': 1, 'africandispora': 1, 'brics': 1, 'descent': 1, 'donttakeitdown': 1, 'justiceforkaliefbrowder': 1, 'sb277': 2, 'bsw': 1, 'supply': 2, '12206': 1, 'redundantno': 1, 'motto': 1, 'idfwu': 1, 'nail': 2, 'absurd': 4, 'barrelroll': 1, 'pin': 1, 'destroy': 4, 'gojo': 1, '95126': 1, 'getum': 1, 'movementisrising': 1, 'syndrome': 1, 'obamacare': 2, 'several': 3, 'adolescent': 1, 'funders4justice': 2, 'map': 4, 'orgs': 2, 'bruce': 1, 'racheldolezal': 4, 'weekinteresting': 1, 'uic': 1, 'rubydee': 1, 'billboard': 3, 'harsh': 2, 'universalfight': 1, 'demouriahogg': 2, 'involves': 2, 'standoff': 1, 'methodically': 1, 'possible': 3, 'kettle': 1, 'dallaspdshooting': 1, 'frequent': 1, 'fort': 4, 'walton': 1, '32548': 1, 'inanhonestamerica': 1, 'wrap': 4, 'forest': 1, 'dontmaketheblackkidsangry': 1, 'ethiopia': 1, 'recourse': 1, 'blackkid': 1, 'levitation': 1, 'blacktradelines': 1, 'viva': 1, 'vegetarian': 1, 'eugene': 1, '97401': 1, 'terry': 2, 'paulson': 1, 'tlot': 4, 'helpp': 1, 'nope': 3, '200000': 1, 'dominican': 2, 'discriminatory': 3, 'firedsuspendedouted': 1, 'trenchant': 1, 'heartrending': 1, 'thirst': 1, 'criminalization': 1, 'jesse': 3, 'blavity': 1, 'dominicanrepublic': 1, 'haitian': 3, 'littlehaiti': 1, 'outta': 8, 'offspring': 1, 'maine': 1, 'bangor': 1, 'freedomour': 1, 'winwe': 1, 'ctrlaltdel101': 1, 'courtroomtakeout': 1, 'fairfield': 1, 'violently': 3, '~36': 1, 'charlestonshooting': 25, 'congregation': 1, 'expense': 1, 'denson': 1, 'realty': 1, '33611': 1, 'askrachel': 1, 'deliberate': 1, 'pickney': 1, 'charlestionshooting': 1, 'vest': 1, 'rat': 2, 'butt': 1, 'apparent': 2, 'charelstonshooting': 5, 'whyyyyyyy': 1, 'dart': 1, '8037342100': 1, 'removal': 3, 'confederate': 10, 'shotampreportedly': 1, 'implode': 1, 'gunviolence': 3, 'mentalhealth': 2, 'prays': 1, 'blackcommunity': 1, 'require': 4, 'uniform': 1, 'camsoncops': 1, 'wonderim': 1, 'repents': 1, 'prayforcharleston': 2, 'offering': 1, 'scholarship': 2, 'fcd': 1, 'richmondva': 1, 'purport': 1, 'anguish': 1, 'evil': 9, 'selfdetermination': 1, 'confrontation': 2, 'brokenhearted': 2, 'hatecrime': 3, 'preserve': 2, 'sabotage': 1, '~via': 1, 'ameshooting': 4, 'requirement': 1, 'taxpayerfunded': 1, '24hour': 1, 'bodyguard': 1, 'haitianlivesmatter': 1, 'softlysoftly': 1, 'dylannroof': 3, 'amc2015': 1, 'ima': 1, 'unjustice': 1, 'sociologist': 1, 'darn': 1, 'jon': 1, 'stewart': 1, 'raisedfistlightskintone': 3, 'checkyourprivilege': 2, 'ireland': 1, 'balconycollapse': 1, 'altar': 1, 'calbsu': 1, 'amemassacre': 3, 'sista': 1, 'thisisnecessary': 1, 'ten': 2, 'forfeit': 1, 'worship': 2, 'yeeessss': 1, 'bpm': 1, 'devin': 1, 'charlestonmassacre': 3, 'saytheirnames': 3, 'publicity': 2, 'whatmattersmost': 1, 'excerpt': 1, 'unitedwemuststand': 2, 'uniteblack': 1, 'maniac': 1, 'armor': 1, 'ethel': 2, 'lance': 2, 'amechurchshooting': 1, 'globe': 1, 'bed': 1, 'redact': 1, 'black9': 3, 'dylann': 1, 'epitome': 1, 'cowardace': 1, 'americasshame': 1, 'gunsense': 6, 'nsbespeaks': 1, 'nsbe': 1, 'emanuel': 3, 'ame': 7, 'charleston9': 4, 'liturgical': 1, 'fteforum15': 1, 'accurate': 2, 'prayersforcharleston': 1, 'expiration': 1, 'date': 3, 'swallow': 2, 'twohearts': 3, 'nojoke': 1, 'crazywhitepeoplewithguns': 1, 'symbolizes': 1, 'susie': 1, '87': 1, 'candiates': 1, 'duck': 2, 'stricter': 2, 'domesticterrorism': 2, '~huey': 1, 'newton': 1, 'wewillshootback': 1, 'ayor': 1, 'ayeee': 1, 'hatesb': 1, 'blks': 1, 'overshadow': 1, 'currently': 3, 'hunt': 4, 'animalsthat': 1, 'beyou': 1, 'wesley': 2, 'bright': 1, 'saynotoracism': 1, 'waterpistol': 4, 'foldedhandsdarkskintone': 4, 'admits': 1, 'lantern': 1, 'mckesson': 8, 'gohomederay': 2, 'outspoke': 1, 'mybrotherskeeper': 1, 'netwo': 1, 'ect': 1, 'lable': 1, 'shall': 4, 'torrid': 1, 'firefreedom': 1, 'nowor': 1, 'burnrobert': 1, 'f': 6, 'takeitdown': 8, 'freethemall': 1, 'mtp': 2, 'takedowntheflag': 3, 'expert': 2, 'worshipper': 1, 'waitthe': 1, 'boldlipsforsicklecell': 1, 'september': 3, 'lippies': 1, 'historically': 3, 'goodbye': 2, 'sistars': 1, 'milkyway': 1, 'tipped': 1, 'detour': 1, 'leeds': 1, 'uni': 1, 'oliver': 1, 'topnews': 2, 'hearten': 1, 'portlandme': 1, 'personifies': 1, 'upward': 1, 'glance': 1, 'believer': 2, 'code': 3, 'ethic': 2, 'whitewash': 1, 'bought': 1, 'charlston': 1, 'burger': 2, 'goddam': 1, 'petersburg': 1, 'derey': 1, 'complex': 2, 'diddy': 1, 'fbomb': 1, 'hrc': 1, 'limb': 1, 'hungary': 1, '109milelong': 1, '13foottall': 1, 'noborders': 1, 'tantric': 1, 'bs1': 1, '1tp': 1, 'reference': 3, 'blacklivesmatterll': 1, 'unbreakable': 1, 'wmore': 1, 'room': 5, 'whiteprivileges': 1, 'burntheconfederate': 1, 'recently': 1, 'caption': 1, 'letsberealhere': 1, 'ii': 1, 'chemical': 1, 'bioethics': 1, 'onesmallstep': 1, 'appreciative': 1, 'takeover': 3, '2011': 1, 'sisterpatriots': 2, 'bospoli': 1, 'comin': 2, 'divest': 1, 'ritalin': 1, 'nevr': 1, '4get': 2, 'thez': 1, 'tsarnaev': 1, 'shld': 1, 'perpsinblue': 1, 'whiteconfederatepolice': 1, 'winter': 3, 'charleston2ftl': 1, '710pepp': 1, 'pepp': 1, 'offends': 5, 'convenient': 3, 'alm': 3, 'palatable': 1, 'emphatically': 1, 'deadlyforce': 1, 'verse': 1, '217': 1, 'biblestudy': 1, 'holyspirit': 1, 'usblacklivesmatter': 1, 'slip': 2, 'tongue': 1, 'delivers': 1, 'eulogy': 1, 'pinckney': 1, 'coupasses': 1, 'gs2015': 1, 'lovewins': 12, 'pub': 1, '919': 1, 'alltime': 1, 'celestines': 1, 'braiding': 1, '53218': 1, 'wet': 1, 'justiceorelse': 34, 'letmefindout': 1, 'seewutdatdo': 1, 'legalize': 2, 'nadijah': 1, 'luna': 1, 'saint': 2, 'laurent': 1, 'collaboration': 1, 'kuwaitattack': 1, 'franceattack': 1, 'tunisiaattack': 1, 'longs': 1, 'google': 5, 'pocbf': 1, 'blackfreethinkers': 1, 'woc': 3, 'freebree': 7, 'smudge': 1, 'sage': 1, 'breenewsome': 4, 'blackgirlmagic': 3, 'domestic': 6, 'dontbequiet': 1, 'lovepark': 1, 'imani': 1, 'descendant': 1, 'courageous': 3, 'angeladavis': 2, 'stumble': 2, '4rm': 1, 'slumber': 1, 'tryin2imagine': 1, 'livin': 1, 'collectiveampindividual': 1, 'nightmare': 2, 'takeksback': 1, 'marriage': 1, 'fania': 1, 'hampton': 2, '23669': 1, 'orleans': 2, 'dafrique': 1, 'quisine': 1, '43229': 1, 'meetthepress': 1, 'trulucks': 1, 'boca': 1, 'raton': 1, '33432': 1, 'claimitgc78': 1, 'unapologetically': 2, 'pride2015': 1, 'rm': 1, 'missionsummit2015': 1, 'raisinghandsdarkskintone': 2, 'keepitdown': 1, 'trollsi': 1, 'betawards2015': 3, 'morgan': 2, 'yourseves': 1, '62815': 1, 'areyounuts': 1, 'arson': 2, 'betawards': 3, 'rightnow': 1, 'lovewinsgrabbing': 1, 'popcorn': 1, 'blkout': 1, 'blackoutpride': 1, 'rode': 1, 'motorcycle': 1, 'jacket': 1, 'undocumented': 1, 'pgp': 1, 'notourpridestl': 1, 'pridestl': 1, 'abanks': 1, 'devotes': 1, 'bianca': 1, 'afrodescendent': 1, 'latoma': 1, 'bruh': 1, 'contextualize': 1, 'whoisburningblackchurches': 5, 'intolerance': 1, 'phi': 1, 'beta': 1, 'sigma': 1, 'angela': 2, 'blackhistorymatters': 1, 'horrifyingly': 1, 'trooper': 1, 'davidsweat': 1, 'overwhelm': 1, 'unacceptable': 1, 'stayawake': 1, 'blackchurchesburning': 3, 'merch|': 1, 'proudly': 1, 'enid': 1, 'oklahoma': 3, 'vent': 2, 'closer': 1, 'blackchurch': 1, 'blacklivesmatter+blackwomenmatter+brownlivesmatter': 1, 'presidential': 12, 'string': 2, 'blacklivesmatterthis': 1, 'inhumanlivesmatter': 1, 'billion': 3, 'racismisntdead': 1, 'fu': 2, 'sh': 1, 'stank': 1, 'kuz': 1, '19952005': 1, 'visuals': 2, 'liveleakers': 1, 'ukraine': 1, 'syria': 3, 'entertainmen': 1, 'jeb': 8, 'snide': 1, 'retort': 2, 'translates': 1, 'impassioned': 1, 'neara15': 1, 'fourth': 2, 'partypopper': 3, 'frederickdouglass': 1, 'themeaningofjulyfourthforthenegro': 1, 'wearewatching': 1, '1130am': 1, 'mccarver': 1, 'spar': 1, 'knowyourhistory': 1, 'whiteterrorism': 1, 'jump': 3, 'tune': 5, 'oncomingfist': 1, 'freepalestine': 3, 'iof': 1, 'goon': 1, 'wr': 1, 'amari': 1, '1of7': 1, 'chicagooh': 1, 'essence2015': 1, 'reserve': 4, 'spout': 1, 'beijing': 1, '95': 2, 'lauderdale': 2, 'blck': 3, 'client': 1, 'savagelxrds': 2, 'montr': 1, 'qc': 1, 'h4a': 1, '1x7': 1, 'selective': 2, 'bros': 1, 'sis': 1, 'edu': 3, 'bernie2016': 11, 'aww': 1, 'man\\U000fe326': 1, 'blackqueens\\U000fe4d1': 1, 'blackkings\\U000fe4d1': 1, 'blackhistory\\U000fe1a6': 1, 'blacklove\\U000fe823': 1, 'blackexcellence\\U000feb7b': 1, 'blacklivesmatter\\U000fe33d': 1, 'distraction': 3, 'arizona': 1, '129': 1, 'bodypositive': 1, 'heforshe': 1, 'genderequality': 1, '97206': 1, 'killthemessenger': 1, 'nomd': 1, 'whistle': 1, 'blower': 1, 'summit': 4, 'renner': 1, 'infuse': 1, 'julyaugust': 1, 'inperson': 1, 'kindness': 3, 'patience': 1, 'christopher': 1, 'sims': 1, '~~gtgt': 1, 'buffalo': 3, '14202': 1, 'rtchurches': 1, '12yr': 1, 'raisedhand': 1, 'backhandindexpointingup': 1, 'prohibit': 2, 'confederateflag': 5, 'investigate': 4, 'emerges': 1, 'arguement': 1, '15201': 1, 'godspeed': 1, 'familyfriends': 1, 'etchave': 1, 'acont': 1, 'tn': 3, 'upheld': 1, 'cabral': 1, 'intersectional': 3, 'politicsis': 1, 'lifelinefor': 1, '59': 1, 'demean': 2, 'drugcourtgraduation': 1, 'perseverence': 1, 'drugcourtworks': 1, 'dailyencouragement': 1, 'clarify': 4, 'effect': 3, 'discrimation': 1, 'smilingfacewithhearteyes': 3, 'futurebaby': 1, 'rbg': 1, 'blackchildren': 1, 'blackgirls': 1, 'dependable': 1, 'notary': 1, 'aurora': 1, '80012': 1, 'tanehisi': 1, 'coates': 2, 'occurrence': 1, 'dillontaylor': 1, 'comeback': 2, 'mug': 2, 'growingupblack': 2, 'blackrising': 1, 'stupidest': 2, 'insert': 1, 'blogher15': 2, 'participant': 1, 'mysteriously': 1, 'suppoof': 1, 'whathappenedtosandrabland': 7, 'pvam': 1, 'jonathan': 2, 'scroll': 2, 'pp': 4, 'rafter': 1, 'readpls': 1, 'learntoread': 1, 'jailhouse': 1, 'panic': 1, 'justiceforsandy': 4, 'idabwells': 1, 'sheroe': 1, '2b': 4, 'blackgirlsrock': 1, 'jaileven': 1, 'stillcantbreathe': 1, 'istillcantbreathe': 1, 'abusive': 2, 'ndour': 1, 'tanger': 1, 'reschedule': 1, 'magic': 1, 'blackissacred': 1, 'booed': 4, 'graffiti': 3, 'teachpeace': 1, 'darius': 1, 'riseupelca': 1, 'bernies': 3, 'nn15': 13, 'policeblacklivesmatter': 1, 'blackroots15': 1, 'nn15townhall': 2, 'onlyblacklivesmatter': 1, 'twibnn15': 1, 'partially': 1, 'screwup': 1, 'blackroots': 1, 'barbie': 1, 'ia': 1, 'waist': 1, 'downif': 1, 'twibnation': 1, 'boycottforjustice': 1, 'noboycottsnojustice': 1, 'staywokeangel': 1, 'fri10': 1, 'mon13': 1, 'notify': 1, 'thu16': 1, '72hrs': 1, 'persist': 1, 'eats': 1, 'omalley': 18, 'conf': 1, 'netroots': 4, 'allkardashianslivesmatter': 1, 'universe': 1, '+michelle': 1, 'heritage': 1, 'kashmir': 1, 'shove': 1, 'twin': 2, 'whitesupremacy': 7, 'derail': 6, 'justicedepartment': 1, 'staengaging': 1, 'quickly': 1, 'wack': 1, '3944': 1, 'sherrif': 1, 'lit': 2, 'goreportthat': 1, 'bite': 2, 'grassroots': 1, 'vermonter': 1, 'blindspot': 1, 'whr': 1, 'yung': 1, 'harasd': 1, 'killd': 1, 'southcarolina': 1, 'wewillshootbback': 1, 'ystrday': 1, 'minister': 2, 'ddnt': 1, 'blands': 3, 'justiceforsandrabland': 11, 'racepimps': 1, 'alsharpton': 1, 'condescend': 1, '2learn': 1, 'wearedying': 1, 'ravensymoné': 1, 'continually': 1, 'avoidance': 1, 'notallmen': 1, 'cisisaslur': 1, 'heterophobiaisreal': 1, 'strugg': 1, 'overall': 1, 'dionebs': 1, 'inaugural': 1, 'campcanterbury': 1, 'campterbury': 1, 'unrelated': 1, 'outdoes': 1, 'opponent': 1, '~pete': 1, 'seeger': 1, 'zilphia': 1, 'horton': 1, '̯͡͡': 1, 'beck': 4, 'cohosts': 1, 'berniesoblack': 2, 'fallensoldiersinchattanooga': 1, 'militarylivesmatter': 1, 'stopbnracist': 1, 'cand': 3, 'martinomalley': 1, 'ache': 3, 'disciplessoar': 1, 'independenceall': 1, 'bigotedracist': 1, 'dose': 1, 'stupidwrong': 1, 'lilley': 1, 'learns': 1, 'pier': 3, 'downplay': 1, 'talib': 1, 'kweli': 1, 'espns': 1, 'stephen': 2, 'archie': 1, 'leach': 1, 'otto': 1, 'farce': 2, 'deck': 1, 'beast': 1, 'indirectly': 1, 'tam': 2, '21212': 1, 'default': 2, 'knw': 1, 'dim': 1, 'endorse': 7, 'unionmlp': 1, 'matteryours': 1, 'matteredagain': 1, 'protector': 2, 'cenk': 1, 'uygur': 1, 'ofcourse': 1, 'alway': 1, 'methodist': 1, 'sandrablands': 3, 'murderinvestigation': 1, 'pelt': 1, '10yr': 1, 'gravity': 1, 'claudia': 1, 'nasa': 1, 'manager': 1, 'jupiter': 1, '56': 1, 'breast': 2, 'rebelflag': 1, 'plague': 2, 'sicklecell': 1, 'educolor': 1, 'adamsmithusa': 1, 'hillary2016': 8, 'hillaryc': 1, 'tina': 1, 'turner': 1, 'multi': 1, 'talent': 2, 'whiteness': 3, 'crucify': 1, 'tow': 1, 'millennials': 1, 'womenslives': 1, 'impulse': 1, 'whenever': 1, 'papaye': 1, '10456': 1, 'auburnfellows': 1, 'womancrushwednesday': 1, 'allencompassing': 1, 'anaconda': 1, 'terrible': 3, 'militarize': 1, 'ep39': 1, 'bwym': 1, 'podcast': 3, 'klan': 2, 'ethnic': 3, 'demented': 1, 'liberallogic': 1, 'asinandashame': 1, 'nicki': 1, 'detention': 3, 'indiaclarke': 1, 'twoc': 1, 'faithinny': 1, 'irishlivesmatter': 1, 'checkboxwithcheck': 2, 'ok|': 2, 'jewishlivesmatters': 1, 'crossmark': 1, 'ok|we': 1, '230pm': 1, 'favoritegtsayhername': 1, 'bozell': 1, 'column': 2, 'hater': 1, 'ion': 1, '98': 1, 'sway': 1, 'bloggersspeak': 1, 'warriorstheyre': 1, 'slacktivists': 1, 'bollock': 1, '♡': 2, 'familyblacklivesmatter': 1, 'unfair': 4, 'warcry': 1, 'warcries': 1, 'amp8216political': 1, 'correctnessamp8217': 1, 'uptight': 2, 'paragraph': 1, 'disruptive': 2, 'spanish': 2, 'apologizes4': 1, 'livindatiltedlife': 1, 'edits': 1, 'sunflower': 1, 'jebwere': 1, 'correct': 8, 'crj': 1, 'systemamp': 1, 'soooo': 3, 'contest': 1, 'onor': 1, 'ijs': 2, 'stomach': 3, 'ingrown': 1, 'toenail': 1, 'hispaniclivesmatter': 2, 'stalley': 1, 'cherry': 1, 'theread': 1, 'womanmediumdarkskintone': 1, 'womanlightskintone': 1, 'womanmediumlightskintone': 1, 'boymediumdarkskintone': 1, 'allinthistogether': 1, 'coverup': 2, 'foul': 2, 'persongesturingnomediumdarkskintone': 1, 'accept': 6, 'ripsandrabland': 2, 'babyangelmediumdarkskintone': 1, 'brownskin': 1, 'plus': 2, 'darkskins': 1, 'fixthepolice': 1, 'mixed': 4, 'misdirect': 2, 'malcolms': 1, 'philosophy': 1, 'blackand': 1, 'extinction': 1, 'mugshot': 3, 'worried': 2, 'drama': 1, 'fallible': 1, 'buffet': 1, 'palace': 1, 'killeen': 1, '76541': 1, 'hillaryclinton': 6, 'dt': 1, 'iamashamed': 1, 'lipservice': 1, 'prayersforsandra': 1, 'leggo': 1, 'laureldavilacpa': 1, 'pdmfnb': 1, 'rp': 2, 'waketfup': 1, 'newjimcrow': 1, 'fairy': 1, 'godmother': 1, 'foldedhandsmediumskintone': 1, 'ceebo': 1, 'madampresident': 1, 'hillarycl': 1, 'm4bl': 6, 'thisiswhywefight': 1, 'blacc': 1, 'segregation': 3, 'hulk': 1, 'hogan': 1, 'smartnews': 1, 'knot': 1, 'a9': 1, 'viralchat': 1, 'puzzle': 1, 'exceed': 1, '250k': 1, 'loverebuilds': 1, 'diomo': 1, 'minimumwage': 1, 'fightand': 1, 'mmt': 1, '15now': 1, 'luke': 1, 'jamal': 1, 'ifidieinpolicecustody': 1, 'cliche': 1, 'brutalization': 1, 'sandrawasmurdered': 2, 'retweetingfavoriting': 1, 'victimize': 2, 'eachother': 1, 'overdue': 1, 'untrue': 1, 'weareallthesame': 1, 'nincompoop': 1, 'spew': 1, 'juju': 1, 'hopefully': 1, 'thegsofhiphop': 1, 'stan': 1, 'blackwomynmatter': 1, 'britney': 1, 'nicole': 1, 'kidd': 1, 'sturgis': 1, 'sadstory': 1, 'vast': 3, 'undergraduate': 1, 'murkier': 1, '74th': 1, 'emmetttill': 5, 'blatant': 2, 'degrade': 1, 'hmmlooks': 1, 'caucasoid': 1, 'rhinestone': 1, 'etsy': 1, 'racecraft': 1, 'xicanadaily': 1, 'coon': 1, 'armenian': 1, 'emmet': 1, '19411955': 1, 'hellthey': 1, 'copolitics': 1, 'sneaky': 2, 'carefreeblackho': 1, 'vibingprincess': 1, 'rceddpc': 1, 'webecomelegend': 1, 'ken': 1, 'cuccinelli': 1, 'insult': 2, 'fading': 1, 'plse': 1, 'sandrablandquestions': 2, 'alllivesmatterno': 1, 'retweets': 1, 'fuggin': 1, 'wallercountyjail': 1, 'smoking': 3, 'unlawfularrest': 1, 'insect': 1, 'decal': 1, 'favorably': 1, 'yestday': 1, 'wkend': 1, 'womb': 2, 'blackbabyhumans': 1, 'motivational': 1, 'peppersprayed': 1, 'egregious': 1, 'resemble': 1, 'righthere': 1, 'powercouple': 1, '1998': 1, 'dayofrage': 1, 'joshua': 1, 'eyee': 1, 'amends': 1, 'isolate': 1, 'chose': 3, 'alllives': 3, 'sandrablandspeaks': 1, 'roped': 1, 'rnc': 1, 'parade': 2, 'imo': 1, 'wich': 1, 'alice': 1, 'starsky': 1, 'goodmorning': 1, 'hangtag': 1, 'whycensorsandra': 1, 'withstood': 1, 'louisiana': 3, 'sikh': 2, 'qotd': 1, 'lifequote': 1, 'lifequotes': 1, 'wht': 5, 'cactus': 2, 'notonemore': 1, 'angryyankee': 1, 'bigbrother': 1, 'biggov': 1, 'nsa': 1, 'powerblacklivesmatter': 1, 'painting': 2, 'reflection': 2, 'regularly': 2, 'monitor': 3, 'treatment': 2, 'mvmt4bl': 1, 'dayton': 1, 'remembrance': 1, 'fema': 1, 'trippy': 1, 'rifle': 1, 'desire': 2, 'sampson': 1, 'neworleans': 1, 'wentdownfighting': 1, 'notsuicide': 1, 'grisly': 1, 'dueprocess': 3, '4these': 1, '661': 1, 'selfcare': 2, 'tranes': 1, 'trane': 1, 'heartthx': 1, 'abandonment': 1, 'evrywhre': 1, 'evn': 1, 'affords': 1, 'cous': 2, '73185': 1, 'trafficstop': 1, 'gopfail': 1, 'unitebiue': 2, 'immigrationreform': 2, 'votolatino': 1, 'ainf': 1, 'tntvote': 1, 'tech': 2, 'ottcity': 1, 'doll': 1, 'plastic': 1, 'bag': 2, 'graf': 1, 'desecrate': 1, 'conspiracy': 1, 'theorist': 1, 'jonathansanders': 3, 'subdue': 2, 'ruralvoices': 1, 'unitedwefight': 3, 'johnsoncity': 1, 'tricities': 1, 'numb': 1, 'samdubose': 16, 'cincinnati': 5, 'accidentally': 1, 'original': 2, 'vandal': 1, 'lion': 12, 'poach': 1, 'cherryblossom': 1, 'godisgood': 1, 'benice': 1, 'timehistory': 1, 'itself195060s': 1, 'angryface': 1, 'apartheid': 3, 'beef': 1, 'questionauthority': 1, 'effin': 1, 'cecil': 3, 'articulation': 1, 'blacklivesmatterto': 1, 'rexdall': 1, 'visioned': 1, 'leaderfull': 1, 'coincide': 1, 'blerds': 1, 'matterall': 1, 'fetus': 1, 'visual': 1, 'rag': 1, 'chicken': 2, 'neutrality': 1, 'vital': 4, '99percent': 1, 'pressure': 1, 'keystone': 1, 'cost': 2, 'fitness': 1, 'justiceforrobertwilliams': 1, 'aight': 1, 'metaphor': 1, 'marvelous': 1, 'shutitdownrnc': 1, 'empireindecline': 1, 'raw': 2, 'storywants': 1, 'dismantles': 1, 'diluters': 1, 'okhandmediumskintone': 2, 'okhanddarkskintone': 1, 'okhandlightskintone': 1, 'okhandmediumdarkskintone': 3, 'itadamgoodes': 1, 'personally': 3, 'beyonces': 1, 'association': 1, 'thine': 1, 'selfbe': 1, 'sorrow': 1, 'crush': 1, 'mangle': 1, 'culturesell': 1, '1695': 1, 'biggiepac': 1, 'samuel': 2, 'inconvenience': 2, 'transfer': 1, 'conduct': 1, 'mobilejustice': 1, 'apps': 1, 'ows': 3, 'organizeanything': 1, 'seva': 1, 'ann': 1, 'arbor': 1, 'mi': 2, '48104': 1, 'backhandindexpointingrightmediumdarkskintone': 1, 'erase': 3, 'illustration': 1, 'hurtful': 1, 'cecilthelion': 2, 'alldiseasesmatter': 1, 'motherfucking': 1, 'justiceformeekmill': 1, 'libcrib': 3, 'meek': 4, 'skull': 2, 'ripmeek': 1, 'bouquet': 1, 'mill': 1, 'backtoback': 2, 'guru': 1, 'quota': 1, 'ron': 1, '2008': 1, 'holla': 1, 'censor': 1, 'corpus': 1, 'christi': 1, 'screenjusticeforsandrabland': 1, 'initial': 1, 'priveledge': 1, '1find': 1, '2write': 1, '3take': 1, 'saytheirname': 1, 'lovethyself': 1, 'blackfistsalute': 1, 'concur': 1, 'anarchy': 2, 'whyarewebeingkilled': 1, 'fiction': 2, 'impress': 1, 'weneeddiversebooks': 1, 'oreillys': 1, 'gstarrent': 1, 'smilingfacewithhalo': 6, 'grinningsquintingface': 2, 'grinningfacewithsweat': 1, 'grinningfacewithsmilingeyes': 1, 'flexedbiceps': 4, 'bomb': 3, 'collision': 3, 'speechballoon': 1, 'youngkingz': 1, '3day': 1, '3yrold': 1, 'policeofficers': 1, 'shaken': 1, 'jesusmy': 1, 'pet': 3, 'persondo': 1, 'drakevsmeek': 1, 'transgression': 1, 'whiny': 1, 'govegan': 1, 'ceciltheion': 1, 'accelerate': 2, 'lifespan': 1, 'unchecked': 2, 'medias': 2, 'portrayal': 1, 'blog42': 2, 'newstream': 1, 'copyright': 2, 'credibility': 3, 'blackonblack': 5, 'clap': 2, 'samueldubose': 2, 'mexican': 2, 'idiotic': 2, 'double': 3, 'whammy': 1, 'malign': 1, 'reductive': 1, 'hierarchy': 1, 'sowhygrowingupblack': 1, 'spell': 1, 'everydaywheres': 1, 'alllionsmatter': 1, 'raytensing': 1, 'saviour': 1, 'complexed': 1, 'caucasian': 2, 'outcry': 1, 'imaginable': 1, 'mmiw': 1, 'deescalation': 1, 'areon': 1, 'plate': 2, 'radiozine': 1, 'recap': 1, 'rta': 1, 'versus': 1, 'wwiii': 1, 'stonemountain': 1, 'fooling': 1, 'blink': 1, 'alex': 1, 'funniest': 1, 'sweaty': 1, 'wp': 2, 'convene': 1, 'tricky': 1, 'stone': 2, 'billcosby': 1, 'meekmillvsdrake': 1, 'loon': 1, 'erykah': 1, 'badu': 1, '7yr': 1, 'murderedbycop': 1, 'heighten': 1, 'coco': 1, 'butter': 2, 'presently': 1, 'blacklivesmatter+sayhername+brownlivesmatter': 1, 'paramilitary': 1, 'lawforblacklives': 1, 'americahating': 1, 'georgesoros': 1, 'ponder': 1, 'corrupts': 1, 'saveourcities': 2, 'realwomenhavecurves': 1, 'skinny': 1, 'darrienhunt': 1, 'goddamnit': 1, 'scatter': 1, 'prepping': 1, 'bolton': 1, 'defundpp': 3, 'oncomingtaxi': 1, 'stun': 1, 'jaw': 1, 'screenplay': 1, 'semantics': 1, 'foe': 1, 'undervalue': 1, 'precedence': 1, 'pen': 1, 'blackaugust': 2, 'bone': 1, 'nonpc': 1, 'flamers': 1, 'eg': 2, '110000': 1, 'eugenist': 1, 'evilppsellsbabyparts': 1, 'q': 2, 'decision2016': 1, 'firm': 3, 'patroller': 1, 'fck': 3, 'alllifematters': 1, 'afrikando': 1, 'banadir': 1, '98118': 1, 'leftist': 1, 'playin': 1, 'elevate': 1, 'temporary': 2, 'internationalconsciousnesscampaign': 1, 'warsa': 1, 'milano': 2, '20129': 1, 'emporium': 1, 'univ': 1, 'harassment': 3, 'staycritical': 1, 'critlib': 1, 'brothersor': 1, 'perish': 1, 'actionblacklivesmatter': 1, 'proposal': 4, '80249': 1, 'leftistsareracists': 1, 'zacharyhammond': 7, 'antioch': 1, 'andor': 1, 'peopleblacklivesmatter': 1, 'night12': 1, 'zind': 1, 'zi': 1, 'caleg': 3, 'racialidentity': 1, 'kwame': 1, 'nkrumah': 2, 'sec': 2, 'justiceforaaronpope': 1, 'exasperate': 1, 'rod': 1, 'minimal': 1, 'unemployment': 4, 'yoga': 2, 'eventblacklivesmatter': 1, 'illegalimmigration': 1, 'scenario': 1, 'segregate': 3, 'inefficient': 1, 'daddy': 1, 'lookin': 1, 'need4': 1, 'tiredface': 1, 'hinder': 1, 'justice4mercynjeri': 1, 'moe': 1, 'marchonemporia': 1, 'responsible': 6, 'devote': 1, 'v2ehiv': 1, 'wayment': 1, 'thestreet': 1, 'scottwalker': 1, 'gopdebate': 19, 'waymint': 1, 'waterbuffalo': 1, 'pileofpoo': 1, 'wowone': 1, 'diligence': 1, 'foxdebate': 1, 'kool': 1, 'promo': 1, 'kimberlee': 1, 'sheng': 1, 'ooh': 1, 'didvery': 1, 'dissapointed': 1, 'rand': 2, 'lowkey': 3, 'inaudible': 1, 'cybersecurity': 1, 'gopflop': 1, 'producingtoday': 1, 'manage': 1, 'nuffsaid': 1, 'underneath': 1, 'hilarious': 3, 'soda': 1, 'negotiate': 1, 'growingheart': 3, 'whaaaaaaaaat': 1, 'studentloans': 1, 'minimum': 1, 'throughly': 1, '1032': 1, 'truuuuuu': 1, 'christiantaylor': 3, 'haha': 2, 'sandybland': 1, 'urmoneycantsaveu': 1, '1930s': 1, 'adam': 1, 'silver': 2, 'owner': 1, 'eden': 1, 'zachary': 1, 'hammond': 1, 'whilst': 1, 'validation': 1, 'centrist': 1, 'alllivesdontmatter': 1, 'alllivesnotatrisk': 1, 'obstructive': 1, 'riverlin': 1, 'fedora': 1, 'shaw': 2, '314': 1, 'prayforus': 1, 'dontpreyonus': 1, 'irk': 1, 'everytime': 3, 'viewpoint': 1, 'avoids': 2, 'namedrop': 1, 'admin': 4, 'progressiveliberal': 1, 'povertyecon': 1, 'ineq': 1, 'bizzaroworld': 1, 'nom': 1, 'shell': 2, 'pander': 3, 'imaynotgettherewithyou': 1, 'godhavemercy': 1, 'nowadays': 1, 'wrongfully': 1, 'tryna': 2, 'debunked': 1, 'candidateagain': 1, 'homework': 1, 'analysis': 1, 'regrann': 1, 'dontshootpdx': 1, 'tazered': 1, 'motherfucker': 1, 'fergusontaughtme': 4, 'bruv': 1, 'vain': 2, 'fergusonone': 1, 'jeopardizing': 1, 'approach': 4, 'facethenation': 1, 'shrug': 2, 'nominee': 1, 'repub': 1, 'wewantdebate': 1, 'secretary': 1, 'curb': 1, 'payroll': 1, 'whoever': 4, 'concrete': 1, 'actionplans': 1, 'menstrual': 1, 'campbell': 1, '95008': 1, 'somewhere': 3, 'uneducated': 1, 'redstate': 1, 'invite': 1, 'bencarson': 2, 'yesits': 1, 'hiroshima': 1, 'nagasaki': 1, 'apology': 7, 'emerge': 1, 'originator': 1, 'havin': 1, 'chitchat': 1, 'oa206': 1, 'smarter': 1, 'defensiveness': 1, 'youngins': 1, 'womenmen': 1, 'dun': 1, 'utterly': 2, 'useless': 1, 'surrender': 1, 'hahahaha': 1, 'questiondoes': 1, 'dis': 1, 'socsec': 1, 'loom': 1, 'bankrolling': 1, 'movt': 1, 'mccain': 1, 'romney': 1, 'katrina': 2, 'aside': 1, 'effectively': 2, 'goodie4them': 1, 'hillarynext': 1, 'applaud': 2, 'wedemandjustice': 1, 'pointcrickets': 1, 'dick': 2, 'realcities': 1, 'nimrod': 2, 'policedontvaluelife': 1, '2isolate': 1, 'deepen': 1, 'elite': 1, 'backwards': 1, 'coopted': 1, 'kinman': 1, 'shelter': 1, 'christ': 1, 'cathedral': 1, 'cointelpro': 1, 'yu': 1, 'darkskin': 1, 'follobackinstantly': 1, 'pisces': 1, 'berniesander': 1, 'enoughwhen': 1, '23rd': 1, 'pointbypoint': 1, 'halt': 1, 'rush': 1, 'semblance': 1, 'archaeological': 1, 'hella': 1, 'theology': 2, 'ungovernable': 1, 'saythat': 1, 'understands': 3, 'unexpected': 1, 'interruption': 2, 'random': 1, 'establishment': 1, 'bos': 2, 'dontgetfooledagain': 1, 'uninsured': 1, 'adoption': 1, 'racialequality': 1, 'insincere': 1, 'stateofemergency': 2, 'goodwill': 1, 'purge': 1, 'denounce': 4, 'disrupters': 1, 'alcohol': 2, 'elsewhere': 2, 'avocadomami': 1, 'gainesville': 1, '32601': 1, 'accompany': 1, 'practical': 1, 'protestingblm': 1, 'jeffreyweinhaus': 1, 'worktogether': 1, 'fergusonforward': 1, 'victoryhandmediumdarkskintone': 1, 'themmahour': 1, 'furguson': 1, 'grab': 1, 'eff': 2, 'andregreen': 1, 'somethings': 1, 'brady': 1, 'deflate': 1, 'elm': 1, 'suspicion': 1, 'twit': 2, 'notion': 1, 'motive': 3, 'eyeball': 1, 'humanzoos': 1, 'greeneclinton': 1, 'zacharyhammonds': 1, 'i70': 3, 'shooting': 8, 'thus': 1, 'expression': 2, 'hypocritical': 2, 'derailment': 1, 'lrt': 1, 'willful': 1, 'passivity': 1, 'cosmetic': 1, 'bash': 2, 'alli': 1, 'meno': 1, 'considers': 1, 'infantile': 1, 'oops': 2, 'hornet': 1, 'hhs': 1, '8122015': 1, 'homeroom': 1, 'rack': 1, 'bailing': 1, 'heartfelt': 1, 'symone': 2, 'tout': 1, 'overlook': 1, 'theworldiswatching': 1, 'whichemergency': 1, 'jumpstart': 1, 'tolerance': 1, 'starnes': 1, 'pistolwhipped': 1, 'peacefulness': 1, 'bat': 3, 'tyroneharris': 2, 'supposedly': 2, 'congregational': 1, 'luncheon': 1, 'inclusion': 2, 'appeasement': 1, 'justiceforallvictimsofpolice': 1, 'rick': 1, 'perry': 1, 'shoddy': 1, 'hawk': 1, 'needle': 1, 'superpacs': 1, 'oathkeepers': 1, 'goldens': 1, 'aunt': 3, 'nephew': 2, 'mn2ferguson': 1, 'islam': 3, 'eliminate': 1, 'explicit': 1, 'holloways': 1, 'acct': 1, 'unc': 1, 'grrrrrreat': 1, 'presidenttonys': 1, 'raynetteturners': 1, 'qualify': 2, '66': 1, 'bueno': 1, 'drew': 2, 'neck': 3, 'webb': 7, 'untilunless': 1, 'militiaman': 1, 'roam': 1, 'riflesnow': 1, 'barres': 1, 'uncle': 3, 'nerve': 2, 'disorganization': 1, 'npclive': 1, 'marissajohnson': 1, 'tactical': 1, 'urgent': 1, 'gelderloos': 1, 'nonviolence': 1, 'primer': 1, 'institutionalize': 2, 'racismampasocial': 1, 'mvnts': 1, 'coffee+convo': 1, 'nightit': 1, 'atx': 2, 'trivial': 1, 'ultimately': 1, 'reflexively': 1, 'peek': 1, 'affluent': 1, 'megachurch': 1, 'moonbat': 1, 'actress': 1, 'lena': 1, 'dunham': 1, 'meatball': 1, 'dingus': 2, 'anna': 1, 'gyro': 1, '73159': 1, 'exodus': 1, 'africanamericanslatinos': 1, 'wooooooooooooooow': 1, 'differs': 1, 'fearless': 1, 'reveal': 4, 'desperate': 1, 'votn': 1, 'whte': 1, 'ablc': 1, 'ralkinajones': 1, 'promoproducts': 1, 'joebart': 2, 'ensures': 1, 'demise': 1, 'strategymatters': 1, 'pickyourbattles': 1, 'blacklivesmatterat': 1, 'chuckie': 1, 'cheese': 1, 'protective': 1, 'maternal': 1, 'instinct': 1, 'imho': 1, 'democraticparty': 1, 'dnc': 2, '57': 1, 'generalization': 1, 'blacklivesmatterits': 2, 'relatively': 2, 'armchair': 1, 'remains': 2, 'stagnantdrops': 1, 'casserole': 1, 'assure': 1, 'arrange': 1, 'moa36': 1, 'ab953': 2, 'withhold': 1, 'nevada': 2, 'aapiblack': 1, 'apalacon15': 1, 'blackwomenlead': 1, 'nhpolitics': 1, 'comfort': 2, 'treason': 1, 'boomer': 1, 'contd': 1, 'furthermore': 1, 'phucked': 1, 'corp': 2, 'whore': 3, 'net': 1, 'rl': 1, 'journeyforjustice': 1, 'dispose': 1, 'speed': 3, 'ctny': 1, 'forgiven': 1, 'jebbush': 2, 'leanforward': 1, 'redirectresources': 1, 'arrive': 2, '1968': 1, 'buildpeace': 2, 'policeterrorism': 1, 'noamchomsky': 1, 'exceptionalism': 1, 'janelle': 6, 'monáe': 4, 'jidenna': 1, 'indeed': 3, 'familyof3yearold': 1, 'driveby': 1, 'pleads': 1, 'blklivesmatter': 1, 'tend': 1, 'shorter': 1, 'nomoresilence': 3, 'distractremove': 1, 'reasonable': 4, 'onehumanfamily': 1, 'newsone': 2, 'perfectly': 1, '2020': 1, 'dentist': 1, 'oaf': 1, 'communicate': 1, 'brag': 1, 'bonus': 1, 'nothelping': 1, 'commonality': 1, 'assert': 1, 'wegoted': 1, 'blackoutphoenix': 1, '620': 1, 'vagina': 1, 'marijuana': 3, 'hawkins': 1, 'rude': 1, 'refer': 2, 'moar': 1, 'lotta': 1, 'blackoutdc': 1, 'victoryhanddarkskintone': 1, 'flexedbicepsdarkskintone': 1, 'iphone': 1, 'obrien610': 1, 'chairmnoomowmow': 1, 'f^ck': 1, 'kerfuffle': 1, 'colorblindess': 1, 'flummoxed': 1, 'standingonthesideoflove': 1, 'sideoflove': 1, 'straightouttacompton': 1, 'daunasia': 1, 'yancey': 1, 'agitation': 1, 'cackle': 1, 'insouciantly': 1, 'prepared': 2, 'privatize': 1, 'amphomelessnes': 1, 'misconduct': 1, 'findlaw': 1, 'blacklivesmattervictims': 2, 'onelegged': 1, 'aug': 1, 'showmeahero': 1, 'hmsounds': 1, '506': 1, '52': 1, '76': 1, 'nba': 1, '68': 1, 'content': 1, 'election2016': 5, '1110c': 1, 'supporterhweverany1n': 1, 'heartall': 1, 'negroesslavesproperty': 1, 'moor': 2, '72': 1, 'blackhispanic': 1, 'abortedlivesmatter': 1, 'ppsellsbabyparts': 1, 'sneaker': 1, 'ballers': 1, 'watt': 1, '173': 1, '100reasons': 1, 'bodycams': 1, 'prisonerslivesmatter': 1, 'samuelharrell': 1, 'equalizer': 1, 'gopclowncar': 1, 'highland': 1, 'boycottchristmas': 2, 'hilaryclinton': 1, 'prosecutenypd': 1, 'bend': 1, 'dolezal': 1, 'shaun': 7, 'weasel': 1, 'zipper': 1, 'neoconfederate': 1, 'ut': 1, 'jefferson': 1, 'txlege': 1, 'sonnet': 2, 'spenserian': 1, 'guilt': 1, '30daysofsonnets': 1, 'stumblebumble': 1, 'stammer': 1, 'bd': 3, 'thenightlyshow': 1, 'shd': 1, 'nobel': 1, 'pc': 1, 'prz': 1, 'foh': 2, 'huckabee': 3, 'out': 1, 'rabbi': 1, 'democracynow': 1, 'identifiedblack': 1, 'youblock': 1, 'mute': 1, 'mansurballbey': 2, 'fergusonstlouis': 1, 'tonite': 1, 'suggests': 4, 'sensitivity': 2, 'responsibilitydont': 1, 'policealllivesmatter': 1, 'shaunking': 2, 'partiesclinton': 1, 'victor': 1, 'median': 1, 'gurl': 1, 'forth': 2, 'officefix': 1, 'urself': 1, 'wth': 1, 'monitoring': 1, 'appreciates': 2, 'cousin': 3, 'reprorights': 1, 'whiter': 2, 'casper': 1, 'nomad': 1, '10003': 1, 'diabetic': 1, 'insulin': 1, 'nationofchange': 1, 'policereform': 1, 'riseupoctober': 10, 'whichlivesmatter': 1, 'calendar': 1, 'illegalimmigrants': 1, 'campaignzero': 4, 'arsonist': 1, 'seize': 1, 'psychotic': 1, 'antiwhite': 1, 'jeffroorda': 1, 'unveil': 1, 'shootingblacklivesmatter': 1, 'disorganize': 1, 'implicit': 1, 'shawn': 1, 'instigate': 1, 'embezzle': 1, 'cnns': 1, 'lemon': 2, 'stable': 1, '1619': 1, 'jamestownva': 1, 'chains396': 1, 'lata': 1, 'puppet': 2, 'theinkgod': 1, 'hillaryclintons': 1, 'weakness': 1, 'econ': 1, 'vi': 1, 'clearlywritten': 1, 'jeffy': 1, 'illegitimate': 1, 'irrational': 1, 'charismatic': 1, 'stealampkill': 1, 'ampwhy': 1, 'holdg': 1, 'man22': 1, 'curious': 2, 'gambia': 1, 'monáes': 1, 'masey': 1, 'swwork': 1, 'private': 3, 'fox29phillys': 1, 'letitrip': 1, 'diminishes': 1, 'decline': 2, 'enrol': 1, 'medicalschool': 1, 'blackmenlove': 2, 'partykeeping': 1, 'underdogged': 1, '2win': 1, 'thick': 1, 'dopest': 1, 'hytb': 3, 'saythename': 1, 'microphone': 2, 'unclesamgoddamn': 1, 'hueynewton': 1, 'backyard': 1, 'enrollment': 1, 'businessdejavu1832': 1, 'jamylabolden': 1, 'bam': 1, 'smackdown': 2, 'wiright': 2, 'goldenknightsdrillteam': 1, '12gt': 1, 'stingray': 1, 'antiwar': 1, 'environmental': 1, 'autrylive': 1, '855': 1, '6728879': 1, 'annihilates': 1, 'cuss': 1, 'trifle': 1, 'mfckers': 1, 'destroys': 1, 'snelling': 1, 'flyer': 1, 'southfield': 2, 'hoax': 4, 'hint': 1, 'boot': 1, 'riley': 1, 'peggy': 5, 'hubbard': 5, 'blackyouthalive': 1, 'rio': 1, 'transpeople': 1, 'weallmatter': 1, 'panderingsucks': 1, 'dilute': 2, 'shine': 1, 'herald': 1, 'columnist': 1, 'preference': 2, 'opps': 1, 'blackgenocide': 1, 'tbb': 1, 'ikeboy': 1, 'acquire': 1, 'tbackinblack': 1, 'merely': 2, 'realsufferingexists': 1, 'wakeupandpayattention': 1, 'tuskegee': 1, 'airman': 1, 'huron': 1, 'vitriol': 1, '1up': 1, 'obsess': 1, 'trendingthese': 1, 'expressionlessface': 11, 'leftleaning': 1, 'embarrass': 2, 'negative': 1, 'mix': 1, 'virginiashooting': 1, 'et': 1, 'npr': 1, 'embodiment': 1, 'blackreparations': 1, 'galloway': 1, 'apparantly': 1, 'respectthat': 1, 'black1': 1, 'movementblacklivesmatter': 1, 'the1': 1, 'wno': 1, 'mockery': 1, 'threatens': 4, 'behead': 1, 'karma': 1, 'sociopath': 1, 'democratslie': 1, 'theclintonsshouldbeinjail': 1, 'alison': 1, 'guise': 1, 'jaribu': 1, 'savedyett': 1, 'cpsboard': 1, 'openenrollment': 1, 'fucnvm': 1, 'lieshaveconsequences': 1, 'dbag': 1, 'wdbj': 2, 'deletes': 1, 'meme': 1, 'randpaul': 1, 'sandyspeaks': 1, 'amelia': 1, 'boynton': 1, 'listeninglistening': 1, 'geo': 1, 'adversely': 1, 'affected': 2, 'amp4000000': 1, 'corrupt': 3, 'scold': 1, 'heckler': 1, 'bryce': 1, 'problemblacklivesmatter': 1, 'blackleadmatters': 1, 'megyn': 3, 'whet': 1, 'jus': 3, '26': 1, 'cracklike': 1, 'huffingtonpost': 1, 'litterinbinsign': 1, 'emmett': 1, 'restinpower': 1, 'waaradio': 2, 'ajplus': 1, 'excop': 1, 'vlog': 2, '12000': 1, 'aft': 1, 'wellness': 1, 'bluecrimesmatter': 1, 'katrina10': 1, 'gulfsouthrising': 1, 'iteration': 1, 'theft': 2, 'internalself': 1, 'hysteria': 2, 'climatejustice': 1, 'complementary': 1, 'mnstatefair': 1, 'anxiously': 1, 'await': 1, 'hasnʼt': 1, 'kumosaic': 1, 'ourlivesmatterkc': 1, 'unravel': 1, 'blackfair': 3, 'whiteisacolortoo': 1, 'stopraceseparation': 1, 'impersonate': 1, 'kfcf': 1, 'onehealthyfresno': 1, 'stoppolicecrimes': 3, 'nczero': 1, '2afight': 2, 'dar': 1, 'unfairlysaid': 1, 'assisinated': 1, 'complexion': 1, 'supportpolice': 1, 'waroncops': 2, 'blacklivesmatter1': 1, 'bad1': 1, 'hcso': 1, 'deafen': 1, 'occupywallst': 1, 'ampany': 1, 'dwstweets': 1, 'cheat': 2, 'righteousness': 1, 'weeklong': 1, 'chirisingaug29': 1, 'enactcpac': 1, 'shatter': 1, 'iamderay': 1, 'risingtidex': 1, 'monster': 1, 'selfserving': 1, 'identity': 3, 'shaunwhite': 1, 'revelation': 1, 'justification': 1, 'crapola': 1, 'destructive': 1, 'nature': 1, 'capitalism': 1, 'discounting': 1, 'predicate': 1, 'amazingly': 1, 'savagery': 1, 'plain': 2, 'payday': 1, '51yearsfree': 1, 'mutual': 1, 'respectall': 1, 'mentalillness': 2, 'th': 3, 'mtalllivesmatter': 1, 'carvey': 1, 'proponent': 1, 'instigation': 1, 'classify': 2, 'blackli': 1, 'murderpolicelivesmatter': 1, 'juanwilliams': 1, 'vmas': 2, 'violation': 1, 'blmatter': 1, 'instance': 1, 'defund': 1, 'blackstudentsmatter': 2, 'highered': 2, 'glenn': 3, 'pt': 2, '82915': 1, 'vma': 1, 'thurs': 1, 'diff': 2, 'whooo': 1, 'hooo': 1, 'vmas2015': 1, 'blackampbrownampnative': 1, 'arise': 1, 'reveals': 2, 'unfuqnfollow': 1, 'fuq': 1, 'travel': 2, 'elisabeth': 4, 'hasselbeck': 4, 'exhibit': 1, 'differentiate': 1, 'brush': 1, 'dylannstormroof': 1, 'footballer': 1, 'thgt': 1, 'thr': 1, 'citzn': 1, 'groupencouraging': 1, 'mama': 1, 'grandma': 2, 'bbq': 1, 'enable': 1, 'amita': 1, 'exact': 1, 'urbanterrorist': 1, 'despicableasinine': 1, 'violenceneed': 1, 'wculture': 1, 'foster': 1, 'foxlake': 4, 'toxic': 1, 'deadand': 1, 'feartwd': 1, 'bish': 1, 'exposethegoods': 1, 'amp039creepy': 1, 'perv': 1, 'eyesamp039': 1, 'billoreilly': 1, 'tiller': 1, 'skirt': 1, 'paranoidmuch': 1, 'yard': 1, 'fricken': 1, 'banking': 2, 'ctl': 1, 'topprog': 1, 'occupywallstreet': 1, 'smirkingface': 3, '20000': 1, 'sahelnews': 1, 'rosie': 1, 'odonnell': 1, 'blowhard': 1, 'narcissist': 1, 'winflated': 1, 'delusion': 1, 'imaginary': 2, 'sheriffclarke': 2, 'marclamonthill': 1, 'vile': 2, 'vulgar': 1, 'slimy': 1, 'dontbut': 1, 'okok': 1, 'sorosyup': 1, 'goforths': 1, 'widow': 1, 'cultish': 1, 'woe': 1, 'racewar': 2, 'distort': 1, 'anthonybaez': 1, 'edwardgarner': 1, 'anthonydwainlee': 1, 'evans': 1, 'disturbingly': 1, 'regulate': 1, 'intention': 1, 'bombastic': 1, 'mikandynothem': 1, '☞retweet☜': 1, 'jihad': 2, 'funders': 1, '700+': 1, 'credit': 1, 'thesecret': 1, 'henton': 1, 'uniteamerica': 1, 'ibuiltthat': 1, 'epidemic=gt': 1, 'advertise': 1, 'oreillyfactor': 1, 'absurdity': 2, 'downthey': 1, 'ups': 1, 'offender': 1, 'barackobama': 1, 'carson': 4, 'marxist': 1, 'odd': 1, 'ratchet': 1, 'revives': 1, 'frequentlydebunked': 1, 'kelly': 5, 'bargain': 1, '42xx': 1, 'flora': 1, 'hmmm': 2, 'communism': 1, 'bolster': 1, 'jodi': 1, 'dean': 1, 'traitor': 2, 'jamesbaldwin': 2, 'megankelly': 1, 'elisabethhasselbeck': 1, 'teleprompter': 1, 'bimbo': 1, 'roland': 3, 'kellyfile': 2, 'ft': 1, 'massas': 1, 'bidding': 2, 'megynkelly': 1, 'civility': 1, 'kingsway': 1, 'laurel': 1, '20707': 1, 'sandras': 1, 'copilot': 1, 'coplivesmatter': 1, 'democraps': 1, 'democratmedia': 1, 'copsbluelivesmatter': 1, 'tenet': 1, 'grps': 1, 'otherizing': 1, 'uppity': 1, 'disguise': 1, 'controversy': 1, 'blacklivesmatterhategroup': 1, 'premise': 1, 'racegendersexual': 1, 'orientation': 1, 'mrscorpio': 1, 'intersectionality101': 1, 'arbys': 1, 'slurpees': 1, 'somali': 1, 'brandi': 1, 'handsoffbrandi': 1, 'emanuelshut': 1, 'nonblacks': 1, 'agreedd': 1, 'gravely': 1, 'comic': 1, 'ntoalaska': 1, 'scottsaxman1': 1, 'acre': 1, '95817': 1, 'abel': 1, 'xo': 1, 'anticonfederate': 1, 'activistchangeshistuneafter': 1, 'useofforce': 1, 'ez': 1, 'thot': 1, 'diduwetyourself': 1, 'sickbait': 2, 'wolf': 2, 'sheepkins': 1, 'deception': 1, 'youlostmebruh': 1, 'math': 2, 'unfortunate': 3, 'dislike': 1, 'blackliesdontmatter': 1, 'bpp': 1, 'tim': 1, 'westpalmbeach': 1, 'youthviolence': 1, 'untitled': 1, 'damondavis': 1, 'negrophilia': 1, 'tshirts': 2, 'desert': 1, 'judgement': 1, 'ibelieveblacklivesmatter': 2, 'deflect': 1, 'reinforces': 1, 'fraudulent': 1, 'o4a': 1, 'childof': 1, 'colinpowell': 1, 'pivot': 1, 'dorm': 1, 'universityofchicago': 1, 'goforth': 1, 'forbezdvd': 1, 'socialist': 1, 'profilebut': 1, 'narrow': 1, 'lens': 1, 'blackwhite': 2, 'lab': 2, 'stmt': 1, 'unrepresentative': 1, 'irresponsible': 1, 'blacklabsmatter': 1, 'alllabsmatter': 1, 'hea': 1, 'provocative': 2, 'inflame': 1, 'everyotherlifedoesntmatter': 1, 'twitterstoriesfm': 1, 'stopthewaronpolice': 1, 'ambush': 1, 'stopmassincarceration': 1, '54shot': 1, '8dead': 1, 'rename': 1, 'whitelivesdontmatter': 2, '1965': 1, 'brittin': 1, 'blackgirlnerds': 1, 'globeshowingeuropeafrica': 1, 'mylifematterstoo': 1, 'peeve': 1, 'exnypd': 1, 'demagogue': 1, 'thwart': 1, 'doth': 1, 'isolation': 1, 'wrestraining': 1, 'orderscivil': 1, 'marikana': 1, 'benjamin': 1, 'antic': 2, 'bt1000': 1, 'ds': 1, 'brawl': 1, 'blackgirlsfight': 1, 'wearetrackingthis': 1, 'killthepolice': 1, 'persecution': 1, 'blackgirlsaremagic': 2, 'venusvsserena': 1, 'usopen': 1, 'dyett': 1, 'wesupportdyett12': 1, 'fightfordyett': 1, 'equalism': 1, 'rubber': 1, 'stamp': 3, 'staple': 1, 'apologist': 1, 'hardly': 1, 'rammy': 1, 'jealous': 1, 'filth': 1, '→': 1, 'worcester': 1, 'telegram': 1, 'sexism': 1, 'apollo': 1, 'theater': 1, 'billie': 1, 'hologram': 1, 'racismblacklivesmatter': 1, 'toast': 1, 'agency': 1, 'juiceli': 1, 'plenary': 1, 'usca2015': 1, 'roscoes': 1, 'waffle': 1, 'dnt': 2, 'tlkn': 1, 'dat': 1, 'bullshii': 1, 'newbreedorder': 1, 'teling': 1, 'gsdakar': 1, 'yale': 5, 'pjn': 1, 'darwinism': 1, 'opblackout': 2, 'rightwing': 3, 'unveils': 1, 'marker': 1, 'wallstreet': 1, 'soldltlt': 1, 'neverforget911': 1, 'plainclothes': 1, 'tennis': 1, 'pyer': 1, 'nyfw': 1, 'neely': 1, 'fuller': 1, 'ltbreaking': 1, 'richas': 1, 'celeb': 1, 'dontsupportthem': 1, 'unconfused': 1, 'quickness': 1, 'schl': 1, 'colbert': 2, 'bracelet': 1, 'lending': 1, 'credible': 1, 'ingenious': 1, 'pithy': 1, 'thrust': 1, 'watch=gt': 1, 'thegatewaypundit': 1, 'criminaljusticemess': 1, 'surgeon': 1, 'theyd': 2, 'checkout': 1, 'enuff': 2, 'dyson': 1, 'invoke': 1, 'reciprocate': 1, 'stephan': 1, 'misslouisiana': 1, 'minimize': 1, 'missamerica': 1, 'cariol': 1, 'horne': 1, 'medication': 1, 'wite': 1, 'er': 1, 'vut': 1, 'qualification': 1, 'hatespeech': 1, 'bshit': 1, 'emergence': 2, 'sermon': 1, 'moses': 1, 'basket': 1, 'syrianrefugees': 3, 'syrianchild': 1, '35x': 1, 'lash': 1, 'misappropriate': 1, 'coercive': 1, 'bullyingand': 1, 'fergusonfuture': 2, 'disabled': 2, 'scoop': 1, 'recommendation': 1, 'inequity': 2, 'nathanener': 1, '3rddegreefelony': 1, 'terroristicthreat': 1, 'emotios': 1, 'healthy': 1, 'gwinnett': 1, 'indianabased': 1, 'relief': 1, 'poisonous': 1, 'thatn': 1, 'merrily': 1, 'decendant': 1, 'claus': 1, 'enthusiastically': 1, 'sanaa': 1, 'lathan': 1, 'french': 1, 'colin': 1, 'anchor': 1, 'organizationsmovement': 1, 'nutjobs': 1, 'theirate8': 1, '2x': 1, 'justice4cephus': 1, 'nursesmatter': 1, 'overly': 1, 'sensitive': 2, 'lovevolution': 1, 'vote4wellfair': 1, 'enddrugwar': 1, 'earthpeace': 1, 'celebrateli': 1, 'debatedo': 1, 'justified': 2, 'howard': 1, 'ripmajor': 1, 'justice4major': 1, '1024': 1, 'invoked': 1, 'token': 1, 'retires': 1, 'surf': 1, 'pto': 1, 'partial': 2, 'ahole': 1, 'northcarolina': 1, 'yakkers': 1, 'colbertdoingitright': 1, 'smokescreen': 1, 'potus❢': 1, 'cnndebate': 1, 'mole': 1, 'genevaconventions': 1, 'awhileu': 1, 'dihes': 1, 'muralist': 1, 'scribble': 1, 'gallery': 1, 'ahmedmohameds': 1, 'arablivesmatter': 1, 'regina': 1, 'lisa80sgirl': 1, 'c5hardtop1999': 1, 'aggressively': 1, 'dying12': 1, 'refers': 1, '2005': 1, 'tribalism': 1, 'mofos': 1, 'brewer': 1, 'extreme': 1, 'matterblk': 1, 'i35': 1, 'vandalizes': 1, 'megan': 2, 'mcardle': 1, 'micromanaging': 1, 'matterexcept': 1, 'frinite': 1, 'mewhen': 1, 'tyboggienyc': 1, 'congressional': 1, 'tackle': 1, 'bringchiphome': 1, 'familynow': 1, 'supportourleos': 1, 'k9s': 1, 'pleasetalkjester': 1, 'sacred': 1, 'messagetoisis': 1, 'mixup': 1, 'endorsement': 1, 'emmy': 2, 'srebeducation': 1, 'michealsmith': 1, 'demolishes': 1, 'richardsherman': 1, 'barackampmichellemichelleobamaobama': 1, 'racistthey': 1, 'ramphere': 1, 'mcdougall': 1, 'idontgetit': 1, 'presidentand': 1, 'nancy': 1, 'grahn': 1, 'viola': 1, 'lukestout': 1, 'colorofourskin': 1, 'carey': 1, 'obamawillblockyouif': 1, 'ahmed': 1, 'mohamed': 1, 'homemade': 1, 'suspension': 1, '3p': 1, 'sharp': 1, 'discipline': 1, 'commander': 1, 'punish': 2, 'situationblacklivesmatter': 1, 'mechiedeuce': 1, 'roast': 1, 'interracial': 1, 'idris': 1, 'elba': 1, 'crumble': 2, '2maintain': 1, 'hegemony': 1, 'fallrising': 1, 'stoptpp': 1, 'fineness': 1, 'sandiego': 1, 'mail': 1, 'leftistsprogressives': 1, 'buffonall': 1, 'jackass': 1, 'tricia': 1, 'timptoeing': 1, 'masturbate': 1, 'sodoesmydick': 1, 'unpopular': 1, 'enemyshutem': 1, 'rightfor': 1, 'alongnothing': 1, 'roadrage': 1, 'debt': 1, 'stojcevski': 1, 'statistically': 2, 'stranger': 1, 'deduct': 1, 'pope': 2, 'francis': 1, 'elderly': 1, 'jeremymcdole': 1, 'multiple': 1, 'unlcomm465': 1, 'blacklivesdonotmatter': 1, 'dealt': 1, 'severely': 2, 'godspell': 1, 'goat': 1, '1100+': 1, 'rotc': 1, 'instructor': 1, 'pledge': 1, 'allegiance': 1, 'putin': 1, 'runner': 1, '4029tv': 1, 'peppersprays': 1, 'eventgoers': 1, '7yrs': 1, 'bacc': 1, 'aubrey': 1, 'womanifesto': 1, 'prochoice': 3, 'standwithpp': 1, 'defendppact': 1, 'ridicule': 1, '14k': 1, 'whataworld': 1, 'bullseye': 2, 'oo': 1, 'particular': 2, 'tcmarathoners': 1, 'richardglossip': 1, 'mcwhorter': 1, 'extend': 1, 'literacy': 1, 'opportunist': 1, 'confident': 1, 'gtfo': 1, 'fundraise': 1, 'tr': 1, '337': 1, 'function': 1, '~sulaiman': 1, 'hyatt': 1, 'busboysandpoets': 1, 'dedicates': 1, 'exterminate': 1, 'sanger': 1, 'uccshooting': 3, 'colour': 2, 'womensfreedomfriday': 1, 'dutyofcare': 1, 'healthinall': 1, 'awe': 1, 'introduce': 1, 'blacklivesmatterpeople': 1, 'reallydo': 1, 'mattertheyll': 1, 'scare': 1, 'sixconference': 1, 'chrisharpermercer': 1, 'blackamerican': 1, 'jihadist': 1, 'childabuse': 1, 'ptsd': 1, 'fer': 1, 'christianlivesmatter': 1, 'pobrecitos': 1, 'fyf911': 2, 'blacksupreme': 1, 'allenglines': 1, 'blacklivesmatterand': 1, 'hysterical': 1, 'moralmondayct': 1, 'lataushanedd': 1, 'guncontrol': 3, 'kris': 1, 'hermann': 1, 'lone': 1, 'hustler': 1, 'kirzart': 1, 'melinated': 1, 'sxsweco': 2, 'dunkin': 2, 'citykidsmatter': 1, 'bcpss': 1, 'southwestbaltimorecharter': 1, 'ri': 1, 'grandcentral': 1, 'dictate': 1, 'misty': 1, 'copeland': 1, 'yoyo': 1, 'lssc': 1, 'lateshow': 1, 'keepitreal': 1, 'nutbag': 1, 'promotes': 3, 'uwil': 1, 'buddy': 2, 'man|the': 1, 'king|the': 1, 'umar': 1, 'faithand': 1, 'gordon': 1, 'caravanforjustice': 1, 'gardner': 1, 'legalization': 1, 'fn': 1, 'submissive': 1, '=white': 1, '=expose': 1, 'chocolate': 1, 'leslie': 1, 'separationvsintegration': 1, 'voterid': 1, 'smoke': 2, 's318': 1, '2015asa': 1, 'thehyp3life': 1, 'peddle': 1, 'wtfblacklivesmatter': 1, 'squad': 1, 'yellowheart': 1, 'melaninpoppin': 1, 'reverendjamal': 1, 'stayrelevant': 1, 'victoryhandmediumskintone': 1, 'freakin': 1, 'patagonia': 1, 'surreal': 2, 'consume': 1, 'inferiority': 1, 'americau': 1, 'kenyagodblessamerica': 1, '2ndamendment': 1, 'bansharialaw': 1, 'blacktwittersa': 1, 'indigenouspeoplesday': 1, 'abolishcolumbusday': 1, '||': 1, 'millionmanmarch2015': 1, '1010': 1, 'thesupremo': 1, 'boycottisrael': 1, 'savealaqsa': 1, 'gyasi': 1, 'ross': 1, 'blacklivesdontmatter': 2, '105': 1, '97': 1, 'bumpin': 1, 'ronalddavis': 1, 'lecture': 2, 'eurocentic': 1, 'assimilation': 1, 'hyperbole': 1, 'phrasing': 1, 'remarkably': 1, 'demdebate': 49, 'demdabate': 1, 'criminaljustice': 2, 'hilary': 1, 'handcuffed': 1, 'evrywhr': 1, 'timejust': 1, 'deference': 1, 'authentic': 1, 'admityourwhiteprivilege': 1, 'curve': 1, 'thor': 1, 'odin': 2, 'fsm': 1, 'jeskes': 1, 'wf': 1, 'suit': 1, 'unfairly': 1, 'steer': 1, 'subprime': 1, 'mortgage': 1, 'dumbestquestionofthenight': 1, 'basic': 3, 'anyones': 1, 'thatgod': 1, 'debatewithbernie': 4, 'explodes': 1, 'injusticereforming': 1, 'hil': 1, 'callofdutyblackopsiii': 1, 'crowdsource': 1, 'blackpoliticsmatter': 2, 'sans': 1, 'twirl': 1, 'questionanswer': 1, 'boooooooo': 1, 'svu': 1, 'stagedfaked': 1, 'puleeze': 1, 'exclude': 1, 'drivingwhileblack': 1, 'surface': 1, 'justwait': 1, 'spiceime': 1, 'rodricus': 1, 'crawfordshow': 1, 'equivalent': 1, 'fluff': 1, 'interviewblacklivesmatter': 1, 'anderson': 1, 'brainer': 1, 'welp': 1, 'sosure': 1, 'k12': 1, 'healthrights': 1, 'democraticdebate': 2, 'whitechicks': 1, 'noti': 1, '1si': 1, 'interraciallove': 1, 'fest': 1, 'svudiehard': 1, 'grammar': 1, 'gtgthow': 1, 'reasonableltlt': 1, 'youampyour': 1, 'straightup': 1, 'hyperprivileged': 1, 'blackpalestiniansolidarity': 1, 'tyson': 1, 'opisrael': 1, 'bulletin': 1, 'tissue': 1, 'communitypolicing': 1, 'policecarlight': 1, 'punk': 2, 'takedown': 1, 'blackliberation': 1, 'uncharted2015': 2, 'ku': 1, 'klux': 1, 'tyt': 1, 'tvontv': 1, 'hire': 1, 'syrian': 4, 'nottsbhm': 1, 'go=gt': 1, 'pussy': 2, 'minor': 1, 'unexpectedly': 1, 'lamar': 1, 'odom': 1, 'torres': 1, 'deeper': 1, 'wider': 1, 'lawandinequality': 1, 'ghoul': 1, 'thinskin': 1, 'sign2saveali': 1, 'alialnimr': 1, 'rejectedsundaysermontopics': 1, 'dontlookaway': 1, 'grace': 1, 'palestinianlivesmatter': 1, 'ampprompting': 1, 'uf': 1, 'wuft': 1, 'malarkey': 1, 'quani': 1, 'teapot': 1, 'bicreunion': 1, 'closure': 1, 'gatekeeper': 1, 'backdoorlamayor': 1, 'outblacklivesmatter': 1, 'humankindness': 1, 'stopcomparingandlovehonestly': 1, 'outinhiphop': 1, 'tie': 3, 'gaytrans': 1, 'matterand': 1, 'sends': 2, 'cfp': 1, 'deadline': 1, 'communityorganizing': 1, 'systemicracism': 1, 'boycottstarwarsvii': 1, 'seal': 1, 'gig': 1, 'coreyjones': 1, 'dncdemand': 1, 'moronic': 1, 'suppoblacklivesmatter': 1, 'restinheaven': 1, 'randolphholder': 1, '5yearveteran': 1, 'nypdofficer': 1, 'bitching': 1, 'civilpartnerships': 1, 'hetero': 1, 'analogue': 1, 'midweek': 1, 'radicalbrownies': 1, 'ampget': 1, 'radicalbeauty': 1, 'foodjustice': 1, 'outa': 1, 'ab': 2, 'educationapartheid': 1, 'feesmustfallforall': 1, 'feesmustfall': 1, 'obv': 1, 'isnot': 1, 'siliconvalley': 1, 'bowsers': 1, 'quentintarantino': 3, '915valerie': 1, 'jarrett': 1, 'blackyouthmatter': 1, 'barack': 1, 'cuba': 3, 'labor': 1, 'backing': 2, 'rosa': 2, 'clemente': 1, 'goucher': 1, '1029': 1, 'monae': 1, 'roar': 1, 'performer': 1, 'glide': 1, 'signa': 1, 'selfishness': 1, 'faithfamilylgbtq': 1, 'disagreed': 1, 'lilebunix': 1, 'key': 3, 'planbut': 1, 'rsvps': 1, 'notblackfriday': 1, '901': 2, 'inconvenient': 1, 'bal': 1, 'prior': 1, 'fgray': 1, 'livesblacklivesmatter': 1, 'dissect': 1, 'peele': 1, 'bowel': 1, 'recapitalize': 1, 'wpolice': 1, 'glove': 1, 'cult': 3, 'properly': 1, 'adele': 1, 'douchebag': 1, 'sympathetic': 1, 'gloria': 1, 'wewiiletyoubreath': 1, 'neverforgetromasinti': 1, 'compose': 1, 'whoreforblackcock': 1, 'wb': 1, 'supremes': 1, 'blacksupremacist': 1, 'bff': 1, 'stoology': 1, 'consideration': 1, 'wehavebiggerissues': 1, 'tfa': 1, 'phled': 1, 'greensboro': 1, 'triumph': 1, 'justice4cindy': 1, 'validity': 1, 'politic': 1, 'disconnect': 1, 'christie': 6, 'defamamation': 1, 'quentin': 2, 'tarantino': 2, 'blackwomen': 1, 'harassingabusing': 1, 'springvalleyhigh': 4, 'schoolthere': 1, 'assaultatspringvalleyhigh': 2, 'edchat': 1, 'amonster': 1, 'israelunderattack': 1, 'excellence': 1, 'deterrent': 1, 'rascism': 2, 'sexism~oprah': 1, 'dtrump': 1, '2012': 1, 'raisethedebate': 1, 'cameltoe': 1, 'obtain': 2, 'sethadams': 1, 'angel': 1, 'waco': 1, 'speaknow': 1, 'faceblowingakiss': 1, 'negate': 1, 'weexpectmore': 1, 'dylan': 1, 'roff': 1, 'policylink': 1, 'theirate8blackout': 1, '101015': 1, 'periscope': 1, 'guilford': 1, 'oncomingfistmediumdarkskintone': 1, 'postracial': 1, 'mobilizeyourbase': 1, 'holdingground': 1, 'orphan': 3, 'chick': 1, 'bashing': 1, 'serenawilliams': 1, 'trustmewewill': 1, 'pokernews': 1, 'anique': 1, 'ym': 1, 'hameed': 1, 'stlouismetro': 1, 'jessssseeeeeee': 1, 'few': 1, '1978': 1, 'blackimmigrants': 1, 'lackofrolemodels': 1, 'surprisingly': 1, 'oligarchy': 1, 'encouragement': 1, 'gradesdo': 1, 'badblacklivesmatter': 1, 'revolutiontv': 1, 'dontgetlemoned': 1, 'ability': 1, 'logical': 1, 'cndpoli': 1, 'brushing': 1, 'eveninglength': 1, 'ballet': 1, 'relates': 1, 'minstrelsy': 1, 'arrogant': 1, 'blunder': 1, 'cnbcgopdebate': 1, 'debatein': 1, 'thegops': 1, 'rconfusing': 1, '2ward': 1, 'bkyd': 1, 'b4accusing': 1, 'ru': 1, 'dimensional': 1, 'votingok': 1, 'fallout': 1, 'heckle': 1, 'reuters': 1, 'serena': 2, 'contemplate': 1, 'cod': 1, 'techdiversity': 1, 'boycotting': 1, 'getaway': 1, 'quieterbc': 1, 'volume': 2, 'oldmanlightskintone': 1, 'particularly': 1, 'amuse': 1, 'detractor': 1, 'abduct': 1, 'yourerie': 1, 'beckel': 1, 'redexclamationmark': 1, 'nswnews': 2, 'bb4sp': 1, 'bervolution': 1, 'ish': 1, 'thts': 1, 'jgsf1987': 1, 'wheel': 1, 'chair': 2, 'patiently': 1, 'bre': 1, 'obummer': 1, 'keynote': 1, 'collegemedia15': 1, 'justmercy': 1, 'capitalpunishmentmeansthosewithoutcapitalgetpunishment': 1, 'grey+sloan': 1, 'ksu': 1, 'yazidis': 1, 'antiausteritywomen': 1, 'blackbrazilians': 1, 'nationally': 1, 'legalizeit': 1, 'thang': 1, 'personwearingturban': 1, 'ripneek': 1, 'lucy': 1, 'mcbath': 1, 'fem2': 1, 'tremayne': 1, 'desperado': 1, 'pours': 1, 'howdoyoulive': 1, 'dinner': 1, 'transfix': 1, 'danielholtzclaw': 1, '630': 1, '7p': 1, 'show14': 1, 'presenters1': 1, 'transformative': 1, 'humancyborg': 1, 'conflict': 1, 'suffragette': 1, 'civilization': 1, 'reaves': 1, 'madden': 1, 'wrist': 1, 'dirty': 2, 'duplicity': 1, 'sex': 2, 'escapade': 1, 'lowly': 1, 'limp': 1, 'bandage': 1, 'dawn': 1, 'crooked': 1, 'waitwhat': 1, 'stranahan': 1, 'conman': 1, 'cantwealllivepeacefully': 1, 'organizationsstarted': 1, 'gospel': 2, 'yer': 1, 'dial': 1, 'instantly': 1, 'standtogether': 1, 'dontforget': 1, 'mia': 1, 'bhswalkout': 1, 'introspect': 1, 'demforum': 1, 'impede': 1, 'transmission': 1, 'keguro': 1, 'macharia': 1, 'maddows': 1, 'tytlive': 2, 'cracklivesmatter': 1, 'banthebox': 1, 'satan': 1, 'kpoo': 1, 'reggae': 2, 'reggaenation': 1, 'whiteprivilegefrankenstein': 1, 'comedy': 1, 'shortfilm': 1, 'sketch': 1, 'nolonger': 1, 'prisongaurds': 1, 'highschool': 1, 'weallwin': 1, 'butdont': 1, 'triggermessymandella': 1, 'tyshawn': 1, 'glaadgala': 1, 'thabo': 1, 'lou': 1, 'timewhen': 1, 'need2stand': 1, 'normarae': 1, 'starbuck': 1, 'arjun': 1, 'ahujagonnavotefor': 1, 'arjunvspeter': 1, 'nov': 1, 'blackworkersmatter': 1, 'complexity': 1, 'disgrace': 2, 'dnc16': 1, 'plantationmasters': 1, 'debbiewassermanschultz': 1, 'chuckschumer': 1, 'tyshawnlee': 2, 'coattail': 1, 'blacklivesmatterone': 1, 'itll': 1, 'mizzou': 23, 'youthisthetruth': 1, 'mizzouwalkout': 1, 'ideclair': 1, 'calstatela': 1, 'wasis': 1, 'expensive': 1, 'synagogue': 1, 'oliviabenson': 1, 'lawandordersvu': 1, 'clone': 1, 'badshoot': 1, 'motorist': 1, 'allnonebailbonds': 1, 'prayformizzou': 5, 'radford4mizzou': 1, 'radforduniversity': 1, 'lamp': 1, 'nothn': 1, 'audit': 1, 'implement': 1, 'targetted': 1, 'gopddebate': 1, 'heavily': 1, 'gopdebatequestions': 1, 'blackmizzou': 2, 'linebacker': 1, 'uncontrollable': 1, 'blackvoices': 1, 'unitedwestand': 1, 'fightracism': 1, 'studentsofcolor': 1, 'wishingforpeace': 1, 'marco': 2, 'rubio': 2, 'lends': 2, 'rubioagainstamerica': 2, 'norubio': 2, 'firstamendment': 1, 'orpol': 1, '1959': 1, 'eisenhower': 1, 'investigates': 1, 'twittergate': 1, 'itstimeforachange': 1, 'consciously': 1, 'ideology': 1, 'miami4mizzou': 1, 'setthemuptoo': 1, 'whiteisis': 1, 'ishmaelbrinsley': 1, 'dellp': 1, 'moon': 1, '215': 1, 'womanist': 1, 'nationalism': 1, 'theylltakethemall': 1, 'laquan': 5, 'riven': 1, 'horrendous': 1, 'culturalliteracy': 1, 'ignite': 1, 'millionstudentmarch': 1, 'deceive': 1, 'umich4mizzou': 1, 'muzzou': 1, 'blackmagic': 1, 'lifetime': 1, 'separatist': 1, 'belly': 1, 'fothermuckers': 1, 'nuttin': 1, 'collar': 1, 'webefucked': 1, 'master': 1, 'morningjoe': 1, 'micro': 1, 'loser': 1, 'forgive': 1, 'iwonder': 1, 'wouldhebeproud': 1, 'gottadobetter': 1, 'weirdoworkshop': 1, 'ripkendalfenwick': 1, 'spree': 1, 'eyesight': 1, 'prize': 1, 'coddle': 1, 'momma': 1, 'peoplelivesmatter': 1, 'jaccuse': 1, 'prayforparis': 3, 'relative': 1, 'facebooks': 1, 'selectiveness': 1, 'immigrate': 1, '0': 1, 'winkingface': 2, 'ampgovrnmts': 1, 'parisattacks': 2, 'lebanonattacks': 1, 'concernedstudent1950': 1, 'warrenwing': 1, 'debtfreecollege': 1, 'expandsocialsecurity': 1, 'wallstreetreform': 1, '⊕': 1, 'gate': 1, 'playinghardtogetittogether': 1, 'stophillary': 1, 'keen': 1, 'zinnbookfest': 1, 'sinking': 1, 'listing': 1, 'ship': 1, 'uniqueloves': 1, 'rosaroja4rev': 1, 'westcarl': 1, 'dix': 1, 'stmts': 1, 'blackoncampus': 3, 'worldattacks': 1, 'bettering': 1, 'wicked': 1, '297': 1, 'justice4jamar': 17, 'winkingfacewithtongue': 1, 'wholeheartedly': 1, 'voicealbeit': 1, 'crass': 1, 'dragnet': 1, 'broader': 1, 'intrusive': 1, 'luck': 1, 'fcks': 1, 'prayforsyria': 1, '1000th': 1, 'fuckparis': 2, 'beirut': 2, 'bagdad': 1, 'barbarian': 1, 'moonbattery1': 1, 'impossible': 1, 'tc': 1, 'lebanon': 2, 'turkey': 1, 'farmer': 1, 'gmo': 1, 'stoparushapvp': 1, '1960': 1, 'redistributethepain': 2, 'womenchildren': 1, 'onstandwithbernie': 1, 'vetsforbernieorg': 1, 'forbid': 1, 'alllivesmattermyass': 1, 'nervous': 1, 'wworld': 1, 'biblequiz': 1, 'godschristianwarriors': 1, 'toddler': 1, 'assail': 1, 'buybackugly': 1, 'facescreaminginfear': 1, 'canwelive': 1, 'i94': 1, 'jamarclark': 6, 'muslimsarenotterorist': 1, 'foralllivesmatter': 1, 'pretence': 1, 'fearmongering': 1, 'catastrophealllivesmatter': 1, 'audacity': 1, 'resarch': 1, 'dig': 1, 'fem': 1, 'preoccupy': 1, 'wgay': 1, 'mexico': 1, 'japan': 1, 'baghdad': 1, '250': 1, 'insolidarity': 1, 'taxicab1969': 1, '4thprecinctshutdown': 12, 'bayard': 1, 'rustin': 1, 'allude': 1, 'laquanmcdonald': 19, 'fwd2015': 2, 'drugpolicyreform': 1, 'fedupwhitefolk': 1, 'bombed': 1, 'prayfornigeria': 1, 'rightoh': 1, 'stopnativegenocide': 2, 'tre': 1, 'wig': 1, 'france': 3, 'leafflutteringinwind': 2, 'boycrisis': 1, 'tedx': 1, 'revmartin': 1, 'unintelligent': 1, 'cloud': 1, 'safespace': 1, 'nbawards': 1, 'nehisi': 1, 'nonfiction': 1, 'renounce': 1, 'methane': 1, 'louwestend': 1, 'nwpam15': 1, 'movementspeople': 1, 'boycottwildwings': 1, 'islamiclivesmatter': 1, 'christianpersecution': 1, 'martinlutherkingjr': 1, 'equates': 1, 'whitemoneymatters': 1, 'prayers4paris': 1, 'sympathy': 2, 'survival': 1, 'followback': 1, 'pressureits': 1, 'blackstudiesmajornow': 1, 'apartment': 1, 'nineteen': 1, 'luxury': 1, 'regret': 1, 'torn': 1, 'racepop': 1, 'shehe': 1, 'classist': 1, 'bkwards': 1, '2gther': 1, 'prayformali': 1, 'trevin': 1, 'cox': 1, 'gtgtwoodrow': 1, 'princeton': 2, 'fightltlt': 1, 'whitesplaining': 1, 'prichardmany': 1, 'penelope': 1, 'staff': 1, 'aarsbl15': 1, 'oral': 1, 'rochester': 1, 'pwi': 1, 'heterosexual': 1, 'foreverfeminism': 1, 'freebleed': 1, 'fnaf': 1, 'warriorcats': 1, 'mylittlepony': 1, 'ml': 1, 'bumper': 1, 'juvenile': 1, 'tantrum': 1, 'lonesome': 1, 'ala': 1, 'blacklivesmatteryoure': 1, 'importantly': 1, 'argentina': 1, 'aclc': 1, 'unafraid': 1, 'weareblack': 1, 'yearwithouttamir': 2, 'poppin': 1, 'grasp': 2, 'derays': 1, '~not': 1, 'whitesupremacists': 1, 'hungry': 1, 'mustreads': 1, 'responsivephilanthropy': 1, 'amndment': 1, 'whitetwitter': 1, 'crestfallen': 1, 'lifee': 1, 'justicefortamirrice': 1, 'justice4tamirrice': 1, 'civilise': 1, 'donaldtrump': 1, '2shoot': 1, 'cattle': 1, 'h8': 1, 'matterhey': 1, 'obamapress': 1, 'ego': 1, 'neofeminist': 1, 'rtna': 1, 'msp': 2, 'dispassionate': 1, 'mcdonald': 2, 'answerswe': 1, 'solutionswe': 1, 'dam': 1, 'horse': 1, 'span': 1, 'donaldtrumpisanidiot': 1, 'ourslves': 1, 'joseph': 1, 'backman': 1, 'videographer': 1, 'band': 1, 'peopleall': 1, 'amiribaraka': 1, 'wordwarriors3themovie': 1, 'limited': 1, 'frontpage': 1, 'greenfield': 2, 'pal': 1, 'jailsupport': 1, 'muddies': 1, 'reversal': 1, 'ring': 1, 'rahm': 3, 'whatsoever': 1, 'kkaalleemmaa': 1, 'repostapp': 1, 'redistribute': 1, 'shopper': 1, 'literate': 1, 'southside': 1, 'tourist': 1, 'imthankfulfor': 1, 'pillage': 1, 'herring': 1, 'tasered': 1, 'assaultonspringvalleyhigh': 1, 'hed': 1, '15yearold': 1, 'awww': 1, 'serenity': 1, 'troubled': 1, 'timesand': 1, '16shots': 3, 'sincere': 1, '16shotsandacoverup': 1, 'poorlivesmatter': 1, 'abhorrent': 1, 'upright': 1, 'protesteragitator': 1, '♫': 2, 'cryin': 1, 'dyin': 1, 'gunna': 1, 'destinyrush': 1, '2001': 1, 'wavin': 1, 'transperson': 1, 'transisbeautiful': 1, 'loveall': 1, 'showlove': 1, 'kendrickjohnson': 1, 'blunt': 1, 'intractable': 1, 'wechargeterrorism': 1, 'russian': 1, 'headstone': 1, 'astonish': 1, 'holmes': 1, 'plaid': 1, 'degree': 1, 'monicker': 1, 'gutierrez': 1, 'withdraws': 1, 'anita': 1, 'alvarez': 1, 'vidcoverup': 1, 'auto': 1, 'whitesthats': 1, 'grandwizard': 1, 'fuckglobalwarming': 1, 'sandy': 2, '16daysofactivism': 1, 'conflictresolution': 1, 'blackonblackcrime': 1, 'shifor': 1, 'bday': 1, 'hegetsme': 1, 'utopian': 1, 'offwm': 1, 'porter': 1, 'mptnews': 1, 'kern': 1, 'childish': 1, 'helpless': 1, 'bluelivesmatters': 1, 'zurbanotorres': 3, 'counteract': 1, 'bernardino': 1, 'delineates': 1, 'foreground': 1, '1990s': 1, 'mro': 1, 'exec': 1, 'controljokewe': 1, 'doorsuntie': 1, 'copsstop': 1, 'bating': 1, 'distinct': 1, 'exofficer': 1, 'pant': 1, 'tshirsts': 1, 'hannukah': 1, 'pirsumei': 1, 'nisa': 1, 'killallwhitemen': 1, 'spps': 1, 'thewiz': 1, 'jayz': 1, 'workin': 1, 'blackisbeautifulto': 1, 'beyonceprivilege': 1, 'allah': 1, 'shyte': 1, '\\U000fe4ef': 1, 'calilili': 1, 'wedontfallinlovewerise': 1, 'holidayshopping': 1, 'poeticjustice': 1, 'skip': 1, 'antitransparency': 1, 'triple': 1, 'chad': 1, 'ajenews': 1, 'africanlives': 1, 'cubanflagemoji': 1, 'int\\u200bernet': 1, 'liar': 1, 'rahmblagojevich': 1, '150th': 1, 'ratification': 1, 'nagarick': 1, 'cop21': 1, 'brandalism': 1, 'chennaifloods': 1, 'trumpstyle': 1, 'harsher': 1, 'penaltiesmore': 1, 'prisonsaust': 1, 'pathblacklivesmatter': 1, 'josephweekley': 1, 'blueaccountability': 1, 'stopthekilling': 1, 'mattertheres': 1, 'beaware': 1, 'judiciary': 1, 'countrylife': 1, 'minoritywhat': 1, 'howto': 1, 'showit': 1, 'accomplishment': 1, 'wat': 1, 'meningitis': 1, 'budgetmatters2015': 2, 'muslimswelcome': 1, 'peeped': 1, 'outsmart': 1, 'isisits': 1, 'rockchalkinvisiblehawk': 1, 'tb': 1, 'bucs': 1, 'qbthen': 1, 'whitemy': 1, 'introd': 1, 'educationmatters': 1, 'hardworkmatters': 1, 'respectingpolicematters': 1, 'valuesmatter': 1, 'blingisbs': 1, 'beingcoolisnt': 1, 'resignrahm': 1, 'holtzclaw': 1, 'preppers': 1, 'url': 1, 'innercityblues': 1, 'rainbowpush': 1, 'lisahaynesvspdx': 1, 'endprofiling': 1, 'excessiveforce': 1, 'binary': 1, 'godgoddess': 1, 'battlefield': 1, 'jstines3': 1, 'standwithsheriffclarke': 1, 'titleix': 1, 'bureaucracy': 1, 'jeffreytindle': 1, 'cantstop': 1, 'othersampstop': 1, 'fascism': 1, 'whitefolkswork': 1, 'g4vusa': 1, 'flow': 1, 'slowly': 1, 'shady': 1, 'critic': 1, 'knowledgeispower': 1, 'observe': 1, '3yrs': 1, 'microsoft': 1, 'scrub': 1, 'libpcbs': 1, 'endangers': 1, 'senate': 1, 'zaria': 1, 'gary': 1, 'tanked': 1, 'nicholasrobertson': 1, 'crawl': 1, 'zionist': 1, 'coopting': 2, 'repercussion': 1, 'standstrong': 1, 'standforsomething': 1, 'unis': 1, 'itgetsbetter': 1, 'asu': 1, 'jayme': 1, 'otomewo': 1, 'deonte': 1, 'reynolds': 1, 'burglary': 1, 'keishaall': 1, 'civilrightstwitter': 1, 'unborns': 1, 'justborns': 1, 'familylife': 1, 'inhumane': 1, 'erica': 1, 'epically': 1, 'mistrial': 1, 'largely': 1, 'projectqueer': 1, 'tfdw': 1, 'volunteer': 1, 'january': 1, 'rampb': 2, 'hawaiian': 1, 'yourewelcome': 1, 'explode': 1, 'cricket': 1, 'mac': 1, 'miller': 1, 'listener': 1, 'doe': 1, 'shareretweetall': 1, '101': 1, 'southamerica': 1, 'reconnect': 1, 'republicandebate': 1, 'showrefreshing': 1, 'consciousbeautiful': 1, 'william': 1, 'subliminal': 1, 'gtmay': 1, 'theforceawakens': 1, 'changedemdebate': 1, 'indifferent': 1, 'freddiegrays': 1, 'griefstricken': 1, 'hospitalize': 1, '400yrs': 1, 'agnst': 1, 'accident': 1, 'jimcrow': 1, 'pedestrian': 1, 'proisrael': 1, '8000': 1, 'twill': 1, 'timesblacklivesmatter': 1, 'herman': 1, '79c0262': 1, 'kgmb': 1, 'khnl': 1, 'feedback': 1, 'murica': 1, 'medusa': 1, 'vickirandle': 1, 'bpt': 1, 'event2444515': 1, 'imissedthepartwhere': 1, 'bcuz': 1, 'automatically': 1, 'moderator': 1, 'ohana': 1, 'happykwanzaa': 1, 'jamarclarks': 1, 'blackxmas2': 2, 'monger': 1, 'deracializes': 1, 'marginalization': 1, 'cinterrogation': 1, 'pdx': 1, 'themsandrabland': 1, 'flintwatercrisis': 1, 'justiceforflint': 1, 'powertothepeople': 1, 'travon': 1, 'thingsucantsay2normalpeople': 1, 'overtime': 1, 'monies': 1, 'aupublicanthropology': 1, 'engages': 1, 'mountaintop': 1, 'coal': 1, 'chopper': 1, 'merrychristmas': 1, 'idiocy': 1, 'irl': 1, 'stalk': 1, '1yr': 1, 'coalition': 1, 'kwazi': 1, 'mentor': 2, 'relationship': 1, 'cope': 1, 'alondra': 1, 'cano': 1, 'doxing': 1, 'inquisitr': 1, 'angryblackman': 1, 'martyr': 1, '\\U000fe33d\\U000fe33d\\U000fe33d\\U000fe33dcan': 1, 'casualtieshowever': 1, '2015s': 1, 'façade': 1, 'newyears': 1, 'enlighten': 1, 'emmittill': 1, 'withing': 1, 'brb': 1, 'urbanamissions': 1, 'yessssspeakthetruth': 1, 'itstime': 1, 'lament': 1, 'rile': 1, 'spite': 1, 'alleges': 1, 'sicktomystomach': 1, 'licker': 1, 'aftermath': 1, 'stain': 1, 'complicate': 1, 'wewantfreedom': 1, 'punishes': 1, 'greeting': 1, 'bittersweet': 1, 'affirms': 1, 'blackundocumented': 1, 'wrecords': 1, 'crowdyou': 1, 'impossiblehe': 1, 'bind': 1, 'impedes': 1, 'alliance': 1, '80': 1, 'northeast': 1, 'peoplewhomademyyear': 1, 'righton': 1, '11pm': 1, 'bmore4tamir': 1, 'newyearsshutdown': 1, 'sonali': 2, 'kolhatkar': 2, 'emotionally': 1}\n"
          ],
          "name": "stdout"
        }
      ]
    },
    {
      "cell_type": "code",
      "metadata": {
        "id": "3Hym6w2XB4S2"
      },
      "source": [
        "# Remove words which occur a single time\n",
        "vocabCopy = vocab.copy();\n",
        "for word in vocabCopy:\n",
        "    if vocab.get(word) == 1: vocab.pop(word)\n",
        "\n",
        "# Print Coverge\n",
        "oov_glove = check_coverage(vocab, embed_glove)\n",
        "print(oov_glove)  # all vocab which is not covered in embeddings. Useful for model optimization"
      ],
      "execution_count": null,
      "outputs": []
    },
    {
      "cell_type": "code",
      "metadata": {
        "id": "6O0WU2_eisDb"
      },
      "source": [
        "len_voc = 95000\n",
        "max_len = 3000"
      ],
      "execution_count": null,
      "outputs": []
    },
    {
      "cell_type": "code",
      "metadata": {
        "id": "AZAl4y2mirzx"
      },
      "source": [
        "def make_data(X):\n",
        "    t = Tokenizer(num_words=len_voc)\n",
        "    t.fit_on_texts(X)\n",
        "    X = t.texts_to_sequences(X)\n",
        "    X = pad_sequences(X, maxlen=max_len)\n",
        "    return X, t.word_index"
      ],
      "execution_count": null,
      "outputs": []
    },
    {
      "cell_type": "code",
      "metadata": {
        "id": "7SP_dhbaiYDZ"
      },
      "source": [
        "def make_embed_matrix(embeddings_index, word_index, len_voc):\n",
        "    all_embs = np.stack(embeddings_index.values())\n",
        "    emb_mean,emb_std = all_embs.mean(), all_embs.std()\n",
        "    embed_size = all_embs.shape[1]\n",
        "    word_index = word_index\n",
        "    embedding_matrix = np.random.normal(emb_mean, emb_std, (len_voc, embed_size))\n",
        "    \n",
        "    for word, i in word_index.items():\n",
        "        if i >= len_voc:\n",
        "            continue\n",
        "        embedding_vector = embeddings_index.get(word)\n",
        "        if embedding_vector is not None: \n",
        "            embedding_matrix[i] = embedding_vector\n",
        "    \n",
        "    return embedding_matrix"
      ],
      "execution_count": null,
      "outputs": []
    },
    {
      "cell_type": "code",
      "metadata": {
        "id": "ck0ADu1Oi28v"
      },
      "source": [
        "X, word_index = make_data(train_df['text'])"
      ],
      "execution_count": null,
      "outputs": []
    },
    {
      "cell_type": "markdown",
      "metadata": {
        "id": "71sxF8scB4Sz"
      },
      "source": [
        "## Word Embedding Models"
      ]
    },
    {
      "cell_type": "code",
      "metadata": {
        "id": "nPzozP0XB4Sv"
      },
      "source": [
        "# Code in this section is based on https://towardsdatascience.com/sentiment-analysis-using-lstm-and-glove-embeddings-99223a87fe8e"
      ],
      "execution_count": null,
      "outputs": []
    },
    {
      "cell_type": "code",
      "metadata": {
        "id": "WE8D76XiQPcN"
      },
      "source": [
        "# By default, GloVe Wiki Model is enabled, as it has the highest overall coverage\r\n",
        "\r\n",
        "vector_model = r\"/home/asursock/glove.6B.300d.txt\"           #GloVe Wiki Model\r\n",
        "# vector_model = r\"/home/asursock/glove.twitter.27B.200d.txt #GloVe Twitter Model\r\n",
        "# vector_model = r\"/home/asursock/crawl-300d-2M.vec\"         #FastText Crawl Model\r\n",
        "\r\n",
        "#extract vector model's embeddings\r\n",
        "print(\"Extracting Vector Model embedding...\")\r\n",
        "# embed_glove = load_embed(vector_model)"
      ],
      "execution_count": null,
      "outputs": []
    },
    {
      "cell_type": "code",
      "metadata": {
        "colab": {
          "base_uri": "https://localhost:8080/"
        },
        "id": "fbFeKMwEiX6w",
        "outputId": "04a3d955-d46c-49d3-941b-e17a7d519ca7"
      },
      "source": [
        "embedding = make_embed_matrix(embed_glove, word_index, len_voc)\n",
        "del word_index\n",
        "gc.collect()"
      ],
      "execution_count": null,
      "outputs": [
        {
          "output_type": "execute_result",
          "data": {
            "text/plain": [
              "24690"
            ]
          },
          "metadata": {
            "tags": []
          },
          "execution_count": 63
        }
      ]
    },
    {
      "cell_type": "code",
      "metadata": {
        "id": "1-m68HOFlrk7"
      },
      "source": [
        "def make_model(embedding_matrix, embed_size=300, loss='binary_crossentropy'):\n",
        "    inp    = Input(shape=(max_len,))\n",
        "    x      = Embedding(len_voc, embed_size, weights=[embedding_matrix], trainable=False)(inp)\n",
        "    x      = Bidirectional(GRU(128, return_sequences=True))(x)\n",
        "    x      = Bidirectional(GRU(64, return_sequences=True))(x)\n",
        "    avg_pl = GlobalAveragePooling1D()(x)\n",
        "    max_pl = GlobalMaxPooling1D()(x)\n",
        "    concat = concatenate([avg_pl, max_pl])\n",
        "    dense  = Dense(64, activation=\"sigmoid\")(concat)\n",
        "    drop   = Dropout(0.1)(concat)\n",
        "    output = Dense(1, activation=\"sigmoid\")(concat)\n",
        "    \n",
        "    model  = Model(inputs=inp, outputs=output)\n",
        "    model.compile(loss=loss, optimizer=Adam(lr=0.0001), metrics=['accuracy', f1])\n",
        "    return model"
      ],
      "execution_count": null,
      "outputs": []
    },
    {
      "cell_type": "code",
      "metadata": {
        "id": "e8D9R1fZlrTk"
      },
      "source": [
        "model = make_model(embedding)\n",
        "model_treated = make_model(embedding_treated)"
      ],
      "execution_count": null,
      "outputs": []
    },
    {
      "cell_type": "code",
      "metadata": {
        "colab": {
          "base_uri": "https://localhost:8080/"
        },
        "id": "vA4aklv0mDDk",
        "outputId": "f44cbb2d-0bad-4865-fb23-76f6382c411d"
      },
      "source": [
        "model.summary()"
      ],
      "execution_count": null,
      "outputs": [
        {
          "output_type": "stream",
          "text": [
            "Model: \"model_2\"\n",
            "__________________________________________________________________________________________________\n",
            "Layer (type)                    Output Shape         Param #     Connected to                     \n",
            "==================================================================================================\n",
            "input_5 (InputLayer)            [(None, 3000)]       0                                            \n",
            "__________________________________________________________________________________________________\n",
            "embedding_6 (Embedding)         (None, 3000, 300)    28500000    input_5[0][0]                    \n",
            "__________________________________________________________________________________________________\n",
            "bidirectional_4 (Bidirectional) (None, 3000, 256)    330240      embedding_6[0][0]                \n",
            "__________________________________________________________________________________________________\n",
            "bidirectional_5 (Bidirectional) (None, 3000, 128)    123648      bidirectional_4[0][0]            \n",
            "__________________________________________________________________________________________________\n",
            "global_average_pooling1d_2 (Glo (None, 128)          0           bidirectional_5[0][0]            \n",
            "__________________________________________________________________________________________________\n",
            "global_max_pooling1d_2 (GlobalM (None, 128)          0           bidirectional_5[0][0]            \n",
            "__________________________________________________________________________________________________\n",
            "concatenate_2 (Concatenate)     (None, 256)          0           global_average_pooling1d_2[0][0] \n",
            "                                                                 global_max_pooling1d_2[0][0]     \n",
            "__________________________________________________________________________________________________\n",
            "dense_5 (Dense)                 (None, 1)            257         concatenate_2[0][0]              \n",
            "==================================================================================================\n",
            "Total params: 28,954,145\n",
            "Trainable params: 454,145\n",
            "Non-trainable params: 28,500,000\n",
            "__________________________________________________________________________________________________\n"
          ],
          "name": "stdout"
        }
      ]
    },
    {
      "cell_type": "markdown",
      "metadata": {
        "id": "vn0YhrwyjpYC"
      },
      "source": [
        "## RNN Classifier #1 (good)"
      ]
    },
    {
      "cell_type": "code",
      "metadata": {
        "id": "eWPeaVIdxj2p"
      },
      "source": [
        "# Code in this section is based on https://towardsdatascience.com/sentiment-analysis-using-lstm-and-glove-embeddings-99223a87fe8e"
      ],
      "execution_count": null,
      "outputs": []
    },
    {
      "cell_type": "code",
      "metadata": {
        "id": "TPiNnZvVB4Sv"
      },
      "source": [
        "tokenizer = Tokenizer(num_words=5000)\n",
        "tokenizer.fit_on_texts(X_train)\n",
        "\n",
        "words_to_index = tokenizer.word_index"
      ],
      "execution_count": null,
      "outputs": []
    },
    {
      "cell_type": "code",
      "metadata": {
        "id": "1ZC3Hg-AB4Sw"
      },
      "source": [
        "def read_glove_vector(glove_vec):\n",
        "  with open(glove_vec, 'r', encoding='UTF-8') as f:\n",
        "    words = set()\n",
        "    word_to_vec_map = {}\n",
        "    for line in f:\n",
        "      w_line = line.split()\n",
        "      curr_word = w_line[0]\n",
        "      word_to_vec_map[curr_word] = np.array(w_line[1:], dtype=np.float64)\n",
        "\n",
        "\n",
        "\n",
        "  return word_to_vec_map"
      ],
      "execution_count": null,
      "outputs": []
    },
    {
      "cell_type": "code",
      "metadata": {
        "id": "vGKcT3m2B4Sw"
      },
      "source": [
        "word_to_vec_map = read_glove_vector(vector_model)\n",
        "\n",
        "maxLen = 3000 # max length of single feature (never reached)\n",
        "vocab_len = len(words_to_index)\n",
        "embed_vector_len = word_to_vec_map['moon'].shape[0]\n",
        "\n",
        "emb_matrix = np.zeros((vocab_len, embed_vector_len))\n",
        "\n",
        "for word, index in words_to_index.items():\n",
        "  embedding_vector = word_to_vec_map.get(word)\n",
        "  if embedding_vector is not None:\n",
        "            emb_matrix[index, :] = embedding_vector\n",
        "\n",
        "embedding_layer = Embedding(input_dim=vocab_len, output_dim=embed_vector_len, input_length=maxLen, weights = [emb_matrix], trainable=False)"
      ],
      "execution_count": null,
      "outputs": []
    },
    {
      "cell_type": "code",
      "metadata": {
        "id": "sX5MSEFAB4Sx"
      },
      "source": [
        "# Split Dataset into training and test set (by default random cross-validation is enabled)\n",
        "\n",
        "y = np.array(list(map(lambda x: 1 if x==\"positive\" else 0, train_df['BLM'])))\n",
        "X_train, X_test,Y_train, Y_test = train_test_split(train_df['text'], y, test_size=0.2, random_state = 45)\n",
        "\n",
        "# Optional: commented out section: use given split\n",
        "# X_train = train_df['text']\n",
        "# Y_train = y\n",
        "# X_test = test_df['text']\n",
        "# Y_test = np.array(list(map(lambda x: 1 if x==\"positive\" else 0, test_df['BLM'])))"
      ],
      "execution_count": null,
      "outputs": []
    },
    {
      "cell_type": "code",
      "metadata": {
        "id": "3rFt3lnzB4Sx"
      },
      "source": [
        "# Alternative Model Creation (not used in evaluation)\n",
        "def sentiment(X_indices):\n",
        "  embeddings = embedding_layer(X_indices)\n",
        "  X = LSTM(128, return_sequences=True)(embeddings)\n",
        "  X = Dropout(0.6)(X)\n",
        "  X = LSTM(128, return_sequences=True)(X)\n",
        "  X = Dropout(0.6)(X)\n",
        "  X = LSTM(128)(X)\n",
        "  X = Dense(1, activation='sigmoid')(X)\n",
        "  model = Model(inputs=X_indices, outputs=X)\n",
        "  return model"
      ],
      "execution_count": null,
      "outputs": []
    },
    {
      "cell_type": "code",
      "metadata": {
        "id": "xFztCUgjkBj7"
      },
      "source": [
        "# To activate alternative model above, uncomment the next line (disabled by default, as not optimized)\r\n",
        "\r\n",
        "# model = sentiment(X_train_indices) # uncomment if alternative LSTM model is preferred over bidirectional"
      ],
      "execution_count": null,
      "outputs": []
    },
    {
      "cell_type": "code",
      "metadata": {
        "id": "S38_SsglB4Sx"
      },
      "source": [
        "# Tokenize and pad both the training and testing set\n",
        "X_train_indices = tokenizer.texts_to_sequences(X_train)\n",
        "X_train_indices = pad_sequences(X_train_indices, maxlen=maxLen, padding='post')\n",
        "X_test_indices = tokenizer.texts_to_sequences(X_test)\n",
        "X_test_indices = pad_sequences(X_test_indices, maxlen=maxLen, padding='post')"
      ],
      "execution_count": null,
      "outputs": []
    },
    {
      "cell_type": "markdown",
      "metadata": {
        "id": "y0ghhng1kfI2"
      },
      "source": [
        "#### Fit and run RNN Classifier #1\r\n",
        "WARNING: computationally heavy. Only run with appropriate hardware!!"
      ]
    },
    {
      "cell_type": "code",
      "metadata": {
        "id": "STBhorkHB4Sy",
        "outputId": "e4e1a702-25d5-4ff0-9e03-bacf090c16e6"
      },
      "source": [
        "# Fit and run full model \n",
        "\n",
        "adam = keras.optimizers.Adam(learning_rate = 0.0001)\n",
        "model.compile(optimizer=adam, loss='binary_crossentropy', metrics=['accuracy'])\n",
        "\n",
        "print(\"Fitted Model:\")\n",
        "model.fit(X_train_indices, Y_train, batch_size=128, epochs=15)\n",
        "\n",
        "print(\"Training Set Accuracy:\")\n",
        "model.evaluate(X_test_indices, Y_test) # find accuracy and loss rate on test set"
      ],
      "execution_count": null,
      "outputs": [
        {
          "output_type": "stream",
          "text": [
            " 6/46 [==>...........................] - ETA: 4:29 - loss: 0.3186 - accuracy: 0.8619"
          ],
          "name": "stdout"
        }
      ]
    },
    {
      "cell_type": "markdown",
      "metadata": {
        "id": "4WDweitYQKQn"
      },
      "source": [
        "## Run Classifier \\#2 (bad)"
      ]
    },
    {
      "cell_type": "code",
      "metadata": {
        "id": "9qwOCNd_xTzS"
      },
      "source": [
        "# This following functions are based on https://www.kaggle.com/theoviel/improve-your-score-with-text-preprocessing-v2"
      ],
      "execution_count": null,
      "outputs": []
    },
    {
      "cell_type": "code",
      "metadata": {
        "id": "JFNnfc72iXiN"
      },
      "source": [
        "# For evaluation purposes (recall, precision, and F1 Score)\n",
        "\n",
        "def f1(y_true, y_pred):\n",
        "    def recall(y_true, y_pred):\n",
        "        true_positives = K.sum(K.round(K.clip(y_true * y_pred, 0, 1)))\n",
        "        possible_positives = K.sum(K.round(K.clip(y_true, 0, 1)))\n",
        "        recall = true_positives / (possible_positives + K.epsilon())\n",
        "        return recall\n",
        "\n",
        "    def precision(y_true, y_pred):\n",
        "        true_positives = K.sum(K.round(K.clip(y_true * y_pred, 0, 1)))\n",
        "        predicted_positives = K.sum(K.round(K.clip(y_pred, 0, 1)))\n",
        "        precision = true_positives / (predicted_positives + K.epsilon())\n",
        "        return precision\n",
        "    \n",
        "    precision = precision(y_true, y_pred)\n",
        "    recall = recall(y_true, y_pred)\n",
        "    return 2*((precision*recall)/(precision+recall+K.epsilon()))"
      ],
      "execution_count": null,
      "outputs": []
    },
    {
      "cell_type": "code",
      "metadata": {
        "colab": {
          "base_uri": "https://localhost:8080/"
        },
        "id": "ICCNZC34zjTR",
        "outputId": "8ef44a5c-5a2d-4c8e-a97f-e9ae17e748ce"
      },
      "source": [
        "y = train_df['BLM']\n",
        "X_train, X_val, y_train, y_val = train_test_split(X, y, test_size=0.1, random_state=420)\n",
        "X_t_train, X_t_val, _, _ = train_test_split(X_treated, y, test_size=0.1, random_state=420)\n",
        "print(f\"Training on {X_train.shape[0]} texts\")"
      ],
      "execution_count": null,
      "outputs": [
        {
          "output_type": "stream",
          "text": [
            "Training on 6514 texts\n"
          ],
          "name": "stdout"
        }
      ]
    },
    {
      "cell_type": "code",
      "metadata": {
        "id": "yy2kGTeh0ubo"
      },
      "source": [
        "checkpoints = ModelCheckpoint('weights.hdf5', monitor=\"accuracy\", mode=\"max\", verbose=True, save_best_only=True)\n",
        "reduce_lr = ReduceLROnPlateau(monitor='val_f1', factor=0.1, patience=2, verbose=1, min_lr=0.000001)\n",
        "checkpoints_treated = ModelCheckpoint('treated_weights.hdf5', monitor=\"val_f1\", mode=\"max\", verbose=True, save_best_only=True)\n",
        "reduce_lr_treated = ReduceLROnPlateau(monitor='val_f1', factor=0.1, patience=2, verbose=1, min_lr=0.000001)"
      ],
      "execution_count": null,
      "outputs": []
    },
    {
      "cell_type": "code",
      "metadata": {
        "id": "0cYYuyzh5EyM"
      },
      "source": [
        "# Transform labels into floats for computation\n",
        "y_train_float = []\n",
        "for label in y_train:\n",
        "  if label == 'negative': y_train_float.append(0.0)\n",
        "  elif label == 'positive': y_train_float.append(1.0)\n",
        "  else: print('error')\n"
      ],
      "execution_count": null,
      "outputs": []
    },
    {
      "cell_type": "code",
      "metadata": {
        "id": "ysffBO6EB4S9"
      },
      "source": [
        "y_val_float = []\n",
        "for label in y_val:\n",
        "  if label == 'negative': y_val_float.append(0.0)\n",
        "  elif label == 'positive': y_val_float.append(1.0)\n",
        "  else: print('error')\n"
      ],
      "execution_count": null,
      "outputs": []
    },
    {
      "cell_type": "code",
      "metadata": {
        "id": "XQOS-mFP6UQM"
      },
      "source": [
        "y_train_float = np.array(y_train_float)"
      ],
      "execution_count": null,
      "outputs": []
    },
    {
      "cell_type": "code",
      "metadata": {
        "id": "QvRsrzH6B4S-"
      },
      "source": [
        "y_val_float = np.array(y_val_float)"
      ],
      "execution_count": null,
      "outputs": []
    },
    {
      "cell_type": "markdown",
      "metadata": {
        "id": "oT4y9C0WB4S-"
      },
      "source": [
        "### Fit and run RNN Classifier \\#2"
      ]
    },
    {
      "cell_type": "code",
      "metadata": {
        "id": "uKpVOZK_B4S-",
        "outputId": "7cb448da-f85e-41b7-b3de-1c0f1d5bafc1"
      },
      "source": [
        "classWeight = compute_class_weight('balanced', y_train_float, [0.0, 1.0]) \n",
        "classWeight = dict(enumerate(classWeight))"
      ],
      "execution_count": null,
      "outputs": [
        {
          "output_type": "stream",
          "text": [
            "/home/asursock/.local/lib/python3.8/site-packages/sklearn/utils/validation.py:70: FutureWarning: Pass classes=[1. 1. 0. ... 0. 0. 0.], y=[0.0, 1.0] as keyword args. From version 1.0 (renaming of 0.25) passing these as positional arguments will result in an error\n",
            "  warnings.warn(f\"Pass {args_msg} as keyword args. From version \"\n"
          ],
          "name": "stderr"
        }
      ]
    },
    {
      "cell_type": "code",
      "metadata": {
        "id": "m8waCYwuwcRS",
        "scrolled": true,
        "outputId": "1b1934c7-69ba-4861-a12d-7f1ecf5de41d"
      },
      "source": [
        "epochs = 1 # adjust number of epochs & batch-size for optimization\n",
        "batch_size = 524\n",
        "history = model.fit(X_train, y_train_float, batch_size=batch_size, epochs=epochs, \n",
        "                    validation_data=(X_val, y_val_float), callbacks=[checkpoints, reduce_lr], class_weight=classWeight)"
      ],
      "execution_count": null,
      "outputs": [
        {
          "output_type": "stream",
          "text": [
            "66/66 [==============================] - 428s 6s/step - loss: 0.5475 - accuracy: 0.7223 - f1: 0.7762 - val_loss: 0.5048 - val_accuracy: 0.7873 - val_f1: 0.8876\n",
            "\n",
            "Epoch 00001: val_f1 improved from -inf to 0.88765, saving model to weights.hdf5\n"
          ],
          "name": "stdout"
        }
      ]
    },
    {
      "cell_type": "code",
      "metadata": {
        "id": "gBen8s3SwX-z"
      },
      "source": [
        "pred_val = model.predict(X_val, batch_size=512, verbose=1)"
      ],
      "execution_count": null,
      "outputs": []
    },
    {
      "cell_type": "code",
      "metadata": {
        "id": "BIHp-KpyB4TA"
      },
      "source": [
        "def tweak_threshold(pred, truth):\n",
        "    thresholds = []\n",
        "    scores = []\n",
        "    for thresh in np.arange(0.1, 0.501, 0.01):\n",
        "        thresh = np.round(thresh, 2)\n",
        "        thresholds.append(thresh)\n",
        "        score = f1_score(truth, (pred>thresh).astype(int))\n",
        "        scores.append(score)\n",
        "    return np.max(scores), thresholds[np.argmax(scores)]"
      ],
      "execution_count": null,
      "outputs": []
    },
    {
      "cell_type": "code",
      "metadata": {
        "id": "a1RhJPiEB4TA"
      },
      "source": [
        "score_val, threshold_val = tweak_threshold(pred_val, y_val_float)\n",
        "\n",
        "print(f\"Scored {round(score_val, 4)} for threshold {threshold_val} with texts on validation data\")"
      ],
      "execution_count": null,
      "outputs": []
    },
    {
      "cell_type": "code",
      "metadata": {
        "id": "cw9a3hFviBhL"
      },
      "source": [
        "score = history.score(x_test, test_labels)\r\n",
        "print(score)"
      ],
      "execution_count": null,
      "outputs": []
    },
    {
      "cell_type": "markdown",
      "metadata": {
        "id": "GWu6j5hdiTRY"
      },
      "source": [
        "# Classifier Testing"
      ]
    },
    {
      "cell_type": "markdown",
      "metadata": {
        "id": "sf55ttqHmr9n"
      },
      "source": [
        "## 1. Bernoulli Naive Bayes"
      ]
    },
    {
      "cell_type": "code",
      "metadata": {
        "id": "5Wc7dfyuiTRY",
        "scrolled": true,
        "colab": {
          "base_uri": "https://localhost:8080/"
        },
        "outputId": "ce0ef747-c9eb-4281-d285-bc58d5ee9660"
      },
      "source": [
        "bnb = BernoulliNB()\n",
        "bnb.fit(train_vocab, train_labels)\n",
        "bnbScore = bnb.score(test_vocab, test_labels)\n",
        "\n",
        "print(bnbScore)"
      ],
      "execution_count": null,
      "outputs": [
        {
          "output_type": "stream",
          "text": [
            "0.823302043070127\n"
          ],
          "name": "stdout"
        }
      ]
    },
    {
      "cell_type": "markdown",
      "metadata": {
        "id": "VI7qWiV4iTRY"
      },
      "source": [
        "## 2. Multinomial Naive Bayes"
      ]
    },
    {
      "cell_type": "code",
      "metadata": {
        "id": "kZZZ-PhNiTRZ",
        "colab": {
          "base_uri": "https://localhost:8080/"
        },
        "outputId": "fe7dbd0d-ac24-4125-ab7c-a4e9d989454b"
      },
      "source": [
        "multi = MultinomialNB()\n",
        "multi.fit(train_vocab, train_labels)\n",
        "multiScore = multi.score(test_vocab, test_labels)\n",
        "\n",
        "print(multiScore)"
      ],
      "execution_count": null,
      "outputs": [
        {
          "output_type": "stream",
          "text": [
            "0.816123688569851\n"
          ],
          "name": "stdout"
        }
      ]
    },
    {
      "cell_type": "markdown",
      "metadata": {
        "id": "LkfFMaUpiTRZ"
      },
      "source": [
        "## 3. KNeighbours"
      ]
    },
    {
      "cell_type": "markdown",
      "metadata": {
        "id": "WHe84OU-m5zK"
      },
      "source": [
        "### Cross Validation"
      ]
    },
    {
      "cell_type": "code",
      "metadata": {
        "id": "bYoAkczhiTRX",
        "colab": {
          "base_uri": "https://localhost:8080/",
          "height": 298
        },
        "outputId": "1dfea246-816c-443e-e038-afa29bd939c4"
      },
      "source": [
        "# This function is adapted from a Princeton Data Science Workshop (https://colab.research.google.com/drive/1J-QVJyy8ExPU2oQR3C-6U0G74ocxtNkg?usp=sharing)\n",
        "# Use cross validation to find optimal parameters\n",
        "\n",
        "# Cross validation to find the best k \n",
        "# choose k between 1 to 30\n",
        "k_range = range(1, 30)\n",
        "k_scores = []\n",
        "# use iteration to calculate different k in models, then return the average accuracy based on the cross validation\n",
        "for k in k_range:\n",
        "    knn = KNeighborsClassifier(n_neighbors=k)\n",
        "    scores = cross_val_score(knn, train_vocab, train_labels, cv=10, scoring='accuracy')\n",
        "    k_scores.append(scores.mean())\n",
        "\n",
        "# plot to see clearly\n",
        "plt.plot(k_range, k_scores)\n",
        "plt.xlabel('Value of K for KNN')\n",
        "plt.ylabel('Cross-Validated Accuracy')\n",
        "plt.show()\n",
        "\n",
        "print(\"k = \" + str(k_scores.index(max(k_scores))) + \" gave the highest accuracy score of \" + str(max(k_scores)))"
      ],
      "execution_count": null,
      "outputs": [
        {
          "output_type": "display_data",
          "data": {
            "image/png": "[encoded data removed]",
            "text/plain": [
              "<Figure size 432x288 with 1 Axes>"
            ]
          },
          "metadata": {
            "tags": [],
            "needs_background": "light"
          }
        },
        {
          "output_type": "stream",
          "text": [
            "k = 18 gave the highest accuracy score of 0.8148613435424833\n"
          ],
          "name": "stdout"
        }
      ]
    },
    {
      "cell_type": "markdown",
      "metadata": {
        "id": "iel4CWRwm_NN"
      },
      "source": [
        "### Grid Search"
      ]
    },
    {
      "cell_type": "code",
      "metadata": {
        "id": "4MZzmt3AK6g9",
        "colab": {
          "base_uri": "https://localhost:8080/"
        },
        "outputId": "179fcc3f-6f39-4dc0-a003-0e54e050a991"
      },
      "source": [
        "# Grid Search for Parameter Tuning\n",
        "parameters = {'algorithm':('auto', 'ball_tree', 'kd_tree', 'brute'), 'weights':('uniform', 'distance')}\n",
        "knn = GridSearchCV(KNeighborsClassifier(), parameters)\n",
        "knn.fit(train_vocab, train_labels)\n",
        "\n",
        "\n",
        "knn.score(test_vocab, test_labels)\n",
        "## results(knn, test_vocab, test_labels)"
      ],
      "execution_count": null,
      "outputs": [
        {
          "output_type": "stream",
          "text": [
            "/usr/local/lib/python3.7/dist-packages/sklearn/neighbors/_base.py:414: UserWarning: cannot use tree with sparse input: using brute force\n",
            "  warnings.warn(\"cannot use tree with sparse input: \"\n",
            "/usr/local/lib/python3.7/dist-packages/sklearn/neighbors/_base.py:414: UserWarning: cannot use tree with sparse input: using brute force\n",
            "  warnings.warn(\"cannot use tree with sparse input: \"\n",
            "/usr/local/lib/python3.7/dist-packages/sklearn/neighbors/_base.py:414: UserWarning: cannot use tree with sparse input: using brute force\n",
            "  warnings.warn(\"cannot use tree with sparse input: \"\n",
            "/usr/local/lib/python3.7/dist-packages/sklearn/neighbors/_base.py:414: UserWarning: cannot use tree with sparse input: using brute force\n",
            "  warnings.warn(\"cannot use tree with sparse input: \"\n",
            "/usr/local/lib/python3.7/dist-packages/sklearn/neighbors/_base.py:414: UserWarning: cannot use tree with sparse input: using brute force\n",
            "  warnings.warn(\"cannot use tree with sparse input: \"\n",
            "/usr/local/lib/python3.7/dist-packages/sklearn/neighbors/_base.py:414: UserWarning: cannot use tree with sparse input: using brute force\n",
            "  warnings.warn(\"cannot use tree with sparse input: \"\n",
            "/usr/local/lib/python3.7/dist-packages/sklearn/neighbors/_base.py:414: UserWarning: cannot use tree with sparse input: using brute force\n",
            "  warnings.warn(\"cannot use tree with sparse input: \"\n",
            "/usr/local/lib/python3.7/dist-packages/sklearn/neighbors/_base.py:414: UserWarning: cannot use tree with sparse input: using brute force\n",
            "  warnings.warn(\"cannot use tree with sparse input: \"\n",
            "/usr/local/lib/python3.7/dist-packages/sklearn/neighbors/_base.py:414: UserWarning: cannot use tree with sparse input: using brute force\n",
            "  warnings.warn(\"cannot use tree with sparse input: \"\n",
            "/usr/local/lib/python3.7/dist-packages/sklearn/neighbors/_base.py:414: UserWarning: cannot use tree with sparse input: using brute force\n",
            "  warnings.warn(\"cannot use tree with sparse input: \"\n",
            "/usr/local/lib/python3.7/dist-packages/sklearn/neighbors/_base.py:414: UserWarning: cannot use tree with sparse input: using brute force\n",
            "  warnings.warn(\"cannot use tree with sparse input: \"\n",
            "/usr/local/lib/python3.7/dist-packages/sklearn/neighbors/_base.py:414: UserWarning: cannot use tree with sparse input: using brute force\n",
            "  warnings.warn(\"cannot use tree with sparse input: \"\n",
            "/usr/local/lib/python3.7/dist-packages/sklearn/neighbors/_base.py:414: UserWarning: cannot use tree with sparse input: using brute force\n",
            "  warnings.warn(\"cannot use tree with sparse input: \"\n",
            "/usr/local/lib/python3.7/dist-packages/sklearn/neighbors/_base.py:414: UserWarning: cannot use tree with sparse input: using brute force\n",
            "  warnings.warn(\"cannot use tree with sparse input: \"\n",
            "/usr/local/lib/python3.7/dist-packages/sklearn/neighbors/_base.py:414: UserWarning: cannot use tree with sparse input: using brute force\n",
            "  warnings.warn(\"cannot use tree with sparse input: \"\n",
            "/usr/local/lib/python3.7/dist-packages/sklearn/neighbors/_base.py:414: UserWarning: cannot use tree with sparse input: using brute force\n",
            "  warnings.warn(\"cannot use tree with sparse input: \"\n",
            "/usr/local/lib/python3.7/dist-packages/sklearn/neighbors/_base.py:414: UserWarning: cannot use tree with sparse input: using brute force\n",
            "  warnings.warn(\"cannot use tree with sparse input: \"\n",
            "/usr/local/lib/python3.7/dist-packages/sklearn/neighbors/_base.py:414: UserWarning: cannot use tree with sparse input: using brute force\n",
            "  warnings.warn(\"cannot use tree with sparse input: \"\n",
            "/usr/local/lib/python3.7/dist-packages/sklearn/neighbors/_base.py:414: UserWarning: cannot use tree with sparse input: using brute force\n",
            "  warnings.warn(\"cannot use tree with sparse input: \"\n",
            "/usr/local/lib/python3.7/dist-packages/sklearn/neighbors/_base.py:414: UserWarning: cannot use tree with sparse input: using brute force\n",
            "  warnings.warn(\"cannot use tree with sparse input: \"\n"
          ],
          "name": "stderr"
        },
        {
          "output_type": "execute_result",
          "data": {
            "text/plain": [
              "0.8227498619547211"
            ]
          },
          "metadata": {
            "tags": []
          },
          "execution_count": 13
        }
      ]
    },
    {
      "cell_type": "markdown",
      "metadata": {
        "id": "Fhosh85tnEbb"
      },
      "source": [
        "### Run optimized version"
      ]
    },
    {
      "cell_type": "code",
      "metadata": {
        "id": "zyFGl8tViTRZ",
        "colab": {
          "base_uri": "https://localhost:8080/"
        },
        "outputId": "84969464-0e8a-4f7a-ba8f-4f764a918204"
      },
      "source": [
        "neigh = KNeighborsClassifier(n_neighbors=15)\n",
        "neigh = neigh.fit(train_vocab, train_labels)\n",
        "neighScore = neigh.score(test_vocab, test_labels)\n",
        "print(neighScore)\n",
        "\n",
        "# results(model, test_vocab, test_labels) \n"
      ],
      "execution_count": null,
      "outputs": [
        {
          "output_type": "stream",
          "text": [
            "0.8244064053009387\n"
          ],
          "name": "stdout"
        }
      ]
    },
    {
      "cell_type": "markdown",
      "metadata": {
        "id": "bHlqGOXIncpY"
      },
      "source": [
        "## Logistic Regression"
      ]
    },
    {
      "cell_type": "markdown",
      "metadata": {
        "id": "-DT5Gsornf5n"
      },
      "source": [
        "### Grid Search"
      ]
    },
    {
      "cell_type": "code",
      "metadata": {
        "id": "DJtS8X_CGHtt",
        "colab": {
          "base_uri": "https://localhost:8080/"
        },
        "outputId": "0d96385f-b414-41e9-d651-a47734be54ae"
      },
      "source": [
        "#GridSearch to hypertune parameters of logistic regression\n",
        "\n",
        "parameters = {'solver':('newton-cg', 'lbfgs', 'liblinear', 'sag', 'saga')}\n",
        "lr = GridSearchCV(LogisticRegression(), parameters)\n",
        "lr.fit(train_vocab, train_labels)\n",
        "estimator = lr.best_estimator_\n",
        "\n",
        "print(estimator)\n",
        "## results(knn, test_vocab, test_labels)"
      ],
      "execution_count": null,
      "outputs": [
        {
          "output_type": "stream",
          "text": [
            "/usr/local/lib/python3.7/dist-packages/sklearn/linear_model/_sag.py:330: ConvergenceWarning: The max_iter was reached which means the coef_ did not converge\n",
            "  \"the coef_ did not converge\", ConvergenceWarning)\n",
            "/usr/local/lib/python3.7/dist-packages/sklearn/linear_model/_sag.py:330: ConvergenceWarning: The max_iter was reached which means the coef_ did not converge\n",
            "  \"the coef_ did not converge\", ConvergenceWarning)\n"
          ],
          "name": "stderr"
        },
        {
          "output_type": "stream",
          "text": [
            "LogisticRegression(C=1.0, class_weight=None, dual=False, fit_intercept=True,\n",
            "                   intercept_scaling=1, l1_ratio=None, max_iter=100,\n",
            "                   multi_class='auto', n_jobs=None, penalty='l2',\n",
            "                   random_state=None, solver='newton-cg', tol=0.0001, verbose=0,\n",
            "                   warm_start=False)\n"
          ],
          "name": "stdout"
        }
      ]
    },
    {
      "cell_type": "markdown",
      "metadata": {
        "id": "PWQ-h5t6n9BL"
      },
      "source": [
        "### Run optimized version"
      ]
    },
    {
      "cell_type": "code",
      "metadata": {
        "id": "_fBe4_RNGZA_",
        "colab": {
          "base_uri": "https://localhost:8080/"
        },
        "outputId": "15bc8e1c-4c2b-4865-e4d9-6090d51d85ba"
      },
      "source": [
        "clf = LogisticRegression(C=1.0, class_weight=None, dual=False, fit_intercept=True,\n",
        "                   intercept_scaling=1, l1_ratio=None, max_iter=10000,\n",
        "                   multi_class='auto', n_jobs=None, penalty='l2',\n",
        "                   random_state=None, solver='saga', tol=0.0001, verbose=0,\n",
        "                   warm_start=False).fit(train_vocab, train_labels)\n",
        "clf.predict(test_vocab)\n",
        "clfscore = clf.score(test_vocab, test_labels)\n",
        "print(clfscore)"
      ],
      "execution_count": null,
      "outputs": [
        {
          "output_type": "stream",
          "text": [
            "0.8354500276090557\n"
          ],
          "name": "stdout"
        }
      ]
    },
    {
      "cell_type": "markdown",
      "metadata": {
        "id": "93fsfOuXbqzT"
      },
      "source": [
        "## SVC"
      ]
    },
    {
      "cell_type": "markdown",
      "metadata": {
        "id": "hG3Pc8mprrLo"
      },
      "source": [
        "### Grid Search"
      ]
    },
    {
      "cell_type": "code",
      "metadata": {
        "id": "H4NGbpQp_mZd",
        "colab": {
          "base_uri": "https://localhost:8080/"
        },
        "outputId": "28683192-ef5b-4642-9777-fa5509c8e0e5"
      },
      "source": [
        "from sklearn import svm, datasets\n",
        "from sklearn.model_selection import GridSearchCV\n",
        "parameters = {'kernel':('linear', 'rbf'), 'C':[1, 10]}\n",
        "svc = svm.SVC()\n",
        "svc = GridSearchCV(svc, parameters)\n",
        "svc.fit(train_vocab, train_labels)"
      ],
      "execution_count": null,
      "outputs": [
        {
          "output_type": "execute_result",
          "data": {
            "text/plain": [
              "GridSearchCV(cv=None, error_score=nan,\n",
              "             estimator=SVC(C=1.0, break_ties=False, cache_size=200,\n",
              "                           class_weight=None, coef0=0.0,\n",
              "                           decision_function_shape='ovr', degree=3,\n",
              "                           gamma='scale', kernel='rbf', max_iter=-1,\n",
              "                           probability=False, random_state=None, shrinking=True,\n",
              "                           tol=0.001, verbose=False),\n",
              "             iid='deprecated', n_jobs=None,\n",
              "             param_grid={'C': [1, 10], 'kernel': ('linear', 'rbf')},\n",
              "             pre_dispatch='2*n_jobs', refit=True, return_train_score=False,\n",
              "             scoring=None, verbose=0)"
            ]
          },
          "metadata": {
            "tags": []
          },
          "execution_count": 17
        }
      ]
    },
    {
      "cell_type": "markdown",
      "metadata": {
        "id": "W6TQdDsRsEUO"
      },
      "source": [
        "### Run optimized version"
      ]
    },
    {
      "cell_type": "code",
      "metadata": {
        "id": "4OPyFS98r8SR",
        "colab": {
          "base_uri": "https://localhost:8080/"
        },
        "outputId": "cec05412-279a-4e3c-94b4-1d44141f4b49"
      },
      "source": [
        "svcScore = svc.score(test_vocab, test_labels)\r\n",
        "print(svcScore)"
      ],
      "execution_count": null,
      "outputs": [
        {
          "output_type": "stream",
          "text": [
            "0.8382109331860851\n"
          ],
          "name": "stdout"
        }
      ]
    },
    {
      "cell_type": "markdown",
      "metadata": {
        "id": "mnbOevNOsHdk"
      },
      "source": [
        "## Random Forest"
      ]
    },
    {
      "cell_type": "markdown",
      "metadata": {
        "id": "0rNuRuGKskc1"
      },
      "source": [
        "### Run unoptimized verision"
      ]
    },
    {
      "cell_type": "code",
      "metadata": {
        "id": "qN3JIYAPNrvP",
        "colab": {
          "base_uri": "https://localhost:8080/"
        },
        "outputId": "85b1d479-e6e6-4284-ccbb-ead1285c17a0"
      },
      "source": [
        "rfc = RandomForestClassifier(max_depth=2, random_state=0)\n",
        "rfc.fit(train_vocab, train_labels)\n",
        "rfcScore = rfc.score(test_vocab, test_labels)\n",
        "print(rfcScore)"
      ],
      "execution_count": null,
      "outputs": [
        {
          "output_type": "stream",
          "text": [
            "0.8139149641082275\n"
          ],
          "name": "stdout"
        }
      ]
    },
    {
      "cell_type": "markdown",
      "metadata": {
        "id": "apiGoTVvsoK9"
      },
      "source": [
        "### Grid Search"
      ]
    },
    {
      "cell_type": "code",
      "metadata": {
        "id": "eebDTL6LOeWn",
        "colab": {
          "base_uri": "https://localhost:8080/"
        },
        "outputId": "de12039a-38bc-42f1-f6d5-0b35632f906c"
      },
      "source": [
        "parameters = {'criterion':('gini','entropy')}\n",
        "sd = GridSearchCV(RandomForestClassifier(), parameters)\n",
        "sd.fit(train_vocab, train_labels)\n",
        "param = sd.best_params_\n",
        "estimator = sd.best_estimator_\n",
        "print(estimator)\n"
      ],
      "execution_count": null,
      "outputs": [
        {
          "output_type": "stream",
          "text": [
            "RandomForestClassifier(bootstrap=True, ccp_alpha=0.0, class_weight=None,\n",
            "                       criterion='gini', max_depth=None, max_features='auto',\n",
            "                       max_leaf_nodes=None, max_samples=None,\n",
            "                       min_impurity_decrease=0.0, min_impurity_split=None,\n",
            "                       min_samples_leaf=1, min_samples_split=2,\n",
            "                       min_weight_fraction_leaf=0.0, n_estimators=100,\n",
            "                       n_jobs=None, oob_score=False, random_state=None,\n",
            "                       verbose=0, warm_start=False)\n"
          ],
          "name": "stdout"
        }
      ]
    },
    {
      "cell_type": "markdown",
      "metadata": {
        "id": "b1OFpogMsq0G"
      },
      "source": [
        "### Run optimized version"
      ]
    },
    {
      "cell_type": "code",
      "metadata": {
        "id": "vvAgB7K4QTQ0"
      },
      "source": [
        "tr = RandomForestClassifier(bootstrap=True, ccp_alpha=0.0, class_weight=None,\n",
        "                       criterion='entropy', max_depth=None, max_features='auto',\n",
        "                       max_leaf_nodes=None, max_samples=None,\n",
        "                       min_impurity_decrease=0.0, min_impurity_split=None,\n",
        "                       min_samples_leaf=1, min_samples_split=2,\n",
        "                       min_weight_fraction_leaf=0.0, n_estimators=100,\n",
        "                       n_jobs=None, oob_score=False, random_state=None,\n",
        "                       verbose=0, warm_start=False)\n",
        "tr.fit(train_vocab, train_labels)\n",
        "trScore = tr.score(test_vocab, test_labels)"
      ],
      "execution_count": null,
      "outputs": []
    },
    {
      "cell_type": "markdown",
      "metadata": {
        "id": "Wj-BRRv8f4g7"
      },
      "source": [
        "# Ensemble Classifier Testing"
      ]
    },
    {
      "cell_type": "code",
      "metadata": {
        "id": "w3txNKHPbsiJ"
      },
      "source": [
        "def predict(model, weight, val, ensemblePredictions, index):\n",
        "    prediction = model.predict(val)\n",
        "    if prediction == 'positive':\n",
        "       ensemblePredictions[index] += 1*(weight*weight)\n",
        "    else:\n",
        "      ensemblePredictions[index] -= 2*(weight)"
      ],
      "execution_count": null,
      "outputs": []
    },
    {
      "cell_type": "code",
      "metadata": {
        "id": "GpP1DflMaYCD",
        "colab": {
          "base_uri": "https://localhost:8080/",
          "height": 351
        },
        "outputId": "fc778d52-2aa1-4e9c-8169-26bf6be33476"
      },
      "source": [
        "ensemblePredictions = []\n",
        "finalVerdict = []\n",
        "index = 0\n",
        "for val in test_vocab:\n",
        "    ensemblePredictions.append(0)\n",
        "    predict(clf, 0.8, val, ensemblePredictions, index)\n",
        "    # predict(model, 0.5, val, ensemblePredictions, index)   # RNN model - not added\n",
        "    predict(bnb, bnbScore, val, ensemblePredictions, index)\n",
        "    # predict(multi, multiScore, val, ensemblePredictions, index)    # MultiNB removed for efficiency\n",
        "    predict(neigh, neighScore, val, ensemblePredictions, index)\n",
        "    predict(tr, trScore, val, ensemblePredictions, index)\n",
        "    predict(svc, svcScore, val, ensemblePredictions, index)\n",
        "    if ensemblePredictions[index] > 0:\n",
        "      finalVerdict.append('positive')\n",
        "    else:\n",
        "       finalVerdict.append('negative')\n",
        "    index += 1\n",
        "\n",
        "from sklearn.metrics import accuracy_score\n",
        "print(accuracy_score(test_labels, finalVerdict))\n",
        "count = 0\n",
        "for val in finalVerdict:\n",
        "  if val == 'negative': count += 1\n",
        "\n",
        "print(count)"
      ],
      "execution_count": null,
      "outputs": [
        {
          "output_type": "error",
          "ename": "AttributeError",
          "evalue": "ignored",
          "traceback": [
            "\u001b[0;31m---------------------------------------------------------------------------\u001b[0m",
            "\u001b[0;31mAttributeError\u001b[0m                            Traceback (most recent call last)",
            "\u001b[0;32m<ipython-input-26-e378bd56756a>\u001b[0m in \u001b[0;36m<module>\u001b[0;34m()\u001b[0m\n\u001b[1;32m      6\u001b[0m   \u001b[0;31m#  predict(clf, 0.8, val, ensemblePredictions, index)\u001b[0m\u001b[0;34m\u001b[0m\u001b[0;34m\u001b[0m\u001b[0;34m\u001b[0m\u001b[0m\n\u001b[1;32m      7\u001b[0m     \u001b[0;31m# predict(model, 0.5, val, ensemblePredictions, index)   # RNN model - not added\u001b[0m\u001b[0;34m\u001b[0m\u001b[0;34m\u001b[0m\u001b[0;34m\u001b[0m\u001b[0m\n\u001b[0;32m----> 8\u001b[0;31m     \u001b[0mpredict\u001b[0m\u001b[0;34m(\u001b[0m\u001b[0mbnb\u001b[0m\u001b[0;34m,\u001b[0m \u001b[0mbnbScore\u001b[0m\u001b[0;34m,\u001b[0m \u001b[0mval\u001b[0m\u001b[0;34m,\u001b[0m \u001b[0mensemblePredictions\u001b[0m\u001b[0;34m,\u001b[0m \u001b[0mindex\u001b[0m\u001b[0;34m)\u001b[0m\u001b[0;34m\u001b[0m\u001b[0;34m\u001b[0m\u001b[0m\n\u001b[0m\u001b[1;32m      9\u001b[0m     \u001b[0;31m# predict(multi, multiScore, val, ensemblePredictions, index)    # MultiNB removed for efficiency\u001b[0m\u001b[0;34m\u001b[0m\u001b[0;34m\u001b[0m\u001b[0;34m\u001b[0m\u001b[0m\n\u001b[1;32m     10\u001b[0m     \u001b[0mpredict\u001b[0m\u001b[0;34m(\u001b[0m\u001b[0mneigh\u001b[0m\u001b[0;34m,\u001b[0m \u001b[0mneighScore\u001b[0m\u001b[0;34m,\u001b[0m \u001b[0mval\u001b[0m\u001b[0;34m,\u001b[0m \u001b[0mensemblePredictions\u001b[0m\u001b[0;34m,\u001b[0m \u001b[0mindex\u001b[0m\u001b[0;34m)\u001b[0m\u001b[0;34m\u001b[0m\u001b[0;34m\u001b[0m\u001b[0m\n",
            "\u001b[0;32m<ipython-input-24-eeaa11773901>\u001b[0m in \u001b[0;36mpredict\u001b[0;34m(model, weight, val, ensemblePredictions, index)\u001b[0m\n\u001b[1;32m      1\u001b[0m \u001b[0;32mdef\u001b[0m \u001b[0mpredict\u001b[0m\u001b[0;34m(\u001b[0m\u001b[0mmodel\u001b[0m\u001b[0;34m,\u001b[0m \u001b[0mweight\u001b[0m\u001b[0;34m,\u001b[0m \u001b[0mval\u001b[0m\u001b[0;34m,\u001b[0m \u001b[0mensemblePredictions\u001b[0m\u001b[0;34m,\u001b[0m \u001b[0mindex\u001b[0m\u001b[0;34m)\u001b[0m\u001b[0;34m:\u001b[0m\u001b[0;34m\u001b[0m\u001b[0;34m\u001b[0m\u001b[0m\n\u001b[0;32m----> 2\u001b[0;31m     \u001b[0mprediction\u001b[0m \u001b[0;34m=\u001b[0m \u001b[0mmodel\u001b[0m\u001b[0;34m.\u001b[0m\u001b[0msparse\u001b[0m\u001b[0;34m.\u001b[0m\u001b[0mreorder\u001b[0m\u001b[0;34m.\u001b[0m\u001b[0mpredict\u001b[0m\u001b[0;34m(\u001b[0m\u001b[0mval\u001b[0m\u001b[0;34m)\u001b[0m\u001b[0;34m\u001b[0m\u001b[0;34m\u001b[0m\u001b[0m\n\u001b[0m\u001b[1;32m      3\u001b[0m     \u001b[0;32mif\u001b[0m \u001b[0mprediction\u001b[0m \u001b[0;34m==\u001b[0m \u001b[0;34m'positive'\u001b[0m\u001b[0;34m:\u001b[0m\u001b[0;34m\u001b[0m\u001b[0;34m\u001b[0m\u001b[0m\n\u001b[1;32m      4\u001b[0m        \u001b[0mensemblePredictions\u001b[0m\u001b[0;34m[\u001b[0m\u001b[0mindex\u001b[0m\u001b[0;34m]\u001b[0m \u001b[0;34m+=\u001b[0m \u001b[0;36m1\u001b[0m\u001b[0;34m*\u001b[0m\u001b[0;34m(\u001b[0m\u001b[0mweight\u001b[0m\u001b[0;34m*\u001b[0m\u001b[0mweight\u001b[0m\u001b[0;34m*\u001b[0m\u001b[0mweight\u001b[0m\u001b[0;34m*\u001b[0m\u001b[0mweight\u001b[0m\u001b[0;34m)\u001b[0m\u001b[0;34m\u001b[0m\u001b[0;34m\u001b[0m\u001b[0m\n\u001b[1;32m      5\u001b[0m     \u001b[0;32melse\u001b[0m\u001b[0;34m:\u001b[0m\u001b[0;34m\u001b[0m\u001b[0;34m\u001b[0m\u001b[0m\n",
            "\u001b[0;31mAttributeError\u001b[0m: 'BernoulliNB' object has no attribute 'sparse'"
          ]
        }
      ]
    },
    {
      "cell_type": "markdown",
      "metadata": {
        "id": "z7lrQfwCCWd3"
      },
      "source": [
        "# Evaluation"
      ]
    },
    {
      "cell_type": "markdown",
      "metadata": {
        "id": "CKFe_faM2Zq_"
      },
      "source": [
        "Code in this section is from: https://abdalimran.github.io/2019-06-01/Drawing-multiple-ROC-Curves-in-a-single-plot"
      ]
    },
    {
      "cell_type": "code",
      "metadata": {
        "id": "EQwcDqO7CnKy",
        "colab": {
          "base_uri": "https://localhost:8080/",
          "height": 426
        },
        "outputId": "ab241269-394e-4447-c73a-65132cc62caf"
      },
      "source": [
        "plt.figure(0).clf()\r\n",
        "fpr, tpr, thresh = metrics.roc_curve(test_labels, tr.predict(test_vocab))\r\n",
        "auc = metrics.roc_auc_score(test_labels, tr.predict(test_vocab))\r\n",
        "plt.plot(fpr,tpr,label=\"data 1, auc=\"+str(auc))\r\n",
        "\r\n",
        "fpr, tpr, thresh = metrics.roc_curve(test_labels, neigh.predict(test_vocab))\r\n",
        "auc = metrics.roc_auc_score(test_labels, neigh.predict(test_vocab))\r\n",
        "plt.plot(fpr,tpr,label=\"data 2, auc=\"+str(auc))\r\n",
        "\r\n",
        "plt.legend(loc=0)"
      ],
      "execution_count": null,
      "outputs": [
        {
          "output_type": "error",
          "ename": "ValueError",
          "evalue": "ignored",
          "traceback": [
            "\u001b[0;31m---------------------------------------------------------------------------\u001b[0m",
            "\u001b[0;31mValueError\u001b[0m                                Traceback (most recent call last)",
            "\u001b[0;32m<ipython-input-27-6447030c5178>\u001b[0m in \u001b[0;36m<module>\u001b[0;34m()\u001b[0m\n\u001b[1;32m      1\u001b[0m \u001b[0mplt\u001b[0m\u001b[0;34m.\u001b[0m\u001b[0mfigure\u001b[0m\u001b[0;34m(\u001b[0m\u001b[0;36m0\u001b[0m\u001b[0;34m)\u001b[0m\u001b[0;34m.\u001b[0m\u001b[0mclf\u001b[0m\u001b[0;34m(\u001b[0m\u001b[0;34m)\u001b[0m\u001b[0;34m\u001b[0m\u001b[0;34m\u001b[0m\u001b[0m\n\u001b[0;32m----> 2\u001b[0;31m \u001b[0mfpr\u001b[0m\u001b[0;34m,\u001b[0m \u001b[0mtpr\u001b[0m\u001b[0;34m,\u001b[0m \u001b[0mthresh\u001b[0m \u001b[0;34m=\u001b[0m \u001b[0mmetrics\u001b[0m\u001b[0;34m.\u001b[0m\u001b[0mroc_curve\u001b[0m\u001b[0;34m(\u001b[0m\u001b[0mtest_labels\u001b[0m\u001b[0;34m,\u001b[0m \u001b[0mtr\u001b[0m\u001b[0;34m.\u001b[0m\u001b[0mpredict\u001b[0m\u001b[0;34m(\u001b[0m\u001b[0mtest_vocab\u001b[0m\u001b[0;34m)\u001b[0m\u001b[0;34m)\u001b[0m\u001b[0;34m\u001b[0m\u001b[0;34m\u001b[0m\u001b[0m\n\u001b[0m\u001b[1;32m      3\u001b[0m \u001b[0mauc\u001b[0m \u001b[0;34m=\u001b[0m \u001b[0mmetrics\u001b[0m\u001b[0;34m.\u001b[0m\u001b[0mroc_auc_score\u001b[0m\u001b[0;34m(\u001b[0m\u001b[0mtest_labels\u001b[0m\u001b[0;34m,\u001b[0m \u001b[0mtr\u001b[0m\u001b[0;34m.\u001b[0m\u001b[0mpredict\u001b[0m\u001b[0;34m(\u001b[0m\u001b[0mtest_vocab\u001b[0m\u001b[0;34m)\u001b[0m\u001b[0;34m)\u001b[0m\u001b[0;34m\u001b[0m\u001b[0;34m\u001b[0m\u001b[0m\n\u001b[1;32m      4\u001b[0m \u001b[0mplt\u001b[0m\u001b[0;34m.\u001b[0m\u001b[0mplot\u001b[0m\u001b[0;34m(\u001b[0m\u001b[0mfpr\u001b[0m\u001b[0;34m,\u001b[0m\u001b[0mtpr\u001b[0m\u001b[0;34m,\u001b[0m\u001b[0mlabel\u001b[0m\u001b[0;34m=\u001b[0m\u001b[0;34m\"data 1, auc=\"\u001b[0m\u001b[0;34m+\u001b[0m\u001b[0mstr\u001b[0m\u001b[0;34m(\u001b[0m\u001b[0mauc\u001b[0m\u001b[0;34m)\u001b[0m\u001b[0;34m)\u001b[0m\u001b[0;34m\u001b[0m\u001b[0;34m\u001b[0m\u001b[0m\n\u001b[1;32m      5\u001b[0m \u001b[0;34m\u001b[0m\u001b[0m\n",
            "\u001b[0;32m/usr/local/lib/python3.7/dist-packages/sklearn/metrics/_ranking.py\u001b[0m in \u001b[0;36mroc_curve\u001b[0;34m(y_true, y_score, pos_label, sample_weight, drop_intermediate)\u001b[0m\n\u001b[1;32m    769\u001b[0m     \"\"\"\n\u001b[1;32m    770\u001b[0m     fps, tps, thresholds = _binary_clf_curve(\n\u001b[0;32m--> 771\u001b[0;31m         y_true, y_score, pos_label=pos_label, sample_weight=sample_weight)\n\u001b[0m\u001b[1;32m    772\u001b[0m \u001b[0;34m\u001b[0m\u001b[0m\n\u001b[1;32m    773\u001b[0m     \u001b[0;31m# Attempt to drop thresholds corresponding to points in between and\u001b[0m\u001b[0;34m\u001b[0m\u001b[0;34m\u001b[0m\u001b[0;34m\u001b[0m\u001b[0m\n",
            "\u001b[0;32m/usr/local/lib/python3.7/dist-packages/sklearn/metrics/_ranking.py\u001b[0m in \u001b[0;36m_binary_clf_curve\u001b[0;34m(y_true, y_score, pos_label, sample_weight)\u001b[0m\n\u001b[1;32m    562\u001b[0m                          \u001b[0;34m\"take value in {{0, 1}} or {{-1, 1}} or \"\u001b[0m\u001b[0;34m\u001b[0m\u001b[0;34m\u001b[0m\u001b[0m\n\u001b[1;32m    563\u001b[0m                          \"pass pos_label explicitly.\".format(\n\u001b[0;32m--> 564\u001b[0;31m                              classes_repr=classes_repr))\n\u001b[0m\u001b[1;32m    565\u001b[0m     \u001b[0;32melif\u001b[0m \u001b[0mpos_label\u001b[0m \u001b[0;32mis\u001b[0m \u001b[0;32mNone\u001b[0m\u001b[0;34m:\u001b[0m\u001b[0;34m\u001b[0m\u001b[0;34m\u001b[0m\u001b[0m\n\u001b[1;32m    566\u001b[0m         \u001b[0mpos_label\u001b[0m \u001b[0;34m=\u001b[0m \u001b[0;36m1.\u001b[0m\u001b[0;34m\u001b[0m\u001b[0;34m\u001b[0m\u001b[0m\n",
            "\u001b[0;31mValueError\u001b[0m: y_true takes value in {'negative', 'positive'} and pos_label is not specified: either make y_true take value in {0, 1} or {-1, 1} or pass pos_label explicitly."
          ]
        },
        {
          "output_type": "display_data",
          "data": {
            "text/plain": [
              "<Figure size 432x288 with 0 Axes>"
            ]
          },
          "metadata": {
            "tags": []
          }
        }
      ]
    },
    {
      "cell_type": "code",
      "metadata": {
        "id": "TJeJXFsHCn8B"
      },
      "source": [
        "metrics.plot_roc_curve(clf, test_vocab, test_labels)\r\n",
        "metrics.plot_precision_recall_curve(clf, test_vocab, test_labels)\r\n",
        "plt.show()  "
      ],
      "execution_count": null,
      "outputs": []
    },
    {
      "cell_type": "code",
      "metadata": {
        "id": "9WN6soxw251t"
      },
      "source": [
        "# change test_labels into numerical form\n",
        "labelInFloat = []\n",
        "for label in test_labels:\n",
        "  if label == 'negative': labelInFloat.append(0.0)\n",
        "  elif label == 'positive': labelInFloat.append(1.0)\n",
        "  else: print('error')"
      ],
      "execution_count": null,
      "outputs": []
    },
    {
      "cell_type": "code",
      "metadata": {
        "id": "qz-DY5x8Cqep"
      },
      "source": [
        "# calculate the roc curve and auc score for each classifier\r\n",
        "\r\n",
        "classifiers = [rfc, clf, svc, neigh, multi, bnb]\r\n",
        "result_table = pd.DataFrame(columns=['classifiers', 'fpr','tpr','auc'])\r\n",
        "# Train the models and record the results\r\n",
        "for cls in classifiers:\r\n",
        "    model = cls.fit(train_vocab, train_labels)\r\n",
        "    yproba = model.predict_proba(test_vocab)[::,1]\r\n",
        "    \r\n",
        "    fpr, tpr, _ = roc_curve(labelInFloat, yproba)\r\n",
        "    auc = roc_auc_score(labelInFloat, yproba)\r\n",
        "    \r\n",
        "    result_table = result_table.append({'classifiers':cls.__class__.__name__,\r\n",
        "                                        'fpr':fpr, \r\n",
        "                                        'tpr':tpr, \r\n",
        "                                        'auc':auc}, ignore_index=True)\r\n",
        "\r\n",
        "# Set name of the classifiers as index labels\r\n",
        "result_table.set_index('classifiers', inplace=True)"
      ],
      "execution_count": null,
      "outputs": []
    },
    {
      "cell_type": "code",
      "metadata": {
        "id": "kXT2_x8y2lfv"
      },
      "source": [
        "# code to add the ensemble classifer into results table\n",
        "fpr, tpr, _ = roc_curve(labelInFloat, finalVerdict)\n",
        "result_table = result_table.append({'classifiers':ens.__class__.__name__,\n",
        "                                        'fpr':fpr, \n",
        "                                        'tpr':tpr, \n",
        "                                        'auc':auc}, ignore_index=True)"
      ],
      "execution_count": null,
      "outputs": []
    },
    {
      "cell_type": "code",
      "metadata": {
        "id": "MQBwJsyZCwds"
      },
      "source": [
        "# plot all the curves on one figure\r\n",
        "fig = plt.figure(figsize=(8,6))\r\n",
        "\r\n",
        "for i in result_table.index:\r\n",
        "    plt.plot(result_table.loc[i]['fpr'], \r\n",
        "             result_table.loc[i]['tpr'], \r\n",
        "             label=\"{}, AUC={:.3f}\".format(i, result_table.loc[i]['auc']))\r\n",
        "    \r\n",
        "plt.plot([0,1], [0,1], color='orange', linestyle='--')\r\n",
        "\r\n",
        "plt.xticks(np.arange(0.0, 1.1, step=0.1))\r\n",
        "plt.xlabel(\"False Positive Rate\", fontsize=15)\r\n",
        "\r\n",
        "plt.yticks(np.arange(0.0, 1.1, step=0.1))\r\n",
        "plt.ylabel(\"True Positive Rate\", fontsize=15)\r\n",
        "\r\n",
        "plt.title('ROC Curve Analysis', fontweight='bold', fontsize=15)\r\n",
        "plt.legend(prop={'size':13}, loc='lower right')\r\n",
        "\r\n",
        "plt.show()"
      ],
      "execution_count": null,
      "outputs": []
    }
  ]
}